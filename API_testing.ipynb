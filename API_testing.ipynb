{
 "cells": [
  {
   "cell_type": "markdown",
   "metadata": {},
   "source": [
    "#### **DESARROLLO Y PRUEBA DE LOS ENDPOINTS**\n",
    "Se desarrolla cada endpoint de manera aislada, probando sus respuestas y asegurando su efectividad antes de integrarlos en el archivo `main.py`.\n",
    "\n",
    "Se utiliza el dataset procesado previamente."
   ]
  },
  {
   "cell_type": "code",
   "execution_count": 10,
   "metadata": {},
   "outputs": [],
   "source": [
    "import pandas as pd"
   ]
  },
  {
   "cell_type": "code",
   "execution_count": 11,
   "metadata": {},
   "outputs": [],
   "source": [
    "# Cargamos el dataset que se procesó previamente (parquet)\n",
    "movies_df = pd.read_parquet('movies_dataset_final.parquet')"
   ]
  },
  {
   "cell_type": "markdown",
   "metadata": {},
   "source": [
    "- Cantidad de filmaciones por mes:"
   ]
  },
  {
   "cell_type": "code",
   "execution_count": 15,
   "metadata": {},
   "outputs": [],
   "source": [
    "def cantidad_filmaciones_mes(mes: str) -> dict:\n",
    "    \"\"\"\n",
    "    Devuelve la cantidad de películas que fueron estrenadas en el mes consultado.\n",
    "    \n",
    "    Parámetros:\n",
    "    mes (str): Nombre del mes en español.\n",
    "    \n",
    "    Retorno:\n",
    "    dict: Mensaje con la cantidad de películas estrenadas en el mes.\n",
    "    \"\"\"\n",
    "    # Diccionario de meses en español a números\n",
    "    meses_diccionario = {\n",
    "        'enero': 1, 'febrero': 2, 'marzo': 3, 'abril': 4,\n",
    "        'mayo': 5, 'junio': 6, 'julio': 7, 'agosto': 8,\n",
    "        'septiembre': 9, 'octubre': 10, 'noviembre': 11, 'diciembre': 12\n",
    "    }\n",
    "    \n",
    "    # Convertimos el mes a su número correspondiente\n",
    "    mes_numero = meses_diccionario.get(mes.lower())\n",
    "    \n",
    "    if mes_numero:\n",
    "        # Filtramos las películas del mes del 'release_date'\n",
    "        cantidad = movies_df[movies_df['release_date'].dt.month == mes_numero].shape[0]\n",
    "        return {\"mensaje\": f\"{cantidad} películas fueron estrenadas en el mes de {mes.capitalize()}\"}\n",
    "    else:\n",
    "        return {\"error\": \"Mes no válido. Por favor, ingrese en español un mes válido.\"}\n"
   ]
  },
  {
   "cell_type": "code",
   "execution_count": 17,
   "metadata": {},
   "outputs": [
    {
     "data": {
      "text/plain": [
       "{'mensaje': '36901 películas fueron estrenadas en el mes de Enero'}"
      ]
     },
     "execution_count": 17,
     "metadata": {},
     "output_type": "execute_result"
    }
   ],
   "source": [
    "cantidad_filmaciones_mes(\"enero\")"
   ]
  },
  {
   "cell_type": "markdown",
   "metadata": {},
   "source": [
    "- Cantidad de filmaciones por día:"
   ]
  },
  {
   "cell_type": "code",
   "execution_count": 20,
   "metadata": {},
   "outputs": [],
   "source": [
    "def cantidad_filmaciones_dia(dia: str) -> dict:\n",
    "    \"\"\"\n",
    "    Devuelve la cantidad de películas que fueron estrenadas en el día de la semana consultado.\n",
    "    \n",
    "    Parámetros:\n",
    "    - dia (str): Nombre del día en español.\n",
    "    \n",
    "    Retorno:\n",
    "    - dict: Mensaje con la cantidad de películas estrenadas en el día.\n",
    "    \"\"\"\n",
    "    # Diccionario de días de la semana en español a su número correspondiente (lunes=0, domingo=6)\n",
    "    dias_diccionario = {\n",
    "        'lunes': 0, 'martes': 1, 'miércoles': 2, 'jueves': 3, \n",
    "        'viernes': 4, 'sábado': 5, 'domingo': 6\n",
    "    }\n",
    "    \n",
    "    # Convertimos el día a su número correspondiente\n",
    "    dia_numero = dias_diccionario.get(dia.lower())\n",
    "    \n",
    "    if dia_numero is not None:\n",
    "        # Filtramos las películas por el día de la semana del 'release_date'\n",
    "        cantidad = movies_df[movies_df['release_date'].dt.dayofweek == dia_numero].shape[0]\n",
    "        return {\"mensaje\": f\"{cantidad} películas fueron estrenadas el día {dia.capitalize()}\"}\n",
    "    else:\n",
    "        return {\"error\": \"Por favor, ingrese en español un día válido.\"}"
   ]
  },
  {
   "cell_type": "code",
   "execution_count": 21,
   "metadata": {},
   "outputs": [
    {
     "data": {
      "text/plain": [
       "{'mensaje': '71356 películas fueron estrenadas el día Jueves'}"
      ]
     },
     "execution_count": 21,
     "metadata": {},
     "output_type": "execute_result"
    }
   ],
   "source": [
    "cantidad_filmaciones_dia('jueves')"
   ]
  },
  {
   "cell_type": "markdown",
   "metadata": {},
   "source": [
    "- Por el título de la película y score:"
   ]
  },
  {
   "cell_type": "code",
   "execution_count": 22,
   "metadata": {},
   "outputs": [],
   "source": [
    "def score_titulo(titulo: str) -> dict:\n",
    "    \"\"\"\n",
    "    Devuelve el título, año de estreno y score de una filmación.\n",
    "\n",
    "    Parámetros:\n",
    "    - titulo (str): Título de la filmación.\n",
    "\n",
    "    Retorno:\n",
    "    - dict: Mensaje con el título, año de estreno y el score de la película.\n",
    "    \"\"\"\n",
    "    # Filtramos la película por el título\n",
    "    film = movies_df[movies_df['title'].str.lower() == titulo.lower()]\n",
    "    \n",
    "    if not film.empty:\n",
    "        # Extraemos el año de estreno y el score\n",
    "        titulo_film = film['title'].values[0]\n",
    "        año_estreno = film['release_year'].values[0]\n",
    "        score = film['vote_average'].values[0]\n",
    "        \n",
    "        return {\n",
    "            \"mensaje\": f\"La película '{titulo_film}' fue estrenada en el año {año_estreno} con un score de {score}\"\n",
    "        }\n",
    "    else:\n",
    "        return {\"error\": f\"No se encontró la película con el título '{titulo}'.\"}\n"
   ]
  },
  {
   "cell_type": "code",
   "execution_count": 37,
   "metadata": {},
   "outputs": [
    {
     "data": {
      "text/plain": [
       "{'mensaje': \"La película 'Iron Man' fue estrenada en el año 2008 con un score de 7.4\"}"
      ]
     },
     "execution_count": 37,
     "metadata": {},
     "output_type": "execute_result"
    }
   ],
   "source": [
    "score_titulo('iron man')"
   ]
  },
  {
   "cell_type": "markdown",
   "metadata": {},
   "source": [
    "- Por el título de la película y valoraciones:"
   ]
  },
  {
   "cell_type": "code",
   "execution_count": 38,
   "metadata": {},
   "outputs": [],
   "source": [
    "def votos_titulo(titulo: str) -> dict:\n",
    "    \"\"\"\n",
    "    Devuelve la cantidad de votos y el promedio de votaciones de una película.\n",
    "    \n",
    "    Parámetros:\n",
    "    - titulo (str): Título de la película.\n",
    "\n",
    "    Retorno:\n",
    "    - dict: Mensaje con la cantidad de votos y el promedio, o un mensaje si no cumple el mínimo de votos.\n",
    "    \"\"\"\n",
    "    # Filtramos la película por el título\n",
    "    film = movies_df[movies_df['title'].str.lower() == titulo.lower()]\n",
    "    \n",
    "    if not film.empty:\n",
    "        votos = film['vote_count'].values[0]\n",
    "        promedio_votos = film['vote_average'].values[0]\n",
    "        \n",
    "        # Verificamos si la película tiene al menos 2000 votos\n",
    "        if votos >= 2000:\n",
    "            return {\n",
    "                \"mensaje\": f\"La película '{titulo}' tiene {votos} valoraciones, con un promedio de {promedio_votos}\"\n",
    "            }\n",
    "        else:\n",
    "            return {\n",
    "                \"mensaje\": f\"La película '{titulo}' no cumple con el mínimo de 2000 votos. Solo tiene {votos} votos.\"\n",
    "            }\n",
    "    else:\n",
    "        return {\"error\": f\"No se encontró la película con el título '{titulo}'.\"}\n"
   ]
  },
  {
   "cell_type": "code",
   "execution_count": 39,
   "metadata": {},
   "outputs": [
    {
     "data": {
      "text/plain": [
       "{'mensaje': \"La película 'iron man' tiene 8951.0 valoraciones, con un promedio de 7.4\"}"
      ]
     },
     "execution_count": 39,
     "metadata": {},
     "output_type": "execute_result"
    }
   ],
   "source": [
    "votos_titulo('iron man')"
   ]
  },
  {
   "cell_type": "markdown",
   "metadata": {},
   "source": [
    "- Por el nombre del actor:"
   ]
  },
  {
   "cell_type": "code",
   "execution_count": 41,
   "metadata": {},
   "outputs": [],
   "source": [
    "def get_actor(nombre: str) -> dict:\n",
    "    \"\"\"\n",
    "    Devuelve información sobre un actor, incluyendo la cantidad de películas en las que ha participado\n",
    "    y el retorno promedio de sus películas.\n",
    "\n",
    "    Parámetros:\n",
    "    - nombre_actor (str): Nombre del actor.\n",
    "\n",
    "    Retorno:\n",
    "    - dict: Mensaje con el éxito del actor, la cantidad de películas y el retorno promedio.\n",
    "    \"\"\"\n",
    "    # Filtramos las películas en las que ha actuado el actor\n",
    "    peliculas_actor = movies_df[movies_df['cast'].str.contains(nombre, case=False, na=False)]\n",
    "    \n",
    "    if not peliculas_actor.empty:\n",
    "        cantidad_peliculas = peliculas_actor.shape[0]\n",
    "        retorno_total = peliculas_actor['return'].sum()\n",
    "        promedio_retorno = peliculas_actor['return'].mean()\n",
    "        \n",
    "        return {\n",
    "            \"mensaje\": f\"El actor '{nombre}' ha participado en {cantidad_peliculas} películas, \"\n",
    "                       f\"con un retorno total de {retorno_total} y un retorno promedio de {promedio_retorno:.2f}.\"\n",
    "        }\n",
    "    else:\n",
    "        return {\"error\": f\"No se encontraron películas en las que haya actuado '{nombre}'.\"}\n"
   ]
  },
  {
   "cell_type": "code",
   "execution_count": 42,
   "metadata": {},
   "outputs": [
    {
     "ename": "KeyError",
     "evalue": "'cast'",
     "output_type": "error",
     "traceback": [
      "\u001b[1;31m---------------------------------------------------------------------------\u001b[0m",
      "\u001b[1;31mKeyError\u001b[0m                                  Traceback (most recent call last)",
      "File \u001b[1;32mc:\\DYNAMO\\DATA SCIENCE\\Labs-MLOps\\venvmlops\\lib\\site-packages\\pandas\\core\\indexes\\base.py:3805\u001b[0m, in \u001b[0;36mIndex.get_loc\u001b[1;34m(self, key)\u001b[0m\n\u001b[0;32m   3804\u001b[0m \u001b[38;5;28;01mtry\u001b[39;00m:\n\u001b[1;32m-> 3805\u001b[0m     \u001b[38;5;28;01mreturn\u001b[39;00m \u001b[38;5;28;43mself\u001b[39;49m\u001b[38;5;241;43m.\u001b[39;49m\u001b[43m_engine\u001b[49m\u001b[38;5;241;43m.\u001b[39;49m\u001b[43mget_loc\u001b[49m\u001b[43m(\u001b[49m\u001b[43mcasted_key\u001b[49m\u001b[43m)\u001b[49m\n\u001b[0;32m   3806\u001b[0m \u001b[38;5;28;01mexcept\u001b[39;00m \u001b[38;5;167;01mKeyError\u001b[39;00m \u001b[38;5;28;01mas\u001b[39;00m err:\n",
      "File \u001b[1;32mindex.pyx:167\u001b[0m, in \u001b[0;36mpandas._libs.index.IndexEngine.get_loc\u001b[1;34m()\u001b[0m\n",
      "File \u001b[1;32mindex.pyx:196\u001b[0m, in \u001b[0;36mpandas._libs.index.IndexEngine.get_loc\u001b[1;34m()\u001b[0m\n",
      "File \u001b[1;32mpandas\\\\_libs\\\\hashtable_class_helper.pxi:7081\u001b[0m, in \u001b[0;36mpandas._libs.hashtable.PyObjectHashTable.get_item\u001b[1;34m()\u001b[0m\n",
      "File \u001b[1;32mpandas\\\\_libs\\\\hashtable_class_helper.pxi:7089\u001b[0m, in \u001b[0;36mpandas._libs.hashtable.PyObjectHashTable.get_item\u001b[1;34m()\u001b[0m\n",
      "\u001b[1;31mKeyError\u001b[0m: 'cast'",
      "\nThe above exception was the direct cause of the following exception:\n",
      "\u001b[1;31mKeyError\u001b[0m                                  Traceback (most recent call last)",
      "Cell \u001b[1;32mIn[42], line 1\u001b[0m\n\u001b[1;32m----> 1\u001b[0m \u001b[43mget_actor\u001b[49m\u001b[43m(\u001b[49m\u001b[38;5;124;43m'\u001b[39;49m\u001b[38;5;124;43mBen Affleck\u001b[39;49m\u001b[38;5;124;43m'\u001b[39;49m\u001b[43m)\u001b[49m\n",
      "Cell \u001b[1;32mIn[41], line 13\u001b[0m, in \u001b[0;36mget_actor\u001b[1;34m(nombre)\u001b[0m\n\u001b[0;32m      2\u001b[0m \u001b[38;5;250m\u001b[39m\u001b[38;5;124;03m\"\"\"\u001b[39;00m\n\u001b[0;32m      3\u001b[0m \u001b[38;5;124;03mDevuelve información sobre un actor, incluyendo la cantidad de películas en las que ha participado\u001b[39;00m\n\u001b[0;32m      4\u001b[0m \u001b[38;5;124;03my el retorno promedio de sus películas.\u001b[39;00m\n\u001b[1;32m   (...)\u001b[0m\n\u001b[0;32m     10\u001b[0m \u001b[38;5;124;03m- dict: Mensaje con el éxito del actor, la cantidad de películas y el retorno promedio.\u001b[39;00m\n\u001b[0;32m     11\u001b[0m \u001b[38;5;124;03m\"\"\"\u001b[39;00m\n\u001b[0;32m     12\u001b[0m \u001b[38;5;66;03m# Filtramos las películas en las que ha actuado el actor\u001b[39;00m\n\u001b[1;32m---> 13\u001b[0m peliculas_actor \u001b[38;5;241m=\u001b[39m movies_df[\u001b[43mmovies_df\u001b[49m\u001b[43m[\u001b[49m\u001b[38;5;124;43m'\u001b[39;49m\u001b[38;5;124;43mcast\u001b[39;49m\u001b[38;5;124;43m'\u001b[39;49m\u001b[43m]\u001b[49m\u001b[38;5;241m.\u001b[39mstr\u001b[38;5;241m.\u001b[39mcontains(nombre, case\u001b[38;5;241m=\u001b[39m\u001b[38;5;28;01mFalse\u001b[39;00m, na\u001b[38;5;241m=\u001b[39m\u001b[38;5;28;01mFalse\u001b[39;00m)]\n\u001b[0;32m     15\u001b[0m \u001b[38;5;28;01mif\u001b[39;00m \u001b[38;5;129;01mnot\u001b[39;00m peliculas_actor\u001b[38;5;241m.\u001b[39mempty:\n\u001b[0;32m     16\u001b[0m     cantidad_peliculas \u001b[38;5;241m=\u001b[39m peliculas_actor\u001b[38;5;241m.\u001b[39mshape[\u001b[38;5;241m0\u001b[39m]\n",
      "File \u001b[1;32mc:\\DYNAMO\\DATA SCIENCE\\Labs-MLOps\\venvmlops\\lib\\site-packages\\pandas\\core\\frame.py:4102\u001b[0m, in \u001b[0;36mDataFrame.__getitem__\u001b[1;34m(self, key)\u001b[0m\n\u001b[0;32m   4100\u001b[0m \u001b[38;5;28;01mif\u001b[39;00m \u001b[38;5;28mself\u001b[39m\u001b[38;5;241m.\u001b[39mcolumns\u001b[38;5;241m.\u001b[39mnlevels \u001b[38;5;241m>\u001b[39m \u001b[38;5;241m1\u001b[39m:\n\u001b[0;32m   4101\u001b[0m     \u001b[38;5;28;01mreturn\u001b[39;00m \u001b[38;5;28mself\u001b[39m\u001b[38;5;241m.\u001b[39m_getitem_multilevel(key)\n\u001b[1;32m-> 4102\u001b[0m indexer \u001b[38;5;241m=\u001b[39m \u001b[38;5;28;43mself\u001b[39;49m\u001b[38;5;241;43m.\u001b[39;49m\u001b[43mcolumns\u001b[49m\u001b[38;5;241;43m.\u001b[39;49m\u001b[43mget_loc\u001b[49m\u001b[43m(\u001b[49m\u001b[43mkey\u001b[49m\u001b[43m)\u001b[49m\n\u001b[0;32m   4103\u001b[0m \u001b[38;5;28;01mif\u001b[39;00m is_integer(indexer):\n\u001b[0;32m   4104\u001b[0m     indexer \u001b[38;5;241m=\u001b[39m [indexer]\n",
      "File \u001b[1;32mc:\\DYNAMO\\DATA SCIENCE\\Labs-MLOps\\venvmlops\\lib\\site-packages\\pandas\\core\\indexes\\base.py:3812\u001b[0m, in \u001b[0;36mIndex.get_loc\u001b[1;34m(self, key)\u001b[0m\n\u001b[0;32m   3807\u001b[0m     \u001b[38;5;28;01mif\u001b[39;00m \u001b[38;5;28misinstance\u001b[39m(casted_key, \u001b[38;5;28mslice\u001b[39m) \u001b[38;5;129;01mor\u001b[39;00m (\n\u001b[0;32m   3808\u001b[0m         \u001b[38;5;28misinstance\u001b[39m(casted_key, abc\u001b[38;5;241m.\u001b[39mIterable)\n\u001b[0;32m   3809\u001b[0m         \u001b[38;5;129;01mand\u001b[39;00m \u001b[38;5;28many\u001b[39m(\u001b[38;5;28misinstance\u001b[39m(x, \u001b[38;5;28mslice\u001b[39m) \u001b[38;5;28;01mfor\u001b[39;00m x \u001b[38;5;129;01min\u001b[39;00m casted_key)\n\u001b[0;32m   3810\u001b[0m     ):\n\u001b[0;32m   3811\u001b[0m         \u001b[38;5;28;01mraise\u001b[39;00m InvalidIndexError(key)\n\u001b[1;32m-> 3812\u001b[0m     \u001b[38;5;28;01mraise\u001b[39;00m \u001b[38;5;167;01mKeyError\u001b[39;00m(key) \u001b[38;5;28;01mfrom\u001b[39;00m \u001b[38;5;21;01merr\u001b[39;00m\n\u001b[0;32m   3813\u001b[0m \u001b[38;5;28;01mexcept\u001b[39;00m \u001b[38;5;167;01mTypeError\u001b[39;00m:\n\u001b[0;32m   3814\u001b[0m     \u001b[38;5;66;03m# If we have a listlike key, _check_indexing_error will raise\u001b[39;00m\n\u001b[0;32m   3815\u001b[0m     \u001b[38;5;66;03m#  InvalidIndexError. Otherwise we fall through and re-raise\u001b[39;00m\n\u001b[0;32m   3816\u001b[0m     \u001b[38;5;66;03m#  the TypeError.\u001b[39;00m\n\u001b[0;32m   3817\u001b[0m     \u001b[38;5;28mself\u001b[39m\u001b[38;5;241m.\u001b[39m_check_indexing_error(key)\n",
      "\u001b[1;31mKeyError\u001b[0m: 'cast'"
     ]
    }
   ],
   "source": [
    "get_actor('Ben Affleck')"
   ]
  }
 ],
 "metadata": {
  "kernelspec": {
   "display_name": "venvmlops",
   "language": "python",
   "name": "python3"
  },
  "language_info": {
   "codemirror_mode": {
    "name": "ipython",
    "version": 3
   },
   "file_extension": ".py",
   "mimetype": "text/x-python",
   "name": "python",
   "nbconvert_exporter": "python",
   "pygments_lexer": "ipython3",
   "version": "3.10.11"
  }
 },
 "nbformat": 4,
 "nbformat_minor": 2
}
