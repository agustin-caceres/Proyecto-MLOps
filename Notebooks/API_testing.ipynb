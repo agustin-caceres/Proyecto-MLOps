{
 "cells": [
  {
   "cell_type": "markdown",
   "metadata": {},
   "source": [
    "#### **DESARROLLO Y PRUEBA DE LOS ENDPOINTS**\n",
    "Se desarrolla cada endpoint de manera aislada, probando sus respuestas y asegurando su efectividad antes de integrarlos en el archivo `main.py`.\n",
    "\n",
    "Se utiliza el dataset procesado previamente."
   ]
  },
  {
   "cell_type": "code",
   "execution_count": 16,
   "metadata": {},
   "outputs": [],
   "source": [
    "import pandas as pd"
   ]
  },
  {
   "cell_type": "code",
   "execution_count": 17,
   "metadata": {},
   "outputs": [],
   "source": [
    "# Cargamos el dataset que se procesó previamente (parquet)\n",
    "movies_df = pd.read_parquet('C:\\DYNAMO\\DATA SCIENCE\\Proyectos\\Proyecto-MLOps\\Dataset\\dataset_final.parquet')"
   ]
  },
  {
   "cell_type": "markdown",
   "metadata": {},
   "source": [
    "- Cantidad de filmaciones por mes:"
   ]
  },
  {
   "cell_type": "code",
   "execution_count": 18,
   "metadata": {},
   "outputs": [],
   "source": [
    "def cantidad_filmaciones_mes(mes: str) -> dict:\n",
    "    \"\"\"\n",
    "    Devuelve la cantidad de películas que fueron estrenadas en el mes consultado.\n",
    "    \n",
    "    Parámetros:\n",
    "    mes (str): Nombre del mes en español.\n",
    "    \n",
    "    Retorno:\n",
    "    dict: Mensaje con la cantidad de películas estrenadas en el mes.\n",
    "    \"\"\"\n",
    "    # Diccionario de meses en español a números\n",
    "    meses_diccionario = {\n",
    "        'enero': 1, 'febrero': 2, 'marzo': 3, 'abril': 4,\n",
    "        'mayo': 5, 'junio': 6, 'julio': 7, 'agosto': 8,\n",
    "        'septiembre': 9, 'octubre': 10, 'noviembre': 11, 'diciembre': 12\n",
    "    }\n",
    "    \n",
    "    # Convertimos el mes a su número correspondiente\n",
    "    mes_numero = meses_diccionario.get(mes.lower())\n",
    "    \n",
    "    if mes_numero:\n",
    "        # Filtramos las películas del mes del 'release_date'\n",
    "        cantidad = movies_df[movies_df['release_date'].dt.month == mes_numero].shape[0]\n",
    "        return {\"mensaje\": f\"{cantidad} películas fueron estrenadas en el mes de {mes.capitalize()}\"}\n",
    "    else:\n",
    "        return {\"error\": \"Mes no válido. Por favor, ingrese en español un mes válido.\"}\n"
   ]
  },
  {
   "cell_type": "code",
   "execution_count": 19,
   "metadata": {},
   "outputs": [
    {
     "data": {
      "text/plain": [
       "{'mensaje': '27122 películas fueron estrenadas en el mes de Febrero'}"
      ]
     },
     "execution_count": 19,
     "metadata": {},
     "output_type": "execute_result"
    }
   ],
   "source": [
    "cantidad_filmaciones_mes(\"febrero\")"
   ]
  },
  {
   "cell_type": "markdown",
   "metadata": {},
   "source": [
    "- Cantidad de filmaciones por día:"
   ]
  },
  {
   "cell_type": "code",
   "execution_count": 20,
   "metadata": {},
   "outputs": [],
   "source": [
    "def cantidad_filmaciones_dia(dia: str) -> dict:\n",
    "    \"\"\"\n",
    "    Devuelve la cantidad de películas que fueron estrenadas en el día de la semana consultado.\n",
    "    \n",
    "    Parámetros:\n",
    "    - dia (str): Nombre del día en español.\n",
    "    \n",
    "    Retorno:\n",
    "    - dict: Mensaje con la cantidad de películas estrenadas en el día.\n",
    "    \"\"\"\n",
    "    # Diccionario de días de la semana en español a su número correspondiente (lunes=0, domingo=6)\n",
    "    dias_diccionario = {\n",
    "        'lunes': 0, 'martes': 1, 'miércoles': 2, 'jueves': 3, \n",
    "        'viernes': 4, 'sábado': 5, 'domingo': 6\n",
    "    }\n",
    "    \n",
    "    # Convertimos el día a su número correspondiente\n",
    "    dia_numero = dias_diccionario.get(dia.lower())\n",
    "    \n",
    "    if dia_numero is not None:\n",
    "        # Filtramos las películas por el día de la semana del 'release_date'\n",
    "        cantidad = movies_df[movies_df['release_date'].dt.dayofweek == dia_numero].shape[0]\n",
    "        return {\"mensaje\": f\"{cantidad} películas fueron estrenadas el día {dia.capitalize()}\"}\n",
    "    else:\n",
    "        return {\"error\": \"Por favor, ingrese en español un día válido.\"}"
   ]
  },
  {
   "cell_type": "code",
   "execution_count": 21,
   "metadata": {},
   "outputs": [
    {
     "data": {
      "text/plain": [
       "{'mensaje': '71356 películas fueron estrenadas el día Jueves'}"
      ]
     },
     "execution_count": 21,
     "metadata": {},
     "output_type": "execute_result"
    }
   ],
   "source": [
    "cantidad_filmaciones_dia('jueves')"
   ]
  },
  {
   "cell_type": "markdown",
   "metadata": {},
   "source": [
    "- Por el título de la película y score:"
   ]
  },
  {
   "cell_type": "code",
   "execution_count": 4,
   "metadata": {},
   "outputs": [],
   "source": [
    "def score_titulo(titulo: str) -> dict:\n",
    "    \"\"\"\n",
    "    Devuelve el título, año de estreno y score de una filmación.\n",
    "\n",
    "    Parámetros:\n",
    "    - titulo (str): Título de la filmación.\n",
    "\n",
    "    Retorno:\n",
    "    - dict: Mensaje con el título, año de estreno y el score de la película.\n",
    "    \"\"\"\n",
    "    # Filtramos la película por el título\n",
    "    film = movies_df[movies_df['title'].str.lower() == titulo.lower()]\n",
    "    \n",
    "    if not film.empty:\n",
    "        # Extraemos el año de estreno y el score\n",
    "        titulo_film = film['title'].values[0]\n",
    "        año_estreno = film['release_year'].values[0]\n",
    "        popularity = film['popularity'].values[0]\n",
    "        \n",
    "        return {\n",
    "            \"mensaje\": f\"La película '{titulo_film}' fue estrenada en el año {año_estreno} con un score de {popularity}\"\n",
    "        }\n",
    "    else:\n",
    "        return {\"error\": f\"No se encontró la película con el título '{titulo}'.\"}\n"
   ]
  },
  {
   "cell_type": "code",
   "execution_count": 5,
   "metadata": {},
   "outputs": [
    {
     "data": {
      "text/plain": [
       "{'mensaje': \"La película 'Iron Man' fue estrenada en el año 2008 con un score de 22.073099\"}"
      ]
     },
     "execution_count": 5,
     "metadata": {},
     "output_type": "execute_result"
    }
   ],
   "source": [
    "score_titulo('iron man')"
   ]
  },
  {
   "cell_type": "markdown",
   "metadata": {},
   "source": [
    "- Por el título de la película y valoraciones:"
   ]
  },
  {
   "cell_type": "code",
   "execution_count": 38,
   "metadata": {},
   "outputs": [],
   "source": [
    "def votos_titulo(titulo: str) -> dict:\n",
    "    \"\"\"\n",
    "    Devuelve la cantidad de votos y el promedio de votaciones de una película.\n",
    "    \n",
    "    Parámetros:\n",
    "    - titulo (str): Título de la película.\n",
    "\n",
    "    Retorno:\n",
    "    - dict: Mensaje con la cantidad de votos y el promedio, o un mensaje si no cumple el mínimo de votos.\n",
    "    \"\"\"\n",
    "    # Filtramos la película por el título\n",
    "    film = movies_df[movies_df['title'].str.lower() == titulo.lower()]\n",
    "    \n",
    "    if not film.empty:\n",
    "        votos = film['vote_count'].values[0]\n",
    "        promedio_votos = film['vote_average'].values[0]\n",
    "        \n",
    "        # Verificamos si la película tiene al menos 2000 votos\n",
    "        if votos >= 2000:\n",
    "            return {\n",
    "                \"mensaje\": f\"La película '{titulo}' tiene {votos} valoraciones, con un promedio de {promedio_votos}\"\n",
    "            }\n",
    "        else:\n",
    "            return {\n",
    "                \"mensaje\": f\"La película '{titulo}' no cumple con el mínimo de 2000 votos. Solo tiene {votos} votos.\"\n",
    "            }\n",
    "    else:\n",
    "        return {\"error\": f\"No se encontró la película con el título '{titulo}'.\"}\n"
   ]
  },
  {
   "cell_type": "code",
   "execution_count": 39,
   "metadata": {},
   "outputs": [
    {
     "data": {
      "text/plain": [
       "{'mensaje': \"La película 'iron man' tiene 8951.0 valoraciones, con un promedio de 7.4\"}"
      ]
     },
     "execution_count": 39,
     "metadata": {},
     "output_type": "execute_result"
    }
   ],
   "source": [
    "votos_titulo('iron man')"
   ]
  },
  {
   "cell_type": "markdown",
   "metadata": {},
   "source": [
    "- Por el nombre del actor:"
   ]
  },
  {
   "cell_type": "code",
   "execution_count": 7,
   "metadata": {},
   "outputs": [],
   "source": [
    "def get_actor(nombre_actor: str) -> dict:\n",
    "    \"\"\"\n",
    "    Devuelve el éxito de un actor medido a través del retorno total y promedio,\n",
    "    así como la cantidad de películas en las que ha participado.\n",
    "\n",
    "    Parámetros:\n",
    "    - nombre_actor (str): Nombre del actor a consultar.\n",
    "\n",
    "    Retorno:\n",
    "    - dict: Diccionario con la cantidad de películas en las que ha participado,\n",
    "            el retorno total y el retorno promedio por filmación.\n",
    "            Si no se encuentra el actor, devuelve un mensaje de error.g\n",
    "    \"\"\"\n",
    "    # Filtramos por el nombre del actor\n",
    "    actor_data = movies_df[movies_df['actor_name'].str.contains(nombre_actor, case=False, na=False)]\n",
    "    \n",
    "    # Verificamos si se encontraron resultados\n",
    "    if not actor_data.empty:\n",
    "        cantidad_filmaciones = actor_data.shape[0]\n",
    "        total_retorno = actor_data['return'].sum()\n",
    "        promedio_retorno = total_retorno / cantidad_filmaciones\n",
    "        \n",
    "        # Retorno exitoso con los datos del actor\n",
    "        return {\n",
    "            \"actor\": nombre_actor,\n",
    "            \"cantidad_filmaciones\": cantidad_filmaciones,\n",
    "            \"total_retorno\": total_retorno,\n",
    "            \"promedio_retorno\": promedio_retorno\n",
    "        }\n",
    "    else:\n",
    "        # Retorno en caso de no encontrar al actor\n",
    "        return {\"error\": f\"No se encontraron películas para el actor {nombre_actor}\"}\n"
   ]
  },
  {
   "cell_type": "code",
   "execution_count": 8,
   "metadata": {},
   "outputs": [
    {
     "data": {
      "text/plain": [
       "{'actor': 'Ben Affleck',\n",
       " 'cantidad_filmaciones': 595,\n",
       " 'total_retorno': np.float64(1973.6386124328706),\n",
       " 'promedio_retorno': np.float64(3.317039684761127)}"
      ]
     },
     "execution_count": 8,
     "metadata": {},
     "output_type": "execute_result"
    }
   ],
   "source": [
    "get_actor('Ben Affleck')"
   ]
  },
  {
   "cell_type": "markdown",
   "metadata": {},
   "source": [
    "- Prueba del Sistema de Recomendación"
   ]
  },
  {
   "cell_type": "code",
   "execution_count": 2,
   "metadata": {},
   "outputs": [],
   "source": [
    "import pandas as pd\n",
    "from scipy import sparse\n",
    "import pickle\n",
    "import numpy as np\n",
    "from sklearn.metrics.pairwise import cosine_similarity"
   ]
  },
  {
   "cell_type": "code",
   "execution_count": 12,
   "metadata": {},
   "outputs": [],
   "source": [
    "# Dataset\n",
    "model_df = pd.read_parquet('C:\\DYNAMO\\DATA SCIENCE\\Proyectos\\Proyecto-MLOps\\ModelML\\model_ml.parquet')\n",
    "\n",
    "# Matriz TF-IDF\n",
    "tfidf_matrix = sparse.load_npz(r'C:\\DYNAMO\\DATA SCIENCE\\Proyectos\\Proyecto-MLOps\\ModelML\\tfidf_matrix.npz')\n",
    "\n",
    "# Vectorizador\n",
    "with open(r'C:\\DYNAMO\\DATA SCIENCE\\Proyectos\\Proyecto-MLOps\\ModelML\\tfidf_vectorizer.pkl', 'rb') as f:\n",
    "    tfidf_vectorizer = pickle.load(f)\n",
    "\n",
    "# Matriz de Similitud    \n",
    "cosine_sim = np.load('C:\\DYNAMO\\DATA SCIENCE\\Proyectos\\Proyecto-MLOps\\ModelML\\cosine_sim.npy')   "
   ]
  },
  {
   "cell_type": "code",
   "execution_count": 13,
   "metadata": {},
   "outputs": [],
   "source": [
    "def recomendacion(titulo: str, num_recomendaciones: int = 5) -> list:\n",
    "    \"\"\"\n",
    "    Dada una película, devuelve una lista con los títulos de las películas más similares.\n",
    "\n",
    "    Parámetros:\n",
    "    - titulo (str): El título de la película para la cual se quieren recomendaciones.\n",
    "    - num_recomendaciones (int): Número de recomendaciones a devolver. Por defecto es 5.\n",
    "\n",
    "    Retorna:\n",
    "    - list: Lista con los títulos de las películas recomendadas.\n",
    "    \"\"\"\n",
    "    \n",
    "    # Se verifica si está disponible la película\n",
    "    if titulo not in model_df['title'].values:\n",
    "        return [\"El título no está en el dataset.\"]\n",
    "    \n",
    "    # Se obtiene el índice de la película \n",
    "    idx = model_df[model_df['title'] == titulo].index[0]\n",
    "    \n",
    "    # Se hace el calculo del coseno entre la película y todas las demás\n",
    "    sim_scores = list(enumerate(cosine_sim[idx]))\n",
    "    \n",
    "    # Se ordenan las películas en base a la similitud (de mayor a menor)\n",
    "    sim_scores = sorted(sim_scores, key=lambda x: x[1], reverse=True)\n",
    "    \n",
    "    # Se obtiene los índices de las películas más similares, excluyendo la película original\n",
    "    sim_scores = sim_scores[1:num_recomendaciones + 1]\n",
    "    \n",
    "    # Se obtiene las películas más similares\n",
    "    movie_indices = [i[0] for i in sim_scores]\n",
    "    \n",
    "    return model_df['title'].iloc[movie_indices].tolist()"
   ]
  },
  {
   "cell_type": "code",
   "execution_count": 14,
   "metadata": {},
   "outputs": [
    {
     "name": "stdout",
     "output_type": "stream",
     "text": [
      "['The Amazing Spider-Man', 'The Amazing Spider-Man 2', 'Spider-Man 2', 'Kick-Ass', 'Austin High']\n"
     ]
    }
   ],
   "source": [
    "print(recomendacion('Spider-Man', num_recomendaciones=5))\n"
   ]
  }
 ],
 "metadata": {
  "kernelspec": {
   "display_name": "venvmlops",
   "language": "python",
   "name": "python3"
  },
  "language_info": {
   "codemirror_mode": {
    "name": "ipython",
    "version": 3
   },
   "file_extension": ".py",
   "mimetype": "text/x-python",
   "name": "python",
   "nbconvert_exporter": "python",
   "pygments_lexer": "ipython3",
   "version": "3.10.11"
  }
 },
 "nbformat": 4,
 "nbformat_minor": 2
}
