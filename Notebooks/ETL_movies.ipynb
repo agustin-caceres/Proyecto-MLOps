{
 "cells": [
  {
   "cell_type": "markdown",
   "metadata": {},
   "source": [
    "### **PROCESO DE ETL PARA EL DATASET `movies_dataset.csv`**"
   ]
  },
  {
   "cell_type": "code",
   "execution_count": 6,
   "metadata": {},
   "outputs": [],
   "source": [
    "import pandas as pd"
   ]
  },
  {
   "cell_type": "markdown",
   "metadata": {},
   "source": [
    "##### **CARGA DE LOS DATOS**"
   ]
  },
  {
   "cell_type": "code",
   "execution_count": 7,
   "metadata": {},
   "outputs": [
    {
     "name": "stderr",
     "output_type": "stream",
     "text": [
      "C:\\Users\\marce\\AppData\\Local\\Temp\\ipykernel_37292\\259364485.py:1: DtypeWarning: Columns (10) have mixed types. Specify dtype option on import or set low_memory=False.\n",
      "  movies_df = pd.read_csv('C:\\DYNAMO\\DATA SCIENCE\\Labs-MLOps\\Dataset\\movies_dataset.csv')\n"
     ]
    },
    {
     "data": {
      "text/html": [
       "<div>\n",
       "<style scoped>\n",
       "    .dataframe tbody tr th:only-of-type {\n",
       "        vertical-align: middle;\n",
       "    }\n",
       "\n",
       "    .dataframe tbody tr th {\n",
       "        vertical-align: top;\n",
       "    }\n",
       "\n",
       "    .dataframe thead th {\n",
       "        text-align: right;\n",
       "    }\n",
       "</style>\n",
       "<table border=\"1\" class=\"dataframe\">\n",
       "  <thead>\n",
       "    <tr style=\"text-align: right;\">\n",
       "      <th></th>\n",
       "      <th>adult</th>\n",
       "      <th>belongs_to_collection</th>\n",
       "      <th>budget</th>\n",
       "      <th>genres</th>\n",
       "      <th>homepage</th>\n",
       "      <th>id</th>\n",
       "      <th>imdb_id</th>\n",
       "      <th>original_language</th>\n",
       "      <th>original_title</th>\n",
       "      <th>overview</th>\n",
       "      <th>...</th>\n",
       "      <th>release_date</th>\n",
       "      <th>revenue</th>\n",
       "      <th>runtime</th>\n",
       "      <th>spoken_languages</th>\n",
       "      <th>status</th>\n",
       "      <th>tagline</th>\n",
       "      <th>title</th>\n",
       "      <th>video</th>\n",
       "      <th>vote_average</th>\n",
       "      <th>vote_count</th>\n",
       "    </tr>\n",
       "  </thead>\n",
       "  <tbody>\n",
       "    <tr>\n",
       "      <th>0</th>\n",
       "      <td>False</td>\n",
       "      <td>{'id': 10194, 'name': 'Toy Story Collection', ...</td>\n",
       "      <td>30000000</td>\n",
       "      <td>[{'id': 16, 'name': 'Animation'}, {'id': 35, '...</td>\n",
       "      <td>http://toystory.disney.com/toy-story</td>\n",
       "      <td>862</td>\n",
       "      <td>tt0114709</td>\n",
       "      <td>en</td>\n",
       "      <td>Toy Story</td>\n",
       "      <td>Led by Woody, Andy's toys live happily in his ...</td>\n",
       "      <td>...</td>\n",
       "      <td>1995-10-30</td>\n",
       "      <td>373554033.0</td>\n",
       "      <td>81.0</td>\n",
       "      <td>[{'iso_639_1': 'en', 'name': 'English'}]</td>\n",
       "      <td>Released</td>\n",
       "      <td>NaN</td>\n",
       "      <td>Toy Story</td>\n",
       "      <td>False</td>\n",
       "      <td>7.7</td>\n",
       "      <td>5415.0</td>\n",
       "    </tr>\n",
       "    <tr>\n",
       "      <th>1</th>\n",
       "      <td>False</td>\n",
       "      <td>NaN</td>\n",
       "      <td>65000000</td>\n",
       "      <td>[{'id': 12, 'name': 'Adventure'}, {'id': 14, '...</td>\n",
       "      <td>NaN</td>\n",
       "      <td>8844</td>\n",
       "      <td>tt0113497</td>\n",
       "      <td>en</td>\n",
       "      <td>Jumanji</td>\n",
       "      <td>When siblings Judy and Peter discover an encha...</td>\n",
       "      <td>...</td>\n",
       "      <td>1995-12-15</td>\n",
       "      <td>262797249.0</td>\n",
       "      <td>104.0</td>\n",
       "      <td>[{'iso_639_1': 'en', 'name': 'English'}, {'iso...</td>\n",
       "      <td>Released</td>\n",
       "      <td>Roll the dice and unleash the excitement!</td>\n",
       "      <td>Jumanji</td>\n",
       "      <td>False</td>\n",
       "      <td>6.9</td>\n",
       "      <td>2413.0</td>\n",
       "    </tr>\n",
       "    <tr>\n",
       "      <th>2</th>\n",
       "      <td>False</td>\n",
       "      <td>{'id': 119050, 'name': 'Grumpy Old Men Collect...</td>\n",
       "      <td>0</td>\n",
       "      <td>[{'id': 10749, 'name': 'Romance'}, {'id': 35, ...</td>\n",
       "      <td>NaN</td>\n",
       "      <td>15602</td>\n",
       "      <td>tt0113228</td>\n",
       "      <td>en</td>\n",
       "      <td>Grumpier Old Men</td>\n",
       "      <td>A family wedding reignites the ancient feud be...</td>\n",
       "      <td>...</td>\n",
       "      <td>1995-12-22</td>\n",
       "      <td>0.0</td>\n",
       "      <td>101.0</td>\n",
       "      <td>[{'iso_639_1': 'en', 'name': 'English'}]</td>\n",
       "      <td>Released</td>\n",
       "      <td>Still Yelling. Still Fighting. Still Ready for...</td>\n",
       "      <td>Grumpier Old Men</td>\n",
       "      <td>False</td>\n",
       "      <td>6.5</td>\n",
       "      <td>92.0</td>\n",
       "    </tr>\n",
       "  </tbody>\n",
       "</table>\n",
       "<p>3 rows × 24 columns</p>\n",
       "</div>"
      ],
      "text/plain": [
       "   adult                              belongs_to_collection    budget  \\\n",
       "0  False  {'id': 10194, 'name': 'Toy Story Collection', ...  30000000   \n",
       "1  False                                                NaN  65000000   \n",
       "2  False  {'id': 119050, 'name': 'Grumpy Old Men Collect...         0   \n",
       "\n",
       "                                              genres  \\\n",
       "0  [{'id': 16, 'name': 'Animation'}, {'id': 35, '...   \n",
       "1  [{'id': 12, 'name': 'Adventure'}, {'id': 14, '...   \n",
       "2  [{'id': 10749, 'name': 'Romance'}, {'id': 35, ...   \n",
       "\n",
       "                               homepage     id    imdb_id original_language  \\\n",
       "0  http://toystory.disney.com/toy-story    862  tt0114709                en   \n",
       "1                                   NaN   8844  tt0113497                en   \n",
       "2                                   NaN  15602  tt0113228                en   \n",
       "\n",
       "     original_title                                           overview  ...  \\\n",
       "0         Toy Story  Led by Woody, Andy's toys live happily in his ...  ...   \n",
       "1           Jumanji  When siblings Judy and Peter discover an encha...  ...   \n",
       "2  Grumpier Old Men  A family wedding reignites the ancient feud be...  ...   \n",
       "\n",
       "  release_date      revenue runtime  \\\n",
       "0   1995-10-30  373554033.0    81.0   \n",
       "1   1995-12-15  262797249.0   104.0   \n",
       "2   1995-12-22          0.0   101.0   \n",
       "\n",
       "                                    spoken_languages    status  \\\n",
       "0           [{'iso_639_1': 'en', 'name': 'English'}]  Released   \n",
       "1  [{'iso_639_1': 'en', 'name': 'English'}, {'iso...  Released   \n",
       "2           [{'iso_639_1': 'en', 'name': 'English'}]  Released   \n",
       "\n",
       "                                             tagline             title  video  \\\n",
       "0                                                NaN         Toy Story  False   \n",
       "1          Roll the dice and unleash the excitement!           Jumanji  False   \n",
       "2  Still Yelling. Still Fighting. Still Ready for...  Grumpier Old Men  False   \n",
       "\n",
       "  vote_average vote_count  \n",
       "0          7.7     5415.0  \n",
       "1          6.9     2413.0  \n",
       "2          6.5       92.0  \n",
       "\n",
       "[3 rows x 24 columns]"
      ]
     },
     "execution_count": 7,
     "metadata": {},
     "output_type": "execute_result"
    }
   ],
   "source": [
    "movies_df = pd.read_csv('C:\\DYNAMO\\DATA SCIENCE\\Labs-MLOps\\Dataset\\movies_dataset.csv')\n",
    "movies_df.head(3)"
   ]
  },
  {
   "cell_type": "markdown",
   "metadata": {},
   "source": [
    "#### INSEPCCIÓN INICIAL"
   ]
  },
  {
   "cell_type": "code",
   "execution_count": 10,
   "metadata": {},
   "outputs": [
    {
     "data": {
      "text/plain": [
       "(45466, 24)"
      ]
     },
     "execution_count": 10,
     "metadata": {},
     "output_type": "execute_result"
    }
   ],
   "source": [
    "movies_df.shape"
   ]
  },
  {
   "cell_type": "code",
   "execution_count": 8,
   "metadata": {},
   "outputs": [
    {
     "name": "stdout",
     "output_type": "stream",
     "text": [
      "<class 'pandas.core.frame.DataFrame'>\n",
      "RangeIndex: 45466 entries, 0 to 45465\n",
      "Data columns (total 24 columns):\n",
      " #   Column                 Non-Null Count  Dtype  \n",
      "---  ------                 --------------  -----  \n",
      " 0   adult                  45466 non-null  object \n",
      " 1   belongs_to_collection  4494 non-null   object \n",
      " 2   budget                 45466 non-null  object \n",
      " 3   genres                 45466 non-null  object \n",
      " 4   homepage               7782 non-null   object \n",
      " 5   id                     45466 non-null  object \n",
      " 6   imdb_id                45449 non-null  object \n",
      " 7   original_language      45455 non-null  object \n",
      " 8   original_title         45466 non-null  object \n",
      " 9   overview               44512 non-null  object \n",
      " 10  popularity             45461 non-null  object \n",
      " 11  poster_path            45080 non-null  object \n",
      " 12  production_companies   45463 non-null  object \n",
      " 13  production_countries   45463 non-null  object \n",
      " 14  release_date           45379 non-null  object \n",
      " 15  revenue                45460 non-null  float64\n",
      " 16  runtime                45203 non-null  float64\n",
      " 17  spoken_languages       45460 non-null  object \n",
      " 18  status                 45379 non-null  object \n",
      " 19  tagline                20412 non-null  object \n",
      " 20  title                  45460 non-null  object \n",
      " 21  video                  45460 non-null  object \n",
      " 22  vote_average           45460 non-null  float64\n",
      " 23  vote_count             45460 non-null  float64\n",
      "dtypes: float64(4), object(20)\n",
      "memory usage: 8.3+ MB\n"
     ]
    }
   ],
   "source": [
    "movies_df.info()"
   ]
  },
  {
   "cell_type": "code",
   "execution_count": 9,
   "metadata": {},
   "outputs": [
    {
     "data": {
      "text/plain": [
       "adult                        0\n",
       "belongs_to_collection    40972\n",
       "budget                       0\n",
       "genres                       0\n",
       "homepage                 37684\n",
       "id                           0\n",
       "imdb_id                     17\n",
       "original_language           11\n",
       "original_title               0\n",
       "overview                   954\n",
       "popularity                   5\n",
       "poster_path                386\n",
       "production_companies         3\n",
       "production_countries         3\n",
       "release_date                87\n",
       "revenue                      6\n",
       "runtime                    263\n",
       "spoken_languages             6\n",
       "status                      87\n",
       "tagline                  25054\n",
       "title                        6\n",
       "video                        6\n",
       "vote_average                 6\n",
       "vote_count                   6\n",
       "dtype: int64"
      ]
     },
     "execution_count": 9,
     "metadata": {},
     "output_type": "execute_result"
    }
   ],
   "source": [
    "movies_df.isnull().sum()"
   ]
  },
  {
   "cell_type": "markdown",
   "metadata": {},
   "source": [
    "##### **DESANIDAR CAMPOS ANIDADOS**"
   ]
  },
  {
   "cell_type": "markdown",
   "metadata": {},
   "source": [
    "Revisaremos el tipo de dato de cada columna anidada antes de aplicar la transformación ya que pueden venir como diccionarios o en cadena de texto. Teniendo esto presente, el proceso para desanidarlos en cuyo caso será diferente.\n",
    "\n",
    "También manejaremos los valores null para evitar problemas en el desanidado."
   ]
  },
  {
   "cell_type": "code",
   "execution_count": 11,
   "metadata": {},
   "outputs": [
    {
     "name": "stdout",
     "output_type": "stream",
     "text": [
      "Columna: belongs_to_collection\n",
      "belongs_to_collection\n",
      "<class 'float'>    40972\n",
      "<class 'str'>       4494\n",
      "Name: count, dtype: int64\n",
      "\n",
      "\n",
      "Columna: genres\n",
      "genres\n",
      "<class 'str'>    45466\n",
      "Name: count, dtype: int64\n",
      "\n",
      "\n",
      "Columna: production_companies\n",
      "production_companies\n",
      "<class 'str'>      45463\n",
      "<class 'float'>        3\n",
      "Name: count, dtype: int64\n",
      "\n",
      "\n",
      "Columna: production_countries\n",
      "production_countries\n",
      "<class 'str'>      45463\n",
      "<class 'float'>        3\n",
      "Name: count, dtype: int64\n",
      "\n",
      "\n",
      "Columna: spoken_languages\n",
      "spoken_languages\n",
      "<class 'str'>      45460\n",
      "<class 'float'>        6\n",
      "Name: count, dtype: int64\n",
      "\n",
      "\n"
     ]
    }
   ],
   "source": [
    "# Verificamos el type de las columnas anidadas\n",
    "anidadas = ['belongs_to_collection', 'genres', 'production_companies', 'production_countries', 'spoken_languages']\n",
    "\n",
    "for columna in anidadas:\n",
    "    print(f\"Columna: {columna}\")\n",
    "    print(movies_df[columna].apply(type).value_counts())\n",
    "    print(\"\\n\")\n"
   ]
  },
  {
   "cell_type": "markdown",
   "metadata": {},
   "source": [
    "#### Manejo de nulls y desanidado de `'belongs_to_collection'`"
   ]
  },
  {
   "cell_type": "markdown",
   "metadata": {},
   "source": [
    "Hay ciertos valores que NO serán útiles, podría modificar el código para desanidar los campos relevantes desde el principio, evitando así la creación de columnas innecesarias.\n",
    "\n",
    "Sin embargo, voy a optar por un desanidado completo para tener la flexibilidad de poder revisar todo por si acaso, luego eliminaré columnas innecesarias "
   ]
  },
  {
   "cell_type": "code",
   "execution_count": 12,
   "metadata": {},
   "outputs": [],
   "source": [
    "import ast\n",
    "\n",
    "def convertir_a_diccionario(df: pd.DataFrame, columna: str) -> pd.DataFrame:\n",
    "    \"\"\"\n",
    "    Convierte cadenas en formato de diccionarios o listas en objetos Python reales usando ast.literal_eval.\n",
    "    \n",
    "    Esta función toma una columna de un DataFrame y convierte cualquier valor que sea una cadena en un diccionario\n",
    "    utilizando la función ast.literal_eval, que evalúa las cadenas como expresiones literales de Python.\n",
    "    Si el valor es nulo (NaN), lo deja como está o lo convierte en un diccionario vacío.\n",
    "    \n",
    "    Parámetros:\n",
    "    ----------\n",
    "    df : pandas.DataFrame\n",
    "        El DataFrame que contiene la columna que será procesada.\n",
    "    \n",
    "    columna : str\n",
    "        El nombre de la columna en la que se aplicará la conversión.\n",
    "    \n",
    "    Retorna:\n",
    "    -------\n",
    "    pandas.DataFrame\n",
    "        El DataFrame original con la columna especificada convertida a diccionarios.\n",
    "    \n",
    "    Ejemplo de uso:\n",
    "    ---------------\n",
    "    df = convertir_a_diccionario(df, 'belongs_to_collection')\n",
    "    \"\"\"\n",
    "    df[columna] = df[columna].apply(\n",
    "        lambda x: ast.literal_eval(x) if isinstance(x, str) else ({} if pd.isnull(x) else x)\n",
    "    )\n",
    "    return df"
   ]
  },
  {
   "cell_type": "code",
   "execution_count": 13,
   "metadata": {},
   "outputs": [
    {
     "name": "stdout",
     "output_type": "stream",
     "text": [
      "0     {'id': 10194, 'name': 'Toy Story Collection', ...\n",
      "1                                                    {}\n",
      "2     {'id': 119050, 'name': 'Grumpy Old Men Collect...\n",
      "3                                                    {}\n",
      "4     {'id': 96871, 'name': 'Father of the Bride Col...\n",
      "5                                                    {}\n",
      "6                                                    {}\n",
      "7                                                    {}\n",
      "8                                                    {}\n",
      "9     {'id': 645, 'name': 'James Bond Collection', '...\n",
      "10                                                   {}\n",
      "11                                                   {}\n",
      "12    {'id': 117693, 'name': 'Balto Collection', 'po...\n",
      "13                                                   {}\n",
      "14                                                   {}\n",
      "15                                                   {}\n",
      "16                                                   {}\n",
      "17                                                   {}\n",
      "18    {'id': 3167, 'name': 'Ace Ventura Collection',...\n",
      "19                                                   {}\n",
      "Name: belongs_to_collection, dtype: object\n"
     ]
    }
   ],
   "source": [
    "# Se aplica la función a la columna 'belongs_to_collection' y se verifica el resultado\n",
    "movies_df = convertir_a_diccionario(movies_df, 'belongs_to_collection')\n",
    "print(movies_df['belongs_to_collection'].head(20))"
   ]
  },
  {
   "cell_type": "code",
   "execution_count": 14,
   "metadata": {},
   "outputs": [],
   "source": [
    "def desanidar_columnas(df: pd.DataFrame, columna: str, prefijo: str) -> pd.DataFrame:\n",
    "    \"\"\"\n",
    "    Desanida una columna que contiene diccionarios y extrae sus claves como nuevas columnas.\n",
    "    \n",
    "    Parámetros:\n",
    "    df (pd.DataFrame): El DataFrame que contiene los datos.\n",
    "    columna (str): El nombre de la columna que se va a desanidar.\n",
    "    prefijo (str): El prefijo específico para las nuevas columnas desanidadas.\n",
    "    \n",
    "    Retorna:\n",
    "    pd.DataFrame: El DataFrame con las nuevas columnas desanidadas.\n",
    "    \"\"\"\n",
    "    # Desanidar la columna que contiene diccionarios\n",
    "    desanidado = pd.json_normalize(df[columna])\n",
    "    \n",
    "    # Renombrar las columnas desanidadas usando el prefijo específico\n",
    "    desanidado.columns = [f\"{prefijo}_{col}\" for col in desanidado.columns]\n",
    "    \n",
    "    # Concatenar las nuevas columnas al DataFrame original\n",
    "    df = pd.concat([df, desanidado], axis=1)\n",
    "    \n",
    "    return df"
   ]
  },
  {
   "cell_type": "code",
   "execution_count": 15,
   "metadata": {},
   "outputs": [],
   "source": [
    "# Desanidar la columna 'belongs_to_collection' con prefijo 'collection'\n",
    "movies_df = desanidar_columnas(movies_df, 'belongs_to_collection', prefijo='collection')"
   ]
  },
  {
   "cell_type": "code",
   "execution_count": 16,
   "metadata": {},
   "outputs": [
    {
     "name": "stdout",
     "output_type": "stream",
     "text": [
      "   collection_id                 collection_name  \\\n",
      "0        10194.0            Toy Story Collection   \n",
      "1            NaN                             NaN   \n",
      "2       119050.0       Grumpy Old Men Collection   \n",
      "3            NaN                             NaN   \n",
      "4        96871.0  Father of the Bride Collection   \n",
      "\n",
      "             collection_poster_path  \n",
      "0  /7G9915LfUQ2lVfwMEEhDsn3kT4B.jpg  \n",
      "1                               NaN  \n",
      "2  /nLvUdqgPgm3F85NMCii9gVFUcet.jpg  \n",
      "3                               NaN  \n",
      "4  /nts4iOmNnq7GNicycMJ9pSAn204.jpg  \n"
     ]
    }
   ],
   "source": [
    "# Verificar las nuevas columnas desanidadas\n",
    "print(movies_df[['collection_id', 'collection_name', 'collection_poster_path']].head())"
   ]
  },
  {
   "cell_type": "code",
   "execution_count": 17,
   "metadata": {},
   "outputs": [
    {
     "data": {
      "text/html": [
       "<div>\n",
       "<style scoped>\n",
       "    .dataframe tbody tr th:only-of-type {\n",
       "        vertical-align: middle;\n",
       "    }\n",
       "\n",
       "    .dataframe tbody tr th {\n",
       "        vertical-align: top;\n",
       "    }\n",
       "\n",
       "    .dataframe thead th {\n",
       "        text-align: right;\n",
       "    }\n",
       "</style>\n",
       "<table border=\"1\" class=\"dataframe\">\n",
       "  <thead>\n",
       "    <tr style=\"text-align: right;\">\n",
       "      <th></th>\n",
       "      <th>adult</th>\n",
       "      <th>belongs_to_collection</th>\n",
       "      <th>budget</th>\n",
       "      <th>genres</th>\n",
       "      <th>homepage</th>\n",
       "      <th>id</th>\n",
       "      <th>imdb_id</th>\n",
       "      <th>original_language</th>\n",
       "      <th>original_title</th>\n",
       "      <th>overview</th>\n",
       "      <th>...</th>\n",
       "      <th>status</th>\n",
       "      <th>tagline</th>\n",
       "      <th>title</th>\n",
       "      <th>video</th>\n",
       "      <th>vote_average</th>\n",
       "      <th>vote_count</th>\n",
       "      <th>collection_id</th>\n",
       "      <th>collection_name</th>\n",
       "      <th>collection_poster_path</th>\n",
       "      <th>collection_backdrop_path</th>\n",
       "    </tr>\n",
       "  </thead>\n",
       "  <tbody>\n",
       "    <tr>\n",
       "      <th>0</th>\n",
       "      <td>False</td>\n",
       "      <td>{'id': 10194, 'name': 'Toy Story Collection', ...</td>\n",
       "      <td>30000000</td>\n",
       "      <td>[{'id': 16, 'name': 'Animation'}, {'id': 35, '...</td>\n",
       "      <td>http://toystory.disney.com/toy-story</td>\n",
       "      <td>862</td>\n",
       "      <td>tt0114709</td>\n",
       "      <td>en</td>\n",
       "      <td>Toy Story</td>\n",
       "      <td>Led by Woody, Andy's toys live happily in his ...</td>\n",
       "      <td>...</td>\n",
       "      <td>Released</td>\n",
       "      <td>NaN</td>\n",
       "      <td>Toy Story</td>\n",
       "      <td>False</td>\n",
       "      <td>7.7</td>\n",
       "      <td>5415.0</td>\n",
       "      <td>10194.0</td>\n",
       "      <td>Toy Story Collection</td>\n",
       "      <td>/7G9915LfUQ2lVfwMEEhDsn3kT4B.jpg</td>\n",
       "      <td>/9FBwqcd9IRruEDUrTdcaafOMKUq.jpg</td>\n",
       "    </tr>\n",
       "    <tr>\n",
       "      <th>1</th>\n",
       "      <td>False</td>\n",
       "      <td>{}</td>\n",
       "      <td>65000000</td>\n",
       "      <td>[{'id': 12, 'name': 'Adventure'}, {'id': 14, '...</td>\n",
       "      <td>NaN</td>\n",
       "      <td>8844</td>\n",
       "      <td>tt0113497</td>\n",
       "      <td>en</td>\n",
       "      <td>Jumanji</td>\n",
       "      <td>When siblings Judy and Peter discover an encha...</td>\n",
       "      <td>...</td>\n",
       "      <td>Released</td>\n",
       "      <td>Roll the dice and unleash the excitement!</td>\n",
       "      <td>Jumanji</td>\n",
       "      <td>False</td>\n",
       "      <td>6.9</td>\n",
       "      <td>2413.0</td>\n",
       "      <td>NaN</td>\n",
       "      <td>NaN</td>\n",
       "      <td>NaN</td>\n",
       "      <td>NaN</td>\n",
       "    </tr>\n",
       "    <tr>\n",
       "      <th>2</th>\n",
       "      <td>False</td>\n",
       "      <td>{'id': 119050, 'name': 'Grumpy Old Men Collect...</td>\n",
       "      <td>0</td>\n",
       "      <td>[{'id': 10749, 'name': 'Romance'}, {'id': 35, ...</td>\n",
       "      <td>NaN</td>\n",
       "      <td>15602</td>\n",
       "      <td>tt0113228</td>\n",
       "      <td>en</td>\n",
       "      <td>Grumpier Old Men</td>\n",
       "      <td>A family wedding reignites the ancient feud be...</td>\n",
       "      <td>...</td>\n",
       "      <td>Released</td>\n",
       "      <td>Still Yelling. Still Fighting. Still Ready for...</td>\n",
       "      <td>Grumpier Old Men</td>\n",
       "      <td>False</td>\n",
       "      <td>6.5</td>\n",
       "      <td>92.0</td>\n",
       "      <td>119050.0</td>\n",
       "      <td>Grumpy Old Men Collection</td>\n",
       "      <td>/nLvUdqgPgm3F85NMCii9gVFUcet.jpg</td>\n",
       "      <td>/hypTnLot2z8wpFS7qwsQHW1uV8u.jpg</td>\n",
       "    </tr>\n",
       "    <tr>\n",
       "      <th>3</th>\n",
       "      <td>False</td>\n",
       "      <td>{}</td>\n",
       "      <td>16000000</td>\n",
       "      <td>[{'id': 35, 'name': 'Comedy'}, {'id': 18, 'nam...</td>\n",
       "      <td>NaN</td>\n",
       "      <td>31357</td>\n",
       "      <td>tt0114885</td>\n",
       "      <td>en</td>\n",
       "      <td>Waiting to Exhale</td>\n",
       "      <td>Cheated on, mistreated and stepped on, the wom...</td>\n",
       "      <td>...</td>\n",
       "      <td>Released</td>\n",
       "      <td>Friends are the people who let you be yourself...</td>\n",
       "      <td>Waiting to Exhale</td>\n",
       "      <td>False</td>\n",
       "      <td>6.1</td>\n",
       "      <td>34.0</td>\n",
       "      <td>NaN</td>\n",
       "      <td>NaN</td>\n",
       "      <td>NaN</td>\n",
       "      <td>NaN</td>\n",
       "    </tr>\n",
       "    <tr>\n",
       "      <th>4</th>\n",
       "      <td>False</td>\n",
       "      <td>{'id': 96871, 'name': 'Father of the Bride Col...</td>\n",
       "      <td>0</td>\n",
       "      <td>[{'id': 35, 'name': 'Comedy'}]</td>\n",
       "      <td>NaN</td>\n",
       "      <td>11862</td>\n",
       "      <td>tt0113041</td>\n",
       "      <td>en</td>\n",
       "      <td>Father of the Bride Part II</td>\n",
       "      <td>Just when George Banks has recovered from his ...</td>\n",
       "      <td>...</td>\n",
       "      <td>Released</td>\n",
       "      <td>Just When His World Is Back To Normal... He's ...</td>\n",
       "      <td>Father of the Bride Part II</td>\n",
       "      <td>False</td>\n",
       "      <td>5.7</td>\n",
       "      <td>173.0</td>\n",
       "      <td>96871.0</td>\n",
       "      <td>Father of the Bride Collection</td>\n",
       "      <td>/nts4iOmNnq7GNicycMJ9pSAn204.jpg</td>\n",
       "      <td>/7qwE57OVZmMJChBpLEbJEmzUydk.jpg</td>\n",
       "    </tr>\n",
       "  </tbody>\n",
       "</table>\n",
       "<p>5 rows × 28 columns</p>\n",
       "</div>"
      ],
      "text/plain": [
       "   adult                              belongs_to_collection    budget  \\\n",
       "0  False  {'id': 10194, 'name': 'Toy Story Collection', ...  30000000   \n",
       "1  False                                                 {}  65000000   \n",
       "2  False  {'id': 119050, 'name': 'Grumpy Old Men Collect...         0   \n",
       "3  False                                                 {}  16000000   \n",
       "4  False  {'id': 96871, 'name': 'Father of the Bride Col...         0   \n",
       "\n",
       "                                              genres  \\\n",
       "0  [{'id': 16, 'name': 'Animation'}, {'id': 35, '...   \n",
       "1  [{'id': 12, 'name': 'Adventure'}, {'id': 14, '...   \n",
       "2  [{'id': 10749, 'name': 'Romance'}, {'id': 35, ...   \n",
       "3  [{'id': 35, 'name': 'Comedy'}, {'id': 18, 'nam...   \n",
       "4                     [{'id': 35, 'name': 'Comedy'}]   \n",
       "\n",
       "                               homepage     id    imdb_id original_language  \\\n",
       "0  http://toystory.disney.com/toy-story    862  tt0114709                en   \n",
       "1                                   NaN   8844  tt0113497                en   \n",
       "2                                   NaN  15602  tt0113228                en   \n",
       "3                                   NaN  31357  tt0114885                en   \n",
       "4                                   NaN  11862  tt0113041                en   \n",
       "\n",
       "                original_title  \\\n",
       "0                    Toy Story   \n",
       "1                      Jumanji   \n",
       "2             Grumpier Old Men   \n",
       "3            Waiting to Exhale   \n",
       "4  Father of the Bride Part II   \n",
       "\n",
       "                                            overview  ...    status  \\\n",
       "0  Led by Woody, Andy's toys live happily in his ...  ...  Released   \n",
       "1  When siblings Judy and Peter discover an encha...  ...  Released   \n",
       "2  A family wedding reignites the ancient feud be...  ...  Released   \n",
       "3  Cheated on, mistreated and stepped on, the wom...  ...  Released   \n",
       "4  Just when George Banks has recovered from his ...  ...  Released   \n",
       "\n",
       "                                             tagline  \\\n",
       "0                                                NaN   \n",
       "1          Roll the dice and unleash the excitement!   \n",
       "2  Still Yelling. Still Fighting. Still Ready for...   \n",
       "3  Friends are the people who let you be yourself...   \n",
       "4  Just When His World Is Back To Normal... He's ...   \n",
       "\n",
       "                         title  video vote_average  vote_count  collection_id  \\\n",
       "0                    Toy Story  False          7.7      5415.0        10194.0   \n",
       "1                      Jumanji  False          6.9      2413.0            NaN   \n",
       "2             Grumpier Old Men  False          6.5        92.0       119050.0   \n",
       "3            Waiting to Exhale  False          6.1        34.0            NaN   \n",
       "4  Father of the Bride Part II  False          5.7       173.0        96871.0   \n",
       "\n",
       "                  collection_name            collection_poster_path  \\\n",
       "0            Toy Story Collection  /7G9915LfUQ2lVfwMEEhDsn3kT4B.jpg   \n",
       "1                             NaN                               NaN   \n",
       "2       Grumpy Old Men Collection  /nLvUdqgPgm3F85NMCii9gVFUcet.jpg   \n",
       "3                             NaN                               NaN   \n",
       "4  Father of the Bride Collection  /nts4iOmNnq7GNicycMJ9pSAn204.jpg   \n",
       "\n",
       "           collection_backdrop_path  \n",
       "0  /9FBwqcd9IRruEDUrTdcaafOMKUq.jpg  \n",
       "1                               NaN  \n",
       "2  /hypTnLot2z8wpFS7qwsQHW1uV8u.jpg  \n",
       "3                               NaN  \n",
       "4  /7qwE57OVZmMJChBpLEbJEmzUydk.jpg  \n",
       "\n",
       "[5 rows x 28 columns]"
      ]
     },
     "execution_count": 17,
     "metadata": {},
     "output_type": "execute_result"
    }
   ],
   "source": [
    "movies_df.head()"
   ]
  },
  {
   "cell_type": "markdown",
   "metadata": {},
   "source": [
    "#### Desanidado de `'genres'`\n",
    "Los valores son listas de dicts, por lo tanto, la función `'desanidar_columnas'` no va a funcionar. Lo manejaré de manera diferente"
   ]
  },
  {
   "cell_type": "code",
   "execution_count": 18,
   "metadata": {},
   "outputs": [
    {
     "name": "stdout",
     "output_type": "stream",
     "text": [
      "0    [{'id': 16, 'name': 'Animation'}, {'id': 35, '...\n",
      "1    [{'id': 12, 'name': 'Adventure'}, {'id': 14, '...\n",
      "2    [{'id': 10749, 'name': 'Romance'}, {'id': 35, ...\n",
      "3    [{'id': 35, 'name': 'Comedy'}, {'id': 18, 'nam...\n",
      "4                       [{'id': 35, 'name': 'Comedy'}]\n",
      "5    [{'id': 28, 'name': 'Action'}, {'id': 80, 'nam...\n",
      "6    [{'id': 35, 'name': 'Comedy'}, {'id': 10749, '...\n",
      "7    [{'id': 28, 'name': 'Action'}, {'id': 12, 'nam...\n",
      "8    [{'id': 28, 'name': 'Action'}, {'id': 12, 'nam...\n",
      "9    [{'id': 12, 'name': 'Adventure'}, {'id': 28, '...\n",
      "Name: genres, dtype: object\n"
     ]
    }
   ],
   "source": [
    "# Obtenemos una muestra de los valores en la columna 'genres'\n",
    "print(movies_df['genres'].head(10))"
   ]
  },
  {
   "cell_type": "code",
   "execution_count": 19,
   "metadata": {},
   "outputs": [],
   "source": [
    "import json\n",
    "import re\n",
    "\n",
    "def limpiar_json_invalido(texto: str) -> list:\n",
    "    \"\"\"\n",
    "    Corrige un texto JSON que utiliza comillas simples en lugar de comillas dobles\n",
    "    y lo convierte en un objeto Python. Si el texto no es válido como JSON, retorna una lista vacía.\n",
    "    \n",
    "    Parámetros:\n",
    "    texto (str): El texto que representa un JSON potencialmente inválido.\n",
    "    \n",
    "    Retorna:\n",
    "    list: Una lista con los datos del JSON corregido o una lista vacía en caso de error.\n",
    "    \"\"\"\n",
    "    if isinstance(texto, str):\n",
    "        # Reemplazar comillas simples por comillas dobles\n",
    "        texto_limpio = re.sub(r\"'\", '\"', texto)\n",
    "        try:\n",
    "            # Intentar cargar el JSON limpio\n",
    "            return json.loads(texto_limpio)\n",
    "        except json.JSONDecodeError:\n",
    "            # Si sigue habiendo un error, devolver una lista vacía\n",
    "            return []\n",
    "    return texto\n"
   ]
  },
  {
   "cell_type": "code",
   "execution_count": 20,
   "metadata": {},
   "outputs": [
    {
     "name": "stdout",
     "output_type": "stream",
     "text": [
      "0    [{'id': 16, 'name': 'Animation'}, {'id': 35, '...\n",
      "1    [{'id': 12, 'name': 'Adventure'}, {'id': 14, '...\n",
      "2    [{'id': 10749, 'name': 'Romance'}, {'id': 35, ...\n",
      "3    [{'id': 35, 'name': 'Comedy'}, {'id': 18, 'nam...\n",
      "4                       [{'id': 35, 'name': 'Comedy'}]\n",
      "5    [{'id': 28, 'name': 'Action'}, {'id': 80, 'nam...\n",
      "6    [{'id': 35, 'name': 'Comedy'}, {'id': 10749, '...\n",
      "7    [{'id': 28, 'name': 'Action'}, {'id': 12, 'nam...\n",
      "8    [{'id': 28, 'name': 'Action'}, {'id': 12, 'nam...\n",
      "9    [{'id': 12, 'name': 'Adventure'}, {'id': 28, '...\n",
      "Name: genres, dtype: object\n"
     ]
    }
   ],
   "source": [
    "# Se Aplica la limpieza a la columna 'genres' y se verificar la conversión\n",
    "movies_df['genres'] = movies_df['genres'].apply(limpiar_json_invalido)\n",
    "print(movies_df['genres'].head(10))\n"
   ]
  },
  {
   "cell_type": "code",
   "execution_count": 21,
   "metadata": {},
   "outputs": [],
   "source": [
    "def desanidar_listas_diccionarios(df: pd.DataFrame, columna: str, prefijo: str) -> pd.DataFrame:\n",
    "    \"\"\"\n",
    "    Desanida una columna que contiene listas de diccionarios, explota cada elemento en una fila separada\n",
    "    y extrae las claves de los diccionarios como nuevas columnas en el DataFrame.\n",
    "    \n",
    "    Parámetros:\n",
    "    df (pd.DataFrame): El DataFrame que contiene los datos.\n",
    "    columna (str): El nombre de la columna que se va a desanidar.\n",
    "    prefijo (str): El prefijo para las nuevas columnas desanidadas.\n",
    "    \n",
    "    Retorna:\n",
    "    pd.DataFrame: El DataFrame con las nuevas columnas desanidadas y concatenadas.\n",
    "    \"\"\"\n",
    "    # Explotar la lista de diccionarios para convertir cada elemento en una fila separada\n",
    "    df = df.explode(columna).reset_index(drop=True)\n",
    "    \n",
    "    # Desanidar las claves de los diccionarios en columnas separadas\n",
    "    desanidado = pd.json_normalize(df[columna])\n",
    "    desanidado.columns = [f\"{prefijo}_{col}\" for col in desanidado.columns]\n",
    "    \n",
    "    # Concatenar las nuevas columnas desanidadas al DataFrame original\n",
    "    df = pd.concat([df, desanidado], axis=1)\n",
    "    \n",
    "    return df\n"
   ]
  },
  {
   "cell_type": "code",
   "execution_count": 22,
   "metadata": {},
   "outputs": [
    {
     "name": "stdout",
     "output_type": "stream",
     "text": [
      "    genre_id genre_name\n",
      "0       16.0  Animation\n",
      "1       35.0     Comedy\n",
      "2    10751.0     Family\n",
      "3       12.0  Adventure\n",
      "4       14.0    Fantasy\n",
      "5    10751.0     Family\n",
      "6    10749.0    Romance\n",
      "7       35.0     Comedy\n",
      "8       35.0     Comedy\n",
      "9       18.0      Drama\n",
      "10   10749.0    Romance\n",
      "11      35.0     Comedy\n",
      "12      28.0     Action\n",
      "13      80.0      Crime\n",
      "14      18.0      Drama\n",
      "15      53.0   Thriller\n",
      "16      35.0     Comedy\n",
      "17   10749.0    Romance\n",
      "18      28.0     Action\n",
      "19      12.0  Adventure\n"
     ]
    }
   ],
   "source": [
    "# Se aplica la función de desanidado y se verifica el resultado\n",
    "movies_df = desanidar_listas_diccionarios(movies_df, 'genres', 'genre')\n",
    "print(movies_df[['genre_id', 'genre_name']].head(20))"
   ]
  },
  {
   "cell_type": "markdown",
   "metadata": {},
   "source": [
    "#### Desanidado de `'product_companies'`"
   ]
  },
  {
   "cell_type": "code",
   "execution_count": 23,
   "metadata": {},
   "outputs": [
    {
     "name": "stdout",
     "output_type": "stream",
     "text": [
      "0       [{'name': 'Pixar Animation Studios', 'id': 3}]\n",
      "1       [{'name': 'Pixar Animation Studios', 'id': 3}]\n",
      "2       [{'name': 'Pixar Animation Studios', 'id': 3}]\n",
      "3    [{'name': 'TriStar Pictures', 'id': 559}, {'na...\n",
      "4    [{'name': 'TriStar Pictures', 'id': 559}, {'na...\n",
      "5    [{'name': 'TriStar Pictures', 'id': 559}, {'na...\n",
      "6    [{'name': 'Warner Bros.', 'id': 6194}, {'name'...\n",
      "7    [{'name': 'Warner Bros.', 'id': 6194}, {'name'...\n",
      "8    [{'name': 'Twentieth Century Fox Film Corporat...\n",
      "9    [{'name': 'Twentieth Century Fox Film Corporat...\n",
      "Name: production_companies, dtype: object\n"
     ]
    }
   ],
   "source": [
    "# Obtenemos una muestra de los valores en la columna 'production_companies'\n",
    "print(movies_df['production_companies'].head(10))"
   ]
  },
  {
   "cell_type": "code",
   "execution_count": 24,
   "metadata": {},
   "outputs": [
    {
     "data": {
      "text/plain": [
       "production_companies\n",
       "<class 'str'>      93539\n",
       "<class 'float'>        9\n",
       "Name: count, dtype: int64"
      ]
     },
     "execution_count": 24,
     "metadata": {},
     "output_type": "execute_result"
    }
   ],
   "source": [
    "movies_df['production_companies'].apply(type).value_counts()"
   ]
  },
  {
   "cell_type": "code",
   "execution_count": 25,
   "metadata": {},
   "outputs": [],
   "source": [
    "# Se aplica la limpieza a la columna 'production_companies'\n",
    "movies_df['production_companies'] = movies_df['production_companies'].apply(limpiar_json_invalido)"
   ]
  },
  {
   "cell_type": "code",
   "execution_count": 26,
   "metadata": {},
   "outputs": [
    {
     "name": "stdout",
     "output_type": "stream",
     "text": [
      "    company_id                            company_name\n",
      "0          3.0                 Pixar Animation Studios\n",
      "1          3.0                 Pixar Animation Studios\n",
      "2          3.0                 Pixar Animation Studios\n",
      "3        559.0                        TriStar Pictures\n",
      "4       2550.0                            Teitler Film\n",
      "5      10201.0               Interscope Communications\n",
      "6        559.0                        TriStar Pictures\n",
      "7       2550.0                            Teitler Film\n",
      "8      10201.0               Interscope Communications\n",
      "9        559.0                        TriStar Pictures\n",
      "10      2550.0                            Teitler Film\n",
      "11     10201.0               Interscope Communications\n",
      "12      6194.0                            Warner Bros.\n",
      "13     19464.0                          Lancaster Gate\n",
      "14      6194.0                            Warner Bros.\n",
      "15     19464.0                          Lancaster Gate\n",
      "16       306.0  Twentieth Century Fox Film Corporation\n",
      "17       306.0  Twentieth Century Fox Film Corporation\n",
      "18       306.0  Twentieth Century Fox Film Corporation\n",
      "19      5842.0                   Sandollar Productions\n"
     ]
    }
   ],
   "source": [
    "# Se aplica la función de desanidado en 'production_companies' con el prefijo 'company'\n",
    "movies_df = desanidar_listas_diccionarios(movies_df, 'production_companies', 'company')\n",
    "\n",
    "# Se verifican las nuevas columnas desanidadas\n",
    "print(movies_df[['company_id', 'company_name']].head(20))\n"
   ]
  },
  {
   "cell_type": "code",
   "execution_count": 27,
   "metadata": {},
   "outputs": [
    {
     "name": "stdout",
     "output_type": "stream",
     "text": [
      "    company_id                            company_name\n",
      "0            3                 Pixar Animation Studios\n",
      "1            3                 Pixar Animation Studios\n",
      "2            3                 Pixar Animation Studios\n",
      "3          559                        TriStar Pictures\n",
      "4         2550                            Teitler Film\n",
      "5        10201               Interscope Communications\n",
      "6          559                        TriStar Pictures\n",
      "7         2550                            Teitler Film\n",
      "8        10201               Interscope Communications\n",
      "9          559                        TriStar Pictures\n",
      "10        2550                            Teitler Film\n",
      "11       10201               Interscope Communications\n",
      "12        6194                            Warner Bros.\n",
      "13       19464                          Lancaster Gate\n",
      "14        6194                            Warner Bros.\n",
      "15       19464                          Lancaster Gate\n",
      "16         306  Twentieth Century Fox Film Corporation\n",
      "17         306  Twentieth Century Fox Film Corporation\n",
      "18         306  Twentieth Century Fox Film Corporation\n",
      "19        5842                   Sandollar Productions\n"
     ]
    }
   ],
   "source": [
    "# Convertir los valores de 'company_id' a enteros\n",
    "movies_df['company_id'] = movies_df['company_id'].astype('Int64')\n",
    "\n",
    "# Verificamos nuevamente las primeras filas\n",
    "print(movies_df[['company_id', 'company_name']].head(20))\n"
   ]
  },
  {
   "cell_type": "code",
   "execution_count": 28,
   "metadata": {},
   "outputs": [
    {
     "data": {
      "text/html": [
       "<div>\n",
       "<style scoped>\n",
       "    .dataframe tbody tr th:only-of-type {\n",
       "        vertical-align: middle;\n",
       "    }\n",
       "\n",
       "    .dataframe tbody tr th {\n",
       "        vertical-align: top;\n",
       "    }\n",
       "\n",
       "    .dataframe thead th {\n",
       "        text-align: right;\n",
       "    }\n",
       "</style>\n",
       "<table border=\"1\" class=\"dataframe\">\n",
       "  <thead>\n",
       "    <tr style=\"text-align: right;\">\n",
       "      <th></th>\n",
       "      <th>adult</th>\n",
       "      <th>belongs_to_collection</th>\n",
       "      <th>budget</th>\n",
       "      <th>genres</th>\n",
       "      <th>homepage</th>\n",
       "      <th>id</th>\n",
       "      <th>imdb_id</th>\n",
       "      <th>original_language</th>\n",
       "      <th>original_title</th>\n",
       "      <th>overview</th>\n",
       "      <th>...</th>\n",
       "      <th>vote_average</th>\n",
       "      <th>vote_count</th>\n",
       "      <th>collection_id</th>\n",
       "      <th>collection_name</th>\n",
       "      <th>collection_poster_path</th>\n",
       "      <th>collection_backdrop_path</th>\n",
       "      <th>genre_id</th>\n",
       "      <th>genre_name</th>\n",
       "      <th>company_name</th>\n",
       "      <th>company_id</th>\n",
       "    </tr>\n",
       "  </thead>\n",
       "  <tbody>\n",
       "    <tr>\n",
       "      <th>0</th>\n",
       "      <td>False</td>\n",
       "      <td>{'id': 10194, 'name': 'Toy Story Collection', ...</td>\n",
       "      <td>30000000</td>\n",
       "      <td>{'id': 16, 'name': 'Animation'}</td>\n",
       "      <td>http://toystory.disney.com/toy-story</td>\n",
       "      <td>862</td>\n",
       "      <td>tt0114709</td>\n",
       "      <td>en</td>\n",
       "      <td>Toy Story</td>\n",
       "      <td>Led by Woody, Andy's toys live happily in his ...</td>\n",
       "      <td>...</td>\n",
       "      <td>7.7</td>\n",
       "      <td>5415.0</td>\n",
       "      <td>10194.0</td>\n",
       "      <td>Toy Story Collection</td>\n",
       "      <td>/7G9915LfUQ2lVfwMEEhDsn3kT4B.jpg</td>\n",
       "      <td>/9FBwqcd9IRruEDUrTdcaafOMKUq.jpg</td>\n",
       "      <td>16.0</td>\n",
       "      <td>Animation</td>\n",
       "      <td>Pixar Animation Studios</td>\n",
       "      <td>3</td>\n",
       "    </tr>\n",
       "    <tr>\n",
       "      <th>1</th>\n",
       "      <td>False</td>\n",
       "      <td>{'id': 10194, 'name': 'Toy Story Collection', ...</td>\n",
       "      <td>30000000</td>\n",
       "      <td>{'id': 35, 'name': 'Comedy'}</td>\n",
       "      <td>http://toystory.disney.com/toy-story</td>\n",
       "      <td>862</td>\n",
       "      <td>tt0114709</td>\n",
       "      <td>en</td>\n",
       "      <td>Toy Story</td>\n",
       "      <td>Led by Woody, Andy's toys live happily in his ...</td>\n",
       "      <td>...</td>\n",
       "      <td>7.7</td>\n",
       "      <td>5415.0</td>\n",
       "      <td>10194.0</td>\n",
       "      <td>Toy Story Collection</td>\n",
       "      <td>/7G9915LfUQ2lVfwMEEhDsn3kT4B.jpg</td>\n",
       "      <td>/9FBwqcd9IRruEDUrTdcaafOMKUq.jpg</td>\n",
       "      <td>35.0</td>\n",
       "      <td>Comedy</td>\n",
       "      <td>Pixar Animation Studios</td>\n",
       "      <td>3</td>\n",
       "    </tr>\n",
       "    <tr>\n",
       "      <th>2</th>\n",
       "      <td>False</td>\n",
       "      <td>{'id': 10194, 'name': 'Toy Story Collection', ...</td>\n",
       "      <td>30000000</td>\n",
       "      <td>{'id': 10751, 'name': 'Family'}</td>\n",
       "      <td>http://toystory.disney.com/toy-story</td>\n",
       "      <td>862</td>\n",
       "      <td>tt0114709</td>\n",
       "      <td>en</td>\n",
       "      <td>Toy Story</td>\n",
       "      <td>Led by Woody, Andy's toys live happily in his ...</td>\n",
       "      <td>...</td>\n",
       "      <td>7.7</td>\n",
       "      <td>5415.0</td>\n",
       "      <td>10194.0</td>\n",
       "      <td>Toy Story Collection</td>\n",
       "      <td>/7G9915LfUQ2lVfwMEEhDsn3kT4B.jpg</td>\n",
       "      <td>/9FBwqcd9IRruEDUrTdcaafOMKUq.jpg</td>\n",
       "      <td>10751.0</td>\n",
       "      <td>Family</td>\n",
       "      <td>Pixar Animation Studios</td>\n",
       "      <td>3</td>\n",
       "    </tr>\n",
       "    <tr>\n",
       "      <th>3</th>\n",
       "      <td>False</td>\n",
       "      <td>{}</td>\n",
       "      <td>65000000</td>\n",
       "      <td>{'id': 12, 'name': 'Adventure'}</td>\n",
       "      <td>NaN</td>\n",
       "      <td>8844</td>\n",
       "      <td>tt0113497</td>\n",
       "      <td>en</td>\n",
       "      <td>Jumanji</td>\n",
       "      <td>When siblings Judy and Peter discover an encha...</td>\n",
       "      <td>...</td>\n",
       "      <td>6.9</td>\n",
       "      <td>2413.0</td>\n",
       "      <td>NaN</td>\n",
       "      <td>NaN</td>\n",
       "      <td>NaN</td>\n",
       "      <td>NaN</td>\n",
       "      <td>12.0</td>\n",
       "      <td>Adventure</td>\n",
       "      <td>TriStar Pictures</td>\n",
       "      <td>559</td>\n",
       "    </tr>\n",
       "    <tr>\n",
       "      <th>4</th>\n",
       "      <td>False</td>\n",
       "      <td>{}</td>\n",
       "      <td>65000000</td>\n",
       "      <td>{'id': 12, 'name': 'Adventure'}</td>\n",
       "      <td>NaN</td>\n",
       "      <td>8844</td>\n",
       "      <td>tt0113497</td>\n",
       "      <td>en</td>\n",
       "      <td>Jumanji</td>\n",
       "      <td>When siblings Judy and Peter discover an encha...</td>\n",
       "      <td>...</td>\n",
       "      <td>6.9</td>\n",
       "      <td>2413.0</td>\n",
       "      <td>NaN</td>\n",
       "      <td>NaN</td>\n",
       "      <td>NaN</td>\n",
       "      <td>NaN</td>\n",
       "      <td>12.0</td>\n",
       "      <td>Adventure</td>\n",
       "      <td>Teitler Film</td>\n",
       "      <td>2550</td>\n",
       "    </tr>\n",
       "  </tbody>\n",
       "</table>\n",
       "<p>5 rows × 32 columns</p>\n",
       "</div>"
      ],
      "text/plain": [
       "   adult                              belongs_to_collection    budget  \\\n",
       "0  False  {'id': 10194, 'name': 'Toy Story Collection', ...  30000000   \n",
       "1  False  {'id': 10194, 'name': 'Toy Story Collection', ...  30000000   \n",
       "2  False  {'id': 10194, 'name': 'Toy Story Collection', ...  30000000   \n",
       "3  False                                                 {}  65000000   \n",
       "4  False                                                 {}  65000000   \n",
       "\n",
       "                            genres                              homepage  \\\n",
       "0  {'id': 16, 'name': 'Animation'}  http://toystory.disney.com/toy-story   \n",
       "1     {'id': 35, 'name': 'Comedy'}  http://toystory.disney.com/toy-story   \n",
       "2  {'id': 10751, 'name': 'Family'}  http://toystory.disney.com/toy-story   \n",
       "3  {'id': 12, 'name': 'Adventure'}                                   NaN   \n",
       "4  {'id': 12, 'name': 'Adventure'}                                   NaN   \n",
       "\n",
       "     id    imdb_id original_language original_title  \\\n",
       "0   862  tt0114709                en      Toy Story   \n",
       "1   862  tt0114709                en      Toy Story   \n",
       "2   862  tt0114709                en      Toy Story   \n",
       "3  8844  tt0113497                en        Jumanji   \n",
       "4  8844  tt0113497                en        Jumanji   \n",
       "\n",
       "                                            overview  ... vote_average  \\\n",
       "0  Led by Woody, Andy's toys live happily in his ...  ...          7.7   \n",
       "1  Led by Woody, Andy's toys live happily in his ...  ...          7.7   \n",
       "2  Led by Woody, Andy's toys live happily in his ...  ...          7.7   \n",
       "3  When siblings Judy and Peter discover an encha...  ...          6.9   \n",
       "4  When siblings Judy and Peter discover an encha...  ...          6.9   \n",
       "\n",
       "  vote_count collection_id       collection_name  \\\n",
       "0     5415.0       10194.0  Toy Story Collection   \n",
       "1     5415.0       10194.0  Toy Story Collection   \n",
       "2     5415.0       10194.0  Toy Story Collection   \n",
       "3     2413.0           NaN                   NaN   \n",
       "4     2413.0           NaN                   NaN   \n",
       "\n",
       "             collection_poster_path          collection_backdrop_path  \\\n",
       "0  /7G9915LfUQ2lVfwMEEhDsn3kT4B.jpg  /9FBwqcd9IRruEDUrTdcaafOMKUq.jpg   \n",
       "1  /7G9915LfUQ2lVfwMEEhDsn3kT4B.jpg  /9FBwqcd9IRruEDUrTdcaafOMKUq.jpg   \n",
       "2  /7G9915LfUQ2lVfwMEEhDsn3kT4B.jpg  /9FBwqcd9IRruEDUrTdcaafOMKUq.jpg   \n",
       "3                               NaN                               NaN   \n",
       "4                               NaN                               NaN   \n",
       "\n",
       "   genre_id genre_name             company_name company_id  \n",
       "0      16.0  Animation  Pixar Animation Studios          3  \n",
       "1      35.0     Comedy  Pixar Animation Studios          3  \n",
       "2   10751.0     Family  Pixar Animation Studios          3  \n",
       "3      12.0  Adventure         TriStar Pictures        559  \n",
       "4      12.0  Adventure             Teitler Film       2550  \n",
       "\n",
       "[5 rows x 32 columns]"
      ]
     },
     "execution_count": 28,
     "metadata": {},
     "output_type": "execute_result"
    }
   ],
   "source": [
    "# Continuamente observamos el dataframe\n",
    "movies_df.head()"
   ]
  },
  {
   "cell_type": "markdown",
   "metadata": {},
   "source": [
    "#### Desanidado de `'production_countries'`"
   ]
  },
  {
   "cell_type": "code",
   "execution_count": 29,
   "metadata": {},
   "outputs": [
    {
     "name": "stdout",
     "output_type": "stream",
     "text": [
      "0    [{'iso_3166_1': 'US', 'name': 'United States o...\n",
      "1    [{'iso_3166_1': 'US', 'name': 'United States o...\n",
      "2    [{'iso_3166_1': 'US', 'name': 'United States o...\n",
      "3    [{'iso_3166_1': 'US', 'name': 'United States o...\n",
      "4    [{'iso_3166_1': 'US', 'name': 'United States o...\n",
      "5    [{'iso_3166_1': 'US', 'name': 'United States o...\n",
      "6    [{'iso_3166_1': 'US', 'name': 'United States o...\n",
      "7    [{'iso_3166_1': 'US', 'name': 'United States o...\n",
      "8    [{'iso_3166_1': 'US', 'name': 'United States o...\n",
      "9    [{'iso_3166_1': 'US', 'name': 'United States o...\n",
      "Name: production_countries, dtype: object\n"
     ]
    }
   ],
   "source": [
    "# Obtener una muestra de los valores en la columna 'production_countries'\n",
    "print(movies_df['production_countries'].head(10))"
   ]
  },
  {
   "cell_type": "code",
   "execution_count": 30,
   "metadata": {},
   "outputs": [],
   "source": [
    "# Se aplica la limpieza a la columna 'production_countries'\n",
    "movies_df['production_countries'] = movies_df['production_countries'].apply(limpiar_json_invalido)"
   ]
  },
  {
   "cell_type": "code",
   "execution_count": 31,
   "metadata": {},
   "outputs": [
    {
     "name": "stdout",
     "output_type": "stream",
     "text": [
      "   country_iso_3166_1              country_name\n",
      "0                  US  United States of America\n",
      "1                  US  United States of America\n",
      "2                  US  United States of America\n",
      "3                  US  United States of America\n",
      "4                  US  United States of America\n",
      "5                  US  United States of America\n",
      "6                  US  United States of America\n",
      "7                  US  United States of America\n",
      "8                  US  United States of America\n",
      "9                  US  United States of America\n",
      "10                 US  United States of America\n",
      "11                 US  United States of America\n",
      "12                 US  United States of America\n",
      "13                 US  United States of America\n",
      "14                 US  United States of America\n",
      "15                 US  United States of America\n",
      "16                 US  United States of America\n",
      "17                 US  United States of America\n",
      "18                 US  United States of America\n",
      "19                 US  United States of America\n"
     ]
    }
   ],
   "source": [
    "# Desanidamos la columna 'production_countries' con el prefijo 'country'\n",
    "movies_df = desanidar_listas_diccionarios(movies_df, 'production_countries', 'country')\n",
    "\n",
    "# Verificamos las nuevas columnas desanidadas\n",
    "print(movies_df[['country_iso_3166_1', 'country_name']].head(20))\n"
   ]
  },
  {
   "cell_type": "code",
   "execution_count": 32,
   "metadata": {},
   "outputs": [
    {
     "data": {
      "text/html": [
       "<div>\n",
       "<style scoped>\n",
       "    .dataframe tbody tr th:only-of-type {\n",
       "        vertical-align: middle;\n",
       "    }\n",
       "\n",
       "    .dataframe tbody tr th {\n",
       "        vertical-align: top;\n",
       "    }\n",
       "\n",
       "    .dataframe thead th {\n",
       "        text-align: right;\n",
       "    }\n",
       "</style>\n",
       "<table border=\"1\" class=\"dataframe\">\n",
       "  <thead>\n",
       "    <tr style=\"text-align: right;\">\n",
       "      <th></th>\n",
       "      <th>adult</th>\n",
       "      <th>belongs_to_collection</th>\n",
       "      <th>budget</th>\n",
       "      <th>genres</th>\n",
       "      <th>homepage</th>\n",
       "      <th>id</th>\n",
       "      <th>imdb_id</th>\n",
       "      <th>original_language</th>\n",
       "      <th>original_title</th>\n",
       "      <th>overview</th>\n",
       "      <th>...</th>\n",
       "      <th>collection_id</th>\n",
       "      <th>collection_name</th>\n",
       "      <th>collection_poster_path</th>\n",
       "      <th>collection_backdrop_path</th>\n",
       "      <th>genre_id</th>\n",
       "      <th>genre_name</th>\n",
       "      <th>company_name</th>\n",
       "      <th>company_id</th>\n",
       "      <th>country_iso_3166_1</th>\n",
       "      <th>country_name</th>\n",
       "    </tr>\n",
       "  </thead>\n",
       "  <tbody>\n",
       "    <tr>\n",
       "      <th>0</th>\n",
       "      <td>False</td>\n",
       "      <td>{'id': 10194, 'name': 'Toy Story Collection', ...</td>\n",
       "      <td>30000000</td>\n",
       "      <td>{'id': 16, 'name': 'Animation'}</td>\n",
       "      <td>http://toystory.disney.com/toy-story</td>\n",
       "      <td>862</td>\n",
       "      <td>tt0114709</td>\n",
       "      <td>en</td>\n",
       "      <td>Toy Story</td>\n",
       "      <td>Led by Woody, Andy's toys live happily in his ...</td>\n",
       "      <td>...</td>\n",
       "      <td>10194.0</td>\n",
       "      <td>Toy Story Collection</td>\n",
       "      <td>/7G9915LfUQ2lVfwMEEhDsn3kT4B.jpg</td>\n",
       "      <td>/9FBwqcd9IRruEDUrTdcaafOMKUq.jpg</td>\n",
       "      <td>16.0</td>\n",
       "      <td>Animation</td>\n",
       "      <td>Pixar Animation Studios</td>\n",
       "      <td>3</td>\n",
       "      <td>US</td>\n",
       "      <td>United States of America</td>\n",
       "    </tr>\n",
       "    <tr>\n",
       "      <th>1</th>\n",
       "      <td>False</td>\n",
       "      <td>{'id': 10194, 'name': 'Toy Story Collection', ...</td>\n",
       "      <td>30000000</td>\n",
       "      <td>{'id': 35, 'name': 'Comedy'}</td>\n",
       "      <td>http://toystory.disney.com/toy-story</td>\n",
       "      <td>862</td>\n",
       "      <td>tt0114709</td>\n",
       "      <td>en</td>\n",
       "      <td>Toy Story</td>\n",
       "      <td>Led by Woody, Andy's toys live happily in his ...</td>\n",
       "      <td>...</td>\n",
       "      <td>10194.0</td>\n",
       "      <td>Toy Story Collection</td>\n",
       "      <td>/7G9915LfUQ2lVfwMEEhDsn3kT4B.jpg</td>\n",
       "      <td>/9FBwqcd9IRruEDUrTdcaafOMKUq.jpg</td>\n",
       "      <td>35.0</td>\n",
       "      <td>Comedy</td>\n",
       "      <td>Pixar Animation Studios</td>\n",
       "      <td>3</td>\n",
       "      <td>US</td>\n",
       "      <td>United States of America</td>\n",
       "    </tr>\n",
       "    <tr>\n",
       "      <th>2</th>\n",
       "      <td>False</td>\n",
       "      <td>{'id': 10194, 'name': 'Toy Story Collection', ...</td>\n",
       "      <td>30000000</td>\n",
       "      <td>{'id': 10751, 'name': 'Family'}</td>\n",
       "      <td>http://toystory.disney.com/toy-story</td>\n",
       "      <td>862</td>\n",
       "      <td>tt0114709</td>\n",
       "      <td>en</td>\n",
       "      <td>Toy Story</td>\n",
       "      <td>Led by Woody, Andy's toys live happily in his ...</td>\n",
       "      <td>...</td>\n",
       "      <td>10194.0</td>\n",
       "      <td>Toy Story Collection</td>\n",
       "      <td>/7G9915LfUQ2lVfwMEEhDsn3kT4B.jpg</td>\n",
       "      <td>/9FBwqcd9IRruEDUrTdcaafOMKUq.jpg</td>\n",
       "      <td>10751.0</td>\n",
       "      <td>Family</td>\n",
       "      <td>Pixar Animation Studios</td>\n",
       "      <td>3</td>\n",
       "      <td>US</td>\n",
       "      <td>United States of America</td>\n",
       "    </tr>\n",
       "    <tr>\n",
       "      <th>3</th>\n",
       "      <td>False</td>\n",
       "      <td>{}</td>\n",
       "      <td>65000000</td>\n",
       "      <td>{'id': 12, 'name': 'Adventure'}</td>\n",
       "      <td>NaN</td>\n",
       "      <td>8844</td>\n",
       "      <td>tt0113497</td>\n",
       "      <td>en</td>\n",
       "      <td>Jumanji</td>\n",
       "      <td>When siblings Judy and Peter discover an encha...</td>\n",
       "      <td>...</td>\n",
       "      <td>NaN</td>\n",
       "      <td>NaN</td>\n",
       "      <td>NaN</td>\n",
       "      <td>NaN</td>\n",
       "      <td>12.0</td>\n",
       "      <td>Adventure</td>\n",
       "      <td>TriStar Pictures</td>\n",
       "      <td>559</td>\n",
       "      <td>US</td>\n",
       "      <td>United States of America</td>\n",
       "    </tr>\n",
       "    <tr>\n",
       "      <th>4</th>\n",
       "      <td>False</td>\n",
       "      <td>{}</td>\n",
       "      <td>65000000</td>\n",
       "      <td>{'id': 12, 'name': 'Adventure'}</td>\n",
       "      <td>NaN</td>\n",
       "      <td>8844</td>\n",
       "      <td>tt0113497</td>\n",
       "      <td>en</td>\n",
       "      <td>Jumanji</td>\n",
       "      <td>When siblings Judy and Peter discover an encha...</td>\n",
       "      <td>...</td>\n",
       "      <td>NaN</td>\n",
       "      <td>NaN</td>\n",
       "      <td>NaN</td>\n",
       "      <td>NaN</td>\n",
       "      <td>12.0</td>\n",
       "      <td>Adventure</td>\n",
       "      <td>Teitler Film</td>\n",
       "      <td>2550</td>\n",
       "      <td>US</td>\n",
       "      <td>United States of America</td>\n",
       "    </tr>\n",
       "  </tbody>\n",
       "</table>\n",
       "<p>5 rows × 34 columns</p>\n",
       "</div>"
      ],
      "text/plain": [
       "   adult                              belongs_to_collection    budget  \\\n",
       "0  False  {'id': 10194, 'name': 'Toy Story Collection', ...  30000000   \n",
       "1  False  {'id': 10194, 'name': 'Toy Story Collection', ...  30000000   \n",
       "2  False  {'id': 10194, 'name': 'Toy Story Collection', ...  30000000   \n",
       "3  False                                                 {}  65000000   \n",
       "4  False                                                 {}  65000000   \n",
       "\n",
       "                            genres                              homepage  \\\n",
       "0  {'id': 16, 'name': 'Animation'}  http://toystory.disney.com/toy-story   \n",
       "1     {'id': 35, 'name': 'Comedy'}  http://toystory.disney.com/toy-story   \n",
       "2  {'id': 10751, 'name': 'Family'}  http://toystory.disney.com/toy-story   \n",
       "3  {'id': 12, 'name': 'Adventure'}                                   NaN   \n",
       "4  {'id': 12, 'name': 'Adventure'}                                   NaN   \n",
       "\n",
       "     id    imdb_id original_language original_title  \\\n",
       "0   862  tt0114709                en      Toy Story   \n",
       "1   862  tt0114709                en      Toy Story   \n",
       "2   862  tt0114709                en      Toy Story   \n",
       "3  8844  tt0113497                en        Jumanji   \n",
       "4  8844  tt0113497                en        Jumanji   \n",
       "\n",
       "                                            overview  ... collection_id  \\\n",
       "0  Led by Woody, Andy's toys live happily in his ...  ...       10194.0   \n",
       "1  Led by Woody, Andy's toys live happily in his ...  ...       10194.0   \n",
       "2  Led by Woody, Andy's toys live happily in his ...  ...       10194.0   \n",
       "3  When siblings Judy and Peter discover an encha...  ...           NaN   \n",
       "4  When siblings Judy and Peter discover an encha...  ...           NaN   \n",
       "\n",
       "        collection_name            collection_poster_path  \\\n",
       "0  Toy Story Collection  /7G9915LfUQ2lVfwMEEhDsn3kT4B.jpg   \n",
       "1  Toy Story Collection  /7G9915LfUQ2lVfwMEEhDsn3kT4B.jpg   \n",
       "2  Toy Story Collection  /7G9915LfUQ2lVfwMEEhDsn3kT4B.jpg   \n",
       "3                   NaN                               NaN   \n",
       "4                   NaN                               NaN   \n",
       "\n",
       "           collection_backdrop_path genre_id  genre_name  \\\n",
       "0  /9FBwqcd9IRruEDUrTdcaafOMKUq.jpg     16.0   Animation   \n",
       "1  /9FBwqcd9IRruEDUrTdcaafOMKUq.jpg     35.0      Comedy   \n",
       "2  /9FBwqcd9IRruEDUrTdcaafOMKUq.jpg  10751.0      Family   \n",
       "3                               NaN     12.0   Adventure   \n",
       "4                               NaN     12.0   Adventure   \n",
       "\n",
       "              company_name company_id country_iso_3166_1  \\\n",
       "0  Pixar Animation Studios          3                 US   \n",
       "1  Pixar Animation Studios          3                 US   \n",
       "2  Pixar Animation Studios          3                 US   \n",
       "3         TriStar Pictures        559                 US   \n",
       "4             Teitler Film       2550                 US   \n",
       "\n",
       "               country_name  \n",
       "0  United States of America  \n",
       "1  United States of America  \n",
       "2  United States of America  \n",
       "3  United States of America  \n",
       "4  United States of America  \n",
       "\n",
       "[5 rows x 34 columns]"
      ]
     },
     "execution_count": 32,
     "metadata": {},
     "output_type": "execute_result"
    }
   ],
   "source": [
    "movies_df.head()"
   ]
  },
  {
   "cell_type": "markdown",
   "metadata": {},
   "source": [
    "#### Desanidado de `'spoken_lenguages'`"
   ]
  },
  {
   "cell_type": "code",
   "execution_count": 33,
   "metadata": {},
   "outputs": [
    {
     "name": "stdout",
     "output_type": "stream",
     "text": [
      "0             [{'iso_639_1': 'en', 'name': 'English'}]\n",
      "1             [{'iso_639_1': 'en', 'name': 'English'}]\n",
      "2             [{'iso_639_1': 'en', 'name': 'English'}]\n",
      "3    [{'iso_639_1': 'en', 'name': 'English'}, {'iso...\n",
      "4    [{'iso_639_1': 'en', 'name': 'English'}, {'iso...\n",
      "5    [{'iso_639_1': 'en', 'name': 'English'}, {'iso...\n",
      "6    [{'iso_639_1': 'en', 'name': 'English'}, {'iso...\n",
      "7    [{'iso_639_1': 'en', 'name': 'English'}, {'iso...\n",
      "8    [{'iso_639_1': 'en', 'name': 'English'}, {'iso...\n",
      "9    [{'iso_639_1': 'en', 'name': 'English'}, {'iso...\n",
      "Name: spoken_languages, dtype: object\n"
     ]
    }
   ],
   "source": [
    "# Muestra de los valores en la columna 'spoken_languages'\n",
    "print(movies_df['spoken_languages'].head(10))\n"
   ]
  },
  {
   "cell_type": "code",
   "execution_count": 34,
   "metadata": {},
   "outputs": [],
   "source": [
    "# Se aplica la limpieza JSON a la columna 'spoken_languages'\n",
    "movies_df['spoken_languages'] = movies_df['spoken_languages'].apply(limpiar_json_invalido)"
   ]
  },
  {
   "cell_type": "code",
   "execution_count": 35,
   "metadata": {},
   "outputs": [],
   "source": [
    "# Se aplica la función de desanidado en 'spoken_languages'\n",
    "movies_df = desanidar_listas_diccionarios(movies_df, 'spoken_languages', 'language')"
   ]
  },
  {
   "cell_type": "code",
   "execution_count": 36,
   "metadata": {},
   "outputs": [
    {
     "name": "stdout",
     "output_type": "stream",
     "text": [
      "   language_iso_639_1 language_name\n",
      "0                  en       English\n",
      "1                  en       English\n",
      "2                  en       English\n",
      "3                  en       English\n",
      "4                  fr      Français\n",
      "5                  en       English\n",
      "6                  fr      Français\n",
      "7                  en       English\n",
      "8                  fr      Français\n",
      "9                  en       English\n",
      "10                 fr      Français\n",
      "11                 en       English\n",
      "12                 fr      Français\n",
      "13                 en       English\n",
      "14                 fr      Français\n",
      "15                 en       English\n",
      "16                 fr      Français\n",
      "17                 en       English\n",
      "18                 fr      Français\n",
      "19                 en       English\n"
     ]
    }
   ],
   "source": [
    "# Corrobarmos las nuevas columnas desanidadas\n",
    "print(movies_df[['language_iso_639_1', 'language_name']].head(20))"
   ]
  },
  {
   "cell_type": "code",
   "execution_count": 37,
   "metadata": {},
   "outputs": [
    {
     "data": {
      "text/html": [
       "<div>\n",
       "<style scoped>\n",
       "    .dataframe tbody tr th:only-of-type {\n",
       "        vertical-align: middle;\n",
       "    }\n",
       "\n",
       "    .dataframe tbody tr th {\n",
       "        vertical-align: top;\n",
       "    }\n",
       "\n",
       "    .dataframe thead th {\n",
       "        text-align: right;\n",
       "    }\n",
       "</style>\n",
       "<table border=\"1\" class=\"dataframe\">\n",
       "  <thead>\n",
       "    <tr style=\"text-align: right;\">\n",
       "      <th></th>\n",
       "      <th>adult</th>\n",
       "      <th>belongs_to_collection</th>\n",
       "      <th>budget</th>\n",
       "      <th>genres</th>\n",
       "      <th>homepage</th>\n",
       "      <th>id</th>\n",
       "      <th>imdb_id</th>\n",
       "      <th>original_language</th>\n",
       "      <th>original_title</th>\n",
       "      <th>overview</th>\n",
       "      <th>...</th>\n",
       "      <th>collection_poster_path</th>\n",
       "      <th>collection_backdrop_path</th>\n",
       "      <th>genre_id</th>\n",
       "      <th>genre_name</th>\n",
       "      <th>company_name</th>\n",
       "      <th>company_id</th>\n",
       "      <th>country_iso_3166_1</th>\n",
       "      <th>country_name</th>\n",
       "      <th>language_iso_639_1</th>\n",
       "      <th>language_name</th>\n",
       "    </tr>\n",
       "  </thead>\n",
       "  <tbody>\n",
       "    <tr>\n",
       "      <th>0</th>\n",
       "      <td>False</td>\n",
       "      <td>{'id': 10194, 'name': 'Toy Story Collection', ...</td>\n",
       "      <td>30000000</td>\n",
       "      <td>{'id': 16, 'name': 'Animation'}</td>\n",
       "      <td>http://toystory.disney.com/toy-story</td>\n",
       "      <td>862</td>\n",
       "      <td>tt0114709</td>\n",
       "      <td>en</td>\n",
       "      <td>Toy Story</td>\n",
       "      <td>Led by Woody, Andy's toys live happily in his ...</td>\n",
       "      <td>...</td>\n",
       "      <td>/7G9915LfUQ2lVfwMEEhDsn3kT4B.jpg</td>\n",
       "      <td>/9FBwqcd9IRruEDUrTdcaafOMKUq.jpg</td>\n",
       "      <td>16.0</td>\n",
       "      <td>Animation</td>\n",
       "      <td>Pixar Animation Studios</td>\n",
       "      <td>3</td>\n",
       "      <td>US</td>\n",
       "      <td>United States of America</td>\n",
       "      <td>en</td>\n",
       "      <td>English</td>\n",
       "    </tr>\n",
       "    <tr>\n",
       "      <th>1</th>\n",
       "      <td>False</td>\n",
       "      <td>{'id': 10194, 'name': 'Toy Story Collection', ...</td>\n",
       "      <td>30000000</td>\n",
       "      <td>{'id': 35, 'name': 'Comedy'}</td>\n",
       "      <td>http://toystory.disney.com/toy-story</td>\n",
       "      <td>862</td>\n",
       "      <td>tt0114709</td>\n",
       "      <td>en</td>\n",
       "      <td>Toy Story</td>\n",
       "      <td>Led by Woody, Andy's toys live happily in his ...</td>\n",
       "      <td>...</td>\n",
       "      <td>/7G9915LfUQ2lVfwMEEhDsn3kT4B.jpg</td>\n",
       "      <td>/9FBwqcd9IRruEDUrTdcaafOMKUq.jpg</td>\n",
       "      <td>35.0</td>\n",
       "      <td>Comedy</td>\n",
       "      <td>Pixar Animation Studios</td>\n",
       "      <td>3</td>\n",
       "      <td>US</td>\n",
       "      <td>United States of America</td>\n",
       "      <td>en</td>\n",
       "      <td>English</td>\n",
       "    </tr>\n",
       "    <tr>\n",
       "      <th>2</th>\n",
       "      <td>False</td>\n",
       "      <td>{'id': 10194, 'name': 'Toy Story Collection', ...</td>\n",
       "      <td>30000000</td>\n",
       "      <td>{'id': 10751, 'name': 'Family'}</td>\n",
       "      <td>http://toystory.disney.com/toy-story</td>\n",
       "      <td>862</td>\n",
       "      <td>tt0114709</td>\n",
       "      <td>en</td>\n",
       "      <td>Toy Story</td>\n",
       "      <td>Led by Woody, Andy's toys live happily in his ...</td>\n",
       "      <td>...</td>\n",
       "      <td>/7G9915LfUQ2lVfwMEEhDsn3kT4B.jpg</td>\n",
       "      <td>/9FBwqcd9IRruEDUrTdcaafOMKUq.jpg</td>\n",
       "      <td>10751.0</td>\n",
       "      <td>Family</td>\n",
       "      <td>Pixar Animation Studios</td>\n",
       "      <td>3</td>\n",
       "      <td>US</td>\n",
       "      <td>United States of America</td>\n",
       "      <td>en</td>\n",
       "      <td>English</td>\n",
       "    </tr>\n",
       "    <tr>\n",
       "      <th>3</th>\n",
       "      <td>False</td>\n",
       "      <td>{}</td>\n",
       "      <td>65000000</td>\n",
       "      <td>{'id': 12, 'name': 'Adventure'}</td>\n",
       "      <td>NaN</td>\n",
       "      <td>8844</td>\n",
       "      <td>tt0113497</td>\n",
       "      <td>en</td>\n",
       "      <td>Jumanji</td>\n",
       "      <td>When siblings Judy and Peter discover an encha...</td>\n",
       "      <td>...</td>\n",
       "      <td>NaN</td>\n",
       "      <td>NaN</td>\n",
       "      <td>12.0</td>\n",
       "      <td>Adventure</td>\n",
       "      <td>TriStar Pictures</td>\n",
       "      <td>559</td>\n",
       "      <td>US</td>\n",
       "      <td>United States of America</td>\n",
       "      <td>en</td>\n",
       "      <td>English</td>\n",
       "    </tr>\n",
       "    <tr>\n",
       "      <th>4</th>\n",
       "      <td>False</td>\n",
       "      <td>{}</td>\n",
       "      <td>65000000</td>\n",
       "      <td>{'id': 12, 'name': 'Adventure'}</td>\n",
       "      <td>NaN</td>\n",
       "      <td>8844</td>\n",
       "      <td>tt0113497</td>\n",
       "      <td>en</td>\n",
       "      <td>Jumanji</td>\n",
       "      <td>When siblings Judy and Peter discover an encha...</td>\n",
       "      <td>...</td>\n",
       "      <td>NaN</td>\n",
       "      <td>NaN</td>\n",
       "      <td>12.0</td>\n",
       "      <td>Adventure</td>\n",
       "      <td>TriStar Pictures</td>\n",
       "      <td>559</td>\n",
       "      <td>US</td>\n",
       "      <td>United States of America</td>\n",
       "      <td>fr</td>\n",
       "      <td>Français</td>\n",
       "    </tr>\n",
       "  </tbody>\n",
       "</table>\n",
       "<p>5 rows × 36 columns</p>\n",
       "</div>"
      ],
      "text/plain": [
       "   adult                              belongs_to_collection    budget  \\\n",
       "0  False  {'id': 10194, 'name': 'Toy Story Collection', ...  30000000   \n",
       "1  False  {'id': 10194, 'name': 'Toy Story Collection', ...  30000000   \n",
       "2  False  {'id': 10194, 'name': 'Toy Story Collection', ...  30000000   \n",
       "3  False                                                 {}  65000000   \n",
       "4  False                                                 {}  65000000   \n",
       "\n",
       "                            genres                              homepage  \\\n",
       "0  {'id': 16, 'name': 'Animation'}  http://toystory.disney.com/toy-story   \n",
       "1     {'id': 35, 'name': 'Comedy'}  http://toystory.disney.com/toy-story   \n",
       "2  {'id': 10751, 'name': 'Family'}  http://toystory.disney.com/toy-story   \n",
       "3  {'id': 12, 'name': 'Adventure'}                                   NaN   \n",
       "4  {'id': 12, 'name': 'Adventure'}                                   NaN   \n",
       "\n",
       "     id    imdb_id original_language original_title  \\\n",
       "0   862  tt0114709                en      Toy Story   \n",
       "1   862  tt0114709                en      Toy Story   \n",
       "2   862  tt0114709                en      Toy Story   \n",
       "3  8844  tt0113497                en        Jumanji   \n",
       "4  8844  tt0113497                en        Jumanji   \n",
       "\n",
       "                                            overview  ...  \\\n",
       "0  Led by Woody, Andy's toys live happily in his ...  ...   \n",
       "1  Led by Woody, Andy's toys live happily in his ...  ...   \n",
       "2  Led by Woody, Andy's toys live happily in his ...  ...   \n",
       "3  When siblings Judy and Peter discover an encha...  ...   \n",
       "4  When siblings Judy and Peter discover an encha...  ...   \n",
       "\n",
       "             collection_poster_path          collection_backdrop_path  \\\n",
       "0  /7G9915LfUQ2lVfwMEEhDsn3kT4B.jpg  /9FBwqcd9IRruEDUrTdcaafOMKUq.jpg   \n",
       "1  /7G9915LfUQ2lVfwMEEhDsn3kT4B.jpg  /9FBwqcd9IRruEDUrTdcaafOMKUq.jpg   \n",
       "2  /7G9915LfUQ2lVfwMEEhDsn3kT4B.jpg  /9FBwqcd9IRruEDUrTdcaafOMKUq.jpg   \n",
       "3                               NaN                               NaN   \n",
       "4                               NaN                               NaN   \n",
       "\n",
       "  genre_id genre_name             company_name  company_id  \\\n",
       "0     16.0  Animation  Pixar Animation Studios           3   \n",
       "1     35.0     Comedy  Pixar Animation Studios           3   \n",
       "2  10751.0     Family  Pixar Animation Studios           3   \n",
       "3     12.0  Adventure         TriStar Pictures         559   \n",
       "4     12.0  Adventure         TriStar Pictures         559   \n",
       "\n",
       "   country_iso_3166_1              country_name language_iso_639_1  \\\n",
       "0                  US  United States of America                 en   \n",
       "1                  US  United States of America                 en   \n",
       "2                  US  United States of America                 en   \n",
       "3                  US  United States of America                 en   \n",
       "4                  US  United States of America                 fr   \n",
       "\n",
       "  language_name  \n",
       "0       English  \n",
       "1       English  \n",
       "2       English  \n",
       "3       English  \n",
       "4      Français  \n",
       "\n",
       "[5 rows x 36 columns]"
      ]
     },
     "execution_count": 37,
     "metadata": {},
     "output_type": "execute_result"
    }
   ],
   "source": [
    "movies_df.head()"
   ]
  },
  {
   "cell_type": "markdown",
   "metadata": {},
   "source": [
    "##### **IMPUTACIÓN DE VALORES Y COLUMNAS Y TRATAMIENTO DE FECHAS**"
   ]
  },
  {
   "cell_type": "markdown",
   "metadata": {},
   "source": [
    "Se reemplazarán los valores nulos de las columnas requeridas, como así también, se eliminarán las columnas que no serán de utilidad para nuestro modelo:\n",
    "- columnas anidadas (trabajaremos con las desanidadas)\n",
    "- columnas relacionadas con URL e imágenes que no nos aportarán al análisis.\n",
    "- columnas con texto que describen la película (no utilizaremos procesamiento de lenguaje natural, pero podría considerarse para perfeccionar el modelo).\n",
    "\n",
    "Por último, se implementa el siguiente formato de fechas: `AAAA-mm-dd`\n",
    "\n"
   ]
  },
  {
   "cell_type": "code",
   "execution_count": 38,
   "metadata": {},
   "outputs": [],
   "source": [
    "import pandas as pd"
   ]
  },
  {
   "cell_type": "code",
   "execution_count": 39,
   "metadata": {},
   "outputs": [
    {
     "data": {
      "text/plain": [
       "(381049, 36)"
      ]
     },
     "execution_count": 39,
     "metadata": {},
     "output_type": "execute_result"
    }
   ],
   "source": [
    "movies_df.shape"
   ]
  },
  {
   "cell_type": "code",
   "execution_count": 40,
   "metadata": {},
   "outputs": [
    {
     "data": {
      "text/plain": [
       "Index(['adult', 'belongs_to_collection', 'budget', 'genres', 'homepage', 'id',\n",
       "       'imdb_id', 'original_language', 'original_title', 'overview',\n",
       "       'popularity', 'poster_path', 'production_companies',\n",
       "       'production_countries', 'release_date', 'revenue', 'runtime',\n",
       "       'spoken_languages', 'status', 'tagline', 'title', 'video',\n",
       "       'vote_average', 'vote_count', 'collection_id', 'collection_name',\n",
       "       'collection_poster_path', 'collection_backdrop_path', 'genre_id',\n",
       "       'genre_name', 'company_name', 'company_id', 'country_iso_3166_1',\n",
       "       'country_name', 'language_iso_639_1', 'language_name'],\n",
       "      dtype='object')"
      ]
     },
     "execution_count": 40,
     "metadata": {},
     "output_type": "execute_result"
    }
   ],
   "source": [
    "movies_df.columns"
   ]
  },
  {
   "cell_type": "code",
   "execution_count": 41,
   "metadata": {},
   "outputs": [],
   "source": [
    "# Eliminamos las columnas anidadas\n",
    "columns_to_drop = ['belongs_to_collection', 'genres', 'production_companies', 'production_countries', 'spoken_languages']\n",
    "movies_df = movies_df.drop(columns=columns_to_drop)"
   ]
  },
  {
   "cell_type": "code",
   "execution_count": 42,
   "metadata": {},
   "outputs": [
    {
     "name": "stdout",
     "output_type": "stream",
     "text": [
      "Index(['adult', 'budget', 'homepage', 'id', 'imdb_id', 'original_language',\n",
      "       'original_title', 'overview', 'popularity', 'poster_path',\n",
      "       'release_date', 'revenue', 'runtime', 'status', 'tagline', 'title',\n",
      "       'video', 'vote_average', 'vote_count', 'collection_id',\n",
      "       'collection_name', 'collection_poster_path', 'collection_backdrop_path',\n",
      "       'genre_id', 'genre_name', 'company_name', 'company_id',\n",
      "       'country_iso_3166_1', 'country_name', 'language_iso_639_1',\n",
      "       'language_name'],\n",
      "      dtype='object')\n"
     ]
    }
   ],
   "source": [
    "print(movies_df.columns)"
   ]
  },
  {
   "cell_type": "code",
   "execution_count": 43,
   "metadata": {},
   "outputs": [],
   "source": [
    "# Eliminamos las columnas relacionadas con imágenes\n",
    "columns_to_drop = ['poster_path', 'collection_poster_path', 'collection_backdrop_path']\n",
    "movies_df = movies_df.drop(columns=columns_to_drop)"
   ]
  },
  {
   "cell_type": "code",
   "execution_count": 44,
   "metadata": {},
   "outputs": [
    {
     "name": "stdout",
     "output_type": "stream",
     "text": [
      "Index(['adult', 'budget', 'homepage', 'id', 'imdb_id', 'original_language',\n",
      "       'original_title', 'overview', 'popularity', 'release_date', 'revenue',\n",
      "       'runtime', 'status', 'tagline', 'title', 'video', 'vote_average',\n",
      "       'vote_count', 'collection_id', 'collection_name', 'genre_id',\n",
      "       'genre_name', 'company_name', 'company_id', 'country_iso_3166_1',\n",
      "       'country_name', 'language_iso_639_1', 'language_name'],\n",
      "      dtype='object')\n"
     ]
    }
   ],
   "source": [
    "print(movies_df.columns)"
   ]
  },
  {
   "cell_type": "code",
   "execution_count": 45,
   "metadata": {},
   "outputs": [],
   "source": [
    "# Eliminamos columnas que no serán útiles\n",
    "columns_to_drop = ['adult', 'original_title', 'original_title', 'homepage', 'imdb_id', 'tagline', 'overview', 'status', 'video']\n",
    "movies_df = movies_df.drop(columns=columns_to_drop)"
   ]
  },
  {
   "cell_type": "code",
   "execution_count": 46,
   "metadata": {},
   "outputs": [
    {
     "data": {
      "text/plain": [
       "(381049, 20)"
      ]
     },
     "execution_count": 46,
     "metadata": {},
     "output_type": "execute_result"
    }
   ],
   "source": [
    "movies_df.shape"
   ]
  },
  {
   "cell_type": "code",
   "execution_count": 47,
   "metadata": {},
   "outputs": [
    {
     "data": {
      "text/plain": [
       "Index(['budget', 'id', 'original_language', 'popularity', 'release_date',\n",
       "       'revenue', 'runtime', 'title', 'vote_average', 'vote_count',\n",
       "       'collection_id', 'collection_name', 'genre_id', 'genre_name',\n",
       "       'company_name', 'company_id', 'country_iso_3166_1', 'country_name',\n",
       "       'language_iso_639_1', 'language_name'],\n",
       "      dtype='object')"
      ]
     },
     "execution_count": 47,
     "metadata": {},
     "output_type": "execute_result"
    }
   ],
   "source": [
    "movies_df.columns"
   ]
  },
  {
   "cell_type": "markdown",
   "metadata": {},
   "source": [
    "MANEJO DE VALORES NULOS DE LAS COLUMNAS SOLICITADAS:\n",
    "`revenue` - `budget` - `release_date`"
   ]
  },
  {
   "cell_type": "code",
   "execution_count": 48,
   "metadata": {},
   "outputs": [
    {
     "name": "stderr",
     "output_type": "stream",
     "text": [
      "C:\\Users\\marce\\AppData\\Local\\Temp\\ipykernel_37292\\2088379519.py:2: FutureWarning: A value is trying to be set on a copy of a DataFrame or Series through chained assignment using an inplace method.\n",
      "The behavior will change in pandas 3.0. This inplace method will never work because the intermediate object on which we are setting values always behaves as a copy.\n",
      "\n",
      "For example, when doing 'df[col].method(value, inplace=True)', try using 'df.method({col: value}, inplace=True)' or df[col] = df[col].method(value) instead, to perform the operation inplace on the original object.\n",
      "\n",
      "\n",
      "  movies_df['revenue'].fillna(0, inplace=True)\n",
      "C:\\Users\\marce\\AppData\\Local\\Temp\\ipykernel_37292\\2088379519.py:3: FutureWarning: A value is trying to be set on a copy of a DataFrame or Series through chained assignment using an inplace method.\n",
      "The behavior will change in pandas 3.0. This inplace method will never work because the intermediate object on which we are setting values always behaves as a copy.\n",
      "\n",
      "For example, when doing 'df[col].method(value, inplace=True)', try using 'df.method({col: value}, inplace=True)' or df[col] = df[col].method(value) instead, to perform the operation inplace on the original object.\n",
      "\n",
      "\n",
      "  movies_df['budget'].fillna(0, inplace=True)\n"
     ]
    }
   ],
   "source": [
    "# Se reemplazan los nulos en 'revenue' y 'budget' con 0\n",
    "movies_df['revenue'].fillna(0, inplace=True)\n",
    "movies_df['budget'].fillna(0, inplace=True)\n"
   ]
  },
  {
   "cell_type": "code",
   "execution_count": 49,
   "metadata": {},
   "outputs": [
    {
     "data": {
      "text/plain": [
       "budget                     0\n",
       "id                         0\n",
       "original_language         96\n",
       "popularity                17\n",
       "release_date             179\n",
       "revenue                    0\n",
       "runtime                  577\n",
       "title                     21\n",
       "vote_average              21\n",
       "vote_count                21\n",
       "collection_id         327816\n",
       "collection_name       327816\n",
       "genre_id                3184\n",
       "genre_name              3184\n",
       "company_name           29699\n",
       "company_id             29699\n",
       "country_iso_3166_1     11456\n",
       "country_name           11456\n",
       "language_iso_639_1      8085\n",
       "language_name           8085\n",
       "dtype: int64"
      ]
     },
     "execution_count": 49,
     "metadata": {},
     "output_type": "execute_result"
    }
   ],
   "source": [
    "movies_df.isnull().sum()"
   ]
  },
  {
   "cell_type": "code",
   "execution_count": 50,
   "metadata": {},
   "outputs": [
    {
     "name": "stdout",
     "output_type": "stream",
     "text": [
      "0\n"
     ]
    }
   ],
   "source": [
    "# Se eliminan las filas con valores nulos en 'release_date'\n",
    "movies_df = movies_df.dropna(subset=['release_date'])\n",
    "print(movies_df['release_date'].isnull().sum())"
   ]
  },
  {
   "cell_type": "markdown",
   "metadata": {},
   "source": [
    "MANEJO DE FORMATO DE FECHAS"
   ]
  },
  {
   "cell_type": "code",
   "execution_count": 51,
   "metadata": {},
   "outputs": [],
   "source": [
    "# Asegurar que la columna release_date esté en formato de fecha\n",
    "movies_df['release_date'] = pd.to_datetime(movies_df['release_date'], format='%Y-%m-%d', errors='coerce')"
   ]
  },
  {
   "cell_type": "code",
   "execution_count": 52,
   "metadata": {},
   "outputs": [
    {
     "data": {
      "text/plain": [
       "0   1995-10-30\n",
       "1   1995-10-30\n",
       "2   1995-10-30\n",
       "3   1995-12-15\n",
       "4   1995-12-15\n",
       "5   1995-12-15\n",
       "6   1995-12-15\n",
       "7   1995-12-15\n",
       "8   1995-12-15\n",
       "9   1995-12-15\n",
       "Name: release_date, dtype: datetime64[ns]"
      ]
     },
     "execution_count": 52,
     "metadata": {},
     "output_type": "execute_result"
    }
   ],
   "source": [
    "movies_df['release_date'].head(10)"
   ]
  },
  {
   "cell_type": "code",
   "execution_count": 53,
   "metadata": {},
   "outputs": [],
   "source": [
    "# Se crea la nueva columna release_year extrayendo el año de release_date\n",
    "movies_df['release_year'] = movies_df['release_date'].dt.year"
   ]
  },
  {
   "cell_type": "code",
   "execution_count": 54,
   "metadata": {},
   "outputs": [
    {
     "name": "stdout",
     "output_type": "stream",
     "text": [
      "  release_date  release_year\n",
      "0   1995-10-30        1995.0\n",
      "1   1995-10-30        1995.0\n",
      "2   1995-10-30        1995.0\n",
      "3   1995-12-15        1995.0\n",
      "4   1995-12-15        1995.0\n",
      "5   1995-12-15        1995.0\n",
      "6   1995-12-15        1995.0\n",
      "7   1995-12-15        1995.0\n",
      "8   1995-12-15        1995.0\n",
      "9   1995-12-15        1995.0\n"
     ]
    }
   ],
   "source": [
    "# Corroboramos los cambios implementados\n",
    "print(movies_df[['release_date', 'release_year']].head(10))"
   ]
  },
  {
   "cell_type": "code",
   "execution_count": 55,
   "metadata": {},
   "outputs": [
    {
     "name": "stdout",
     "output_type": "stream",
     "text": [
      "release_year    Int64\n",
      "dtype: object\n"
     ]
    }
   ],
   "source": [
    "# Se convierte 'release_year' a entero y se verifica el cambio\n",
    "movies_df['release_year'] = movies_df['release_year'].astype('Int64')\n",
    "print(movies_df[['release_year']].dtypes)\n"
   ]
  },
  {
   "cell_type": "code",
   "execution_count": 56,
   "metadata": {},
   "outputs": [
    {
     "data": {
      "text/plain": [
       "0    1995\n",
       "1    1995\n",
       "2    1995\n",
       "3    1995\n",
       "4    1995\n",
       "Name: release_year, dtype: Int64"
      ]
     },
     "execution_count": 56,
     "metadata": {},
     "output_type": "execute_result"
    }
   ],
   "source": [
    "movies_df['release_year'].head()"
   ]
  },
  {
   "cell_type": "markdown",
   "metadata": {},
   "source": [
    "CREAMOS LA COLUMNA `return` \n",
    "\n",
    "La misma contiene el retorno de inversión.\n",
    "\n",
    "Se divide `revenue` entre `budget` solo si ambos valores son mayores que 0 y se asigna el valor 0 en caso de que no haya datos disponibles o uno de los valores sea 0. Tal como se lo solicita."
   ]
  },
  {
   "cell_type": "code",
   "execution_count": 57,
   "metadata": {},
   "outputs": [],
   "source": [
    "# Nos fijamos que las columnas 'revenue' y 'budget' esten en el formato correcto\n",
    "movies_df['revenue'] = pd.to_numeric(movies_df['revenue'], errors='coerce')\n",
    "movies_df['budget'] = pd.to_numeric(movies_df['budget'], errors='coerce')"
   ]
  },
  {
   "cell_type": "code",
   "execution_count": 58,
   "metadata": {},
   "outputs": [
    {
     "name": "stdout",
     "output_type": "stream",
     "text": [
      "float64\n",
      "float64\n"
     ]
    }
   ],
   "source": [
    "# se verifican los tipos de datos y valores únicos en las columnas 'budget' y 'revenue'\n",
    "print(movies_df['budget'].dtype)\n",
    "print(movies_df['revenue'].dtype)"
   ]
  },
  {
   "cell_type": "code",
   "execution_count": 59,
   "metadata": {},
   "outputs": [
    {
     "name": "stdout",
     "output_type": "stream",
     "text": [
      "[30000000. 65000000.        0. 16000000. 60000000. 58000000. 35000000.\n",
      " 62000000. 44000000. 98000000. 52000000. 16500000.  4000000. 30250000.\n",
      " 50000000.  3600000. 12000000. 18000000. 29500000. 11000000.]\n",
      "\n",
      "\n",
      "[3.73554033e+08 2.62797249e+08 0.00000000e+00 8.14521560e+07\n",
      " 7.65789110e+07 1.87436818e+08 6.43501710e+07 3.52194034e+08\n",
      " 1.07879496e+08 1.13483240e+07 1.36817650e+07 1.00173220e+07\n",
      " 1.16112375e+08 1.35000000e+08 4.30000000e+06 2.12385533e+08\n",
      " 3.54311130e+07 1.15101622e+08 3.03030720e+07 4.98000000e+07]\n"
     ]
    }
   ],
   "source": [
    "# Revisamos si hay valores no numéricos\n",
    "print(movies_df['budget'].unique()[:20])  \n",
    "print(\"\\n\")\n",
    "print(movies_df['revenue'].unique()[:20])  \n"
   ]
  },
  {
   "cell_type": "code",
   "execution_count": 60,
   "metadata": {},
   "outputs": [],
   "source": [
    "# Se crea la columna 'return' dividiendo 'revenue' entre 'budget', asignando 0 si no es posible calcularlo\n",
    "movies_df['return'] = movies_df.apply(lambda row: row['revenue'] / row['budget'] if row['budget'] > 0 and row['revenue'] > 0 else 0, axis=1)"
   ]
  },
  {
   "cell_type": "code",
   "execution_count": 61,
   "metadata": {},
   "outputs": [
    {
     "name": "stdout",
     "output_type": "stream",
     "text": [
      "       budget      revenue     return\n",
      "0  30000000.0  373554033.0  12.451801\n",
      "1  30000000.0  373554033.0  12.451801\n",
      "2  30000000.0  373554033.0  12.451801\n",
      "3  65000000.0  262797249.0   4.043035\n",
      "4  65000000.0  262797249.0   4.043035\n",
      "5  65000000.0  262797249.0   4.043035\n",
      "6  65000000.0  262797249.0   4.043035\n",
      "7  65000000.0  262797249.0   4.043035\n",
      "8  65000000.0  262797249.0   4.043035\n",
      "9  65000000.0  262797249.0   4.043035\n"
     ]
    }
   ],
   "source": [
    "# Miramos los primeros valores\n",
    "print(movies_df[['budget', 'revenue', 'return']].head(10))"
   ]
  },
  {
   "cell_type": "code",
   "execution_count": 62,
   "metadata": {},
   "outputs": [
    {
     "data": {
      "text/plain": [
       "0    21.946943\n",
       "1    21.946943\n",
       "2    21.946943\n",
       "3    17.015539\n",
       "4    17.015539\n",
       "Name: popularity, dtype: object"
      ]
     },
     "execution_count": 62,
     "metadata": {},
     "output_type": "execute_result"
    }
   ],
   "source": [
    "movies_df['popularity'].head()"
   ]
  },
  {
   "cell_type": "code",
   "execution_count": 63,
   "metadata": {},
   "outputs": [
    {
     "data": {
      "text/plain": [
       "(380870, 22)"
      ]
     },
     "execution_count": 63,
     "metadata": {},
     "output_type": "execute_result"
    }
   ],
   "source": [
    "movies_df.shape"
   ]
  },
  {
   "cell_type": "markdown",
   "metadata": {},
   "source": [
    "##### **EXPORTACIÓN EN FORMATO PARQUET**\n",
    "\n",
    "El dataframe finalmente procesado será convertido en Parquet, debido a que este formato es más eficiente para cargas más rápidas."
   ]
  },
  {
   "cell_type": "code",
   "execution_count": 64,
   "metadata": {},
   "outputs": [
    {
     "name": "stdout",
     "output_type": "stream",
     "text": [
      "0    21.946943\n",
      "1    21.946943\n",
      "2    21.946943\n",
      "3    17.015539\n",
      "4    17.015539\n",
      "Name: popularity, dtype: float64\n"
     ]
    }
   ],
   "source": [
    "# Se convirtió la columna 'popularity' a valores numéricos\n",
    "movies_df['popularity'] = pd.to_numeric(movies_df['popularity'], errors='coerce')\n",
    "print(movies_df['popularity'].head())"
   ]
  },
  {
   "cell_type": "code",
   "execution_count": 65,
   "metadata": {},
   "outputs": [],
   "source": [
    "movies_df.to_parquet('movies_etl_final.parquet', index=False)"
   ]
  },
  {
   "cell_type": "code",
   "execution_count": 66,
   "metadata": {},
   "outputs": [],
   "source": [
    "import pandas as pd"
   ]
  },
  {
   "cell_type": "code",
   "execution_count": 67,
   "metadata": {},
   "outputs": [],
   "source": [
    "df = pd.read_parquet('movies_etl_final.parquet')"
   ]
  },
  {
   "cell_type": "code",
   "execution_count": 68,
   "metadata": {},
   "outputs": [
    {
     "data": {
      "text/plain": [
       "(380870, 22)"
      ]
     },
     "execution_count": 68,
     "metadata": {},
     "output_type": "execute_result"
    }
   ],
   "source": [
    "df.shape"
   ]
  },
  {
   "cell_type": "markdown",
   "metadata": {},
   "source": [
    "### **PROCESO DE ETL PARA EL DATASET `credits.csv`**\n",
    "\n",
    "Se convierte el dataset en formato parquet para un manejo más eficiente"
   ]
  },
  {
   "cell_type": "code",
   "execution_count": 69,
   "metadata": {},
   "outputs": [],
   "source": [
    "import pandas as pd"
   ]
  },
  {
   "cell_type": "code",
   "execution_count": 70,
   "metadata": {},
   "outputs": [],
   "source": [
    "# credits_df = pd.read_csv('C:\\DYNAMO\\DATA SCIENCE\\Labs-MLOps\\Dataset\\credits.csv')"
   ]
  },
  {
   "cell_type": "code",
   "execution_count": 72,
   "metadata": {},
   "outputs": [],
   "source": [
    "# Convertimos el DataFrame en formato parquet\n",
    "## credits_df.to_parquet('credits.parquet', index=False)"
   ]
  },
  {
   "cell_type": "code",
   "execution_count": 73,
   "metadata": {},
   "outputs": [],
   "source": [
    "# Leemos el archivo Parquet en lugar del CSV\n",
    "credits_df = pd.read_parquet('credits.parquet')"
   ]
  },
  {
   "cell_type": "code",
   "execution_count": 74,
   "metadata": {},
   "outputs": [
    {
     "data": {
      "text/plain": [
       "(45476, 3)"
      ]
     },
     "execution_count": 74,
     "metadata": {},
     "output_type": "execute_result"
    }
   ],
   "source": [
    "credits_df.shape"
   ]
  },
  {
   "cell_type": "markdown",
   "metadata": {},
   "source": [
    "#### INSPECCIÓN INICIAL"
   ]
  },
  {
   "cell_type": "code",
   "execution_count": 75,
   "metadata": {},
   "outputs": [
    {
     "data": {
      "text/html": [
       "<div>\n",
       "<style scoped>\n",
       "    .dataframe tbody tr th:only-of-type {\n",
       "        vertical-align: middle;\n",
       "    }\n",
       "\n",
       "    .dataframe tbody tr th {\n",
       "        vertical-align: top;\n",
       "    }\n",
       "\n",
       "    .dataframe thead th {\n",
       "        text-align: right;\n",
       "    }\n",
       "</style>\n",
       "<table border=\"1\" class=\"dataframe\">\n",
       "  <thead>\n",
       "    <tr style=\"text-align: right;\">\n",
       "      <th></th>\n",
       "      <th>cast</th>\n",
       "      <th>crew</th>\n",
       "      <th>id</th>\n",
       "    </tr>\n",
       "  </thead>\n",
       "  <tbody>\n",
       "    <tr>\n",
       "      <th>0</th>\n",
       "      <td>[{'cast_id': 14, 'character': 'Woody (voice)',...</td>\n",
       "      <td>[{'credit_id': '52fe4284c3a36847f8024f49', 'de...</td>\n",
       "      <td>862</td>\n",
       "    </tr>\n",
       "    <tr>\n",
       "      <th>1</th>\n",
       "      <td>[{'cast_id': 1, 'character': 'Alan Parrish', '...</td>\n",
       "      <td>[{'credit_id': '52fe44bfc3a36847f80a7cd1', 'de...</td>\n",
       "      <td>8844</td>\n",
       "    </tr>\n",
       "    <tr>\n",
       "      <th>2</th>\n",
       "      <td>[{'cast_id': 2, 'character': 'Max Goldman', 'c...</td>\n",
       "      <td>[{'credit_id': '52fe466a9251416c75077a89', 'de...</td>\n",
       "      <td>15602</td>\n",
       "    </tr>\n",
       "    <tr>\n",
       "      <th>3</th>\n",
       "      <td>[{'cast_id': 1, 'character': \"Savannah 'Vannah...</td>\n",
       "      <td>[{'credit_id': '52fe44779251416c91011acb', 'de...</td>\n",
       "      <td>31357</td>\n",
       "    </tr>\n",
       "    <tr>\n",
       "      <th>4</th>\n",
       "      <td>[{'cast_id': 1, 'character': 'George Banks', '...</td>\n",
       "      <td>[{'credit_id': '52fe44959251416c75039ed7', 'de...</td>\n",
       "      <td>11862</td>\n",
       "    </tr>\n",
       "    <tr>\n",
       "      <th>5</th>\n",
       "      <td>[{'cast_id': 25, 'character': 'Lt. Vincent Han...</td>\n",
       "      <td>[{'credit_id': '52fe4292c3a36847f802916d', 'de...</td>\n",
       "      <td>949</td>\n",
       "    </tr>\n",
       "    <tr>\n",
       "      <th>6</th>\n",
       "      <td>[{'cast_id': 1, 'character': 'Linus Larrabee',...</td>\n",
       "      <td>[{'credit_id': '52fe44959251416c75039da9', 'de...</td>\n",
       "      <td>11860</td>\n",
       "    </tr>\n",
       "    <tr>\n",
       "      <th>7</th>\n",
       "      <td>[{'cast_id': 2, 'character': 'Tom Sawyer', 'cr...</td>\n",
       "      <td>[{'credit_id': '52fe46bdc3a36847f810f797', 'de...</td>\n",
       "      <td>45325</td>\n",
       "    </tr>\n",
       "    <tr>\n",
       "      <th>8</th>\n",
       "      <td>[{'cast_id': 1, 'character': 'Darren Francis T...</td>\n",
       "      <td>[{'credit_id': '52fe44dbc3a36847f80ae0f1', 'de...</td>\n",
       "      <td>9091</td>\n",
       "    </tr>\n",
       "    <tr>\n",
       "      <th>9</th>\n",
       "      <td>[{'cast_id': 1, 'character': 'James Bond', 'cr...</td>\n",
       "      <td>[{'credit_id': '52fe426ec3a36847f801e14b', 'de...</td>\n",
       "      <td>710</td>\n",
       "    </tr>\n",
       "  </tbody>\n",
       "</table>\n",
       "</div>"
      ],
      "text/plain": [
       "                                                cast  \\\n",
       "0  [{'cast_id': 14, 'character': 'Woody (voice)',...   \n",
       "1  [{'cast_id': 1, 'character': 'Alan Parrish', '...   \n",
       "2  [{'cast_id': 2, 'character': 'Max Goldman', 'c...   \n",
       "3  [{'cast_id': 1, 'character': \"Savannah 'Vannah...   \n",
       "4  [{'cast_id': 1, 'character': 'George Banks', '...   \n",
       "5  [{'cast_id': 25, 'character': 'Lt. Vincent Han...   \n",
       "6  [{'cast_id': 1, 'character': 'Linus Larrabee',...   \n",
       "7  [{'cast_id': 2, 'character': 'Tom Sawyer', 'cr...   \n",
       "8  [{'cast_id': 1, 'character': 'Darren Francis T...   \n",
       "9  [{'cast_id': 1, 'character': 'James Bond', 'cr...   \n",
       "\n",
       "                                                crew     id  \n",
       "0  [{'credit_id': '52fe4284c3a36847f8024f49', 'de...    862  \n",
       "1  [{'credit_id': '52fe44bfc3a36847f80a7cd1', 'de...   8844  \n",
       "2  [{'credit_id': '52fe466a9251416c75077a89', 'de...  15602  \n",
       "3  [{'credit_id': '52fe44779251416c91011acb', 'de...  31357  \n",
       "4  [{'credit_id': '52fe44959251416c75039ed7', 'de...  11862  \n",
       "5  [{'credit_id': '52fe4292c3a36847f802916d', 'de...    949  \n",
       "6  [{'credit_id': '52fe44959251416c75039da9', 'de...  11860  \n",
       "7  [{'credit_id': '52fe46bdc3a36847f810f797', 'de...  45325  \n",
       "8  [{'credit_id': '52fe44dbc3a36847f80ae0f1', 'de...   9091  \n",
       "9  [{'credit_id': '52fe426ec3a36847f801e14b', 'de...    710  "
      ]
     },
     "execution_count": 75,
     "metadata": {},
     "output_type": "execute_result"
    }
   ],
   "source": [
    "credits_df.head(10)"
   ]
  },
  {
   "cell_type": "code",
   "execution_count": 76,
   "metadata": {},
   "outputs": [
    {
     "name": "stdout",
     "output_type": "stream",
     "text": [
      "[{'cast_id': 14, 'character': 'Woody (voice)', 'credit_id': '52fe4284c3a36847f8024f95', 'gender': 2, 'id': 31, 'name': 'Tom Hanks', 'order': 0, 'profile_path': '/pQFoyx7rp09CJTAb932F2g8Nlho.jpg'}, {'cast_id': 15, 'character': 'Buzz Lightyear (voice)', 'credit_id': '52fe4284c3a36847f8024f99', 'gender': 2, 'id': 12898, 'name': 'Tim Allen', 'order': 1, 'profile_path': '/uX2xVf6pMmPepxnvFWyBtjexzgY.jpg'}, {'cast_id': 16, 'character': 'Mr. Potato Head (voice)', 'credit_id': '52fe4284c3a36847f8024f9d', 'gender': 2, 'id': 7167, 'name': 'Don Rickles', 'order': 2, 'profile_path': '/h5BcaDMPRVLHLDzbQavec4xfSdt.jpg'}, {'cast_id': 17, 'character': 'Slinky Dog (voice)', 'credit_id': '52fe4284c3a36847f8024fa1', 'gender': 2, 'id': 12899, 'name': 'Jim Varney', 'order': 3, 'profile_path': '/eIo2jVVXYgjDtaHoF19Ll9vtW7h.jpg'}, {'cast_id': 18, 'character': 'Rex (voice)', 'credit_id': '52fe4284c3a36847f8024fa5', 'gender': 2, 'id': 12900, 'name': 'Wallace Shawn', 'order': 4, 'profile_path': '/oGE6JqPP2xH4tNORKNqxbNPYi7u.jpg'}, {'cast_id': 19, 'character': 'Hamm (voice)', 'credit_id': '52fe4284c3a36847f8024fa9', 'gender': 2, 'id': 7907, 'name': 'John Ratzenberger', 'order': 5, 'profile_path': '/yGechiKWL6TJDfVE2KPSJYqdMsY.jpg'}, {'cast_id': 20, 'character': 'Bo Peep (voice)', 'credit_id': '52fe4284c3a36847f8024fad', 'gender': 1, 'id': 8873, 'name': 'Annie Potts', 'order': 6, 'profile_path': '/eryXT84RL41jHSJcMy4kS3u9y6w.jpg'}, {'cast_id': 26, 'character': 'Andy (voice)', 'credit_id': '52fe4284c3a36847f8024fc1', 'gender': 0, 'id': 1116442, 'name': 'John Morris', 'order': 7, 'profile_path': '/vYGyvK4LzeaUCoNSHtsuqJUY15M.jpg'}, {'cast_id': 22, 'character': 'Sid (voice)', 'credit_id': '52fe4284c3a36847f8024fb1', 'gender': 2, 'id': 12901, 'name': 'Erik von Detten', 'order': 8, 'profile_path': '/twnF1ZaJ1FUNUuo6xLXwcxjayBE.jpg'}, {'cast_id': 23, 'character': 'Mrs. Davis (voice)', 'credit_id': '52fe4284c3a36847f8024fb5', 'gender': 1, 'id': 12133, 'name': 'Laurie Metcalf', 'order': 9, 'profile_path': '/unMMIT60eoBM2sN2nyR7EZ2BvvD.jpg'}, {'cast_id': 24, 'character': 'Sergeant (voice)', 'credit_id': '52fe4284c3a36847f8024fb9', 'gender': 2, 'id': 8655, 'name': 'R. Lee Ermey', 'order': 10, 'profile_path': '/r8GBqFBjypLUP9VVqDqfZ7wYbSs.jpg'}, {'cast_id': 25, 'character': 'Hannah (voice)', 'credit_id': '52fe4284c3a36847f8024fbd', 'gender': 1, 'id': 12903, 'name': 'Sarah Freeman', 'order': 11, 'profile_path': None}, {'cast_id': 27, 'character': 'TV Announcer (voice)', 'credit_id': '52fe4284c3a36847f8024fc5', 'gender': 2, 'id': 37221, 'name': 'Penn Jillette', 'order': 12, 'profile_path': '/zmAaXUdx12NRsssgHbk1T31j2x9.jpg'}]\n"
     ]
    }
   ],
   "source": [
    "# Verificar el contenido de la columna 'cast'\n",
    "print(credits_df['cast'].iloc[0])"
   ]
  },
  {
   "cell_type": "markdown",
   "metadata": {},
   "source": [
    "##### **PROCESO DE DESANIDADO**"
   ]
  },
  {
   "cell_type": "markdown",
   "metadata": {},
   "source": [
    "#### Desanidado de `'cast'` \n",
    "Aquí procederemos a desanidar solo aquellos valores que nos serán útiles desde el inicio, descartando todo lo demás."
   ]
  },
  {
   "cell_type": "code",
   "execution_count": 77,
   "metadata": {},
   "outputs": [],
   "source": [
    "import ast\n",
    "\n",
    "def desanidar_cast(df: pd.DataFrame) -> pd.DataFrame:\n",
    "    \"\"\"\n",
    "    Esta función desanida la columna 'cast' de un DataFrame que contiene información sobre los actores y los personajes que interpretan en formato de lista de diccionarios. \n",
    "    El resultado es un DataFrame donde cada fila representa un actor y su respectivo personaje para una película.\n",
    "\n",
    "    Parámetros:\n",
    "    -----------\n",
    "    df : pd.DataFrame\n",
    "        El DataFrame que contiene la columna 'cast' en formato de cadena de texto (JSON) o como lista de diccionarios. \n",
    "        Cada diccionario en 'cast' debe tener las claves 'name' (nombre del actor) y 'character' (personaje que interpreta).\n",
    "\n",
    "    Retorno:\n",
    "    --------\n",
    "    pd.DataFrame\n",
    "        DataFrame con las siguientes columnas:\n",
    "        - 'actor_name': Nombre del actor.\n",
    "        - 'character': Personaje interpretado por el actor.\n",
    "    \n",
    "    El DataFrame original es modificado, eliminando la columna 'cast' y explotando la lista de actores para que cada actor ocupe una fila separada.\n",
    "    \n",
    "    Notas:\n",
    "    ------\n",
    "    - La columna 'cast' es desanidada y convertida en dos columnas: 'actor_name' (nombre del actor) y 'character' (personaje interpretado).\n",
    "    - Si hay valores nulos en 'cast', se eliminan las filas correspondientes.\n",
    "    - Si la columna 'cast' está en formato de cadena de texto (JSON), esta es convertida a una lista de diccionarios antes de desanidarse.\n",
    "    \"\"\"\n",
    "    # Verificar si la columna es una cadena de texto (string) y convertirla en lista de diccionarios\n",
    "    df['cast'] = df['cast'].apply(lambda x: ast.literal_eval(x) if isinstance(x, str) else x)\n",
    "\n",
    "    # Asegurarnos de eliminar valores nulos\n",
    "    df = df.dropna(subset=['cast'])\n",
    "\n",
    "    # Desanidar los valores de la columna 'cast' (lista de diccionarios)\n",
    "    df['actor_character'] = df['cast'].apply(lambda x: [(actor.get('name'), actor.get('character')) for actor in x if isinstance(actor, dict)])\n",
    "\n",
    "    # Explode para separar las listas en filas individuales\n",
    "    df = df.explode('actor_character')\n",
    "\n",
    "    # Dividir 'actor_character' en 'actor_name' y 'character', asegurándonos de manejar valores nulos\n",
    "    df['actor_name'] = df['actor_character'].apply(lambda x: x[0] if isinstance(x, tuple) else None)\n",
    "    df['character'] = df['actor_character'].apply(lambda x: x[1] if isinstance(x, tuple) else None)\n",
    "\n",
    "    # Eliminar la columna 'actor_character' ya que no es necesaria después de la división\n",
    "    df = df.drop(columns=['actor_character'])\n",
    "\n",
    "    return df\n"
   ]
  },
  {
   "cell_type": "code",
   "execution_count": 78,
   "metadata": {},
   "outputs": [],
   "source": [
    "# se aplica la función para desanidar la columna 'cast'\n",
    "credits_df = desanidar_cast(credits_df)"
   ]
  },
  {
   "cell_type": "code",
   "execution_count": 80,
   "metadata": {},
   "outputs": [
    {
     "name": "stdout",
     "output_type": "stream",
     "text": [
      "          actor_name                character\n",
      "0          Tom Hanks            Woody (voice)\n",
      "0          Tim Allen   Buzz Lightyear (voice)\n",
      "0        Don Rickles  Mr. Potato Head (voice)\n",
      "0         Jim Varney       Slinky Dog (voice)\n",
      "0      Wallace Shawn              Rex (voice)\n",
      "0  John Ratzenberger             Hamm (voice)\n",
      "0        Annie Potts          Bo Peep (voice)\n",
      "0        John Morris             Andy (voice)\n",
      "0    Erik von Detten              Sid (voice)\n",
      "0     Laurie Metcalf       Mrs. Davis (voice)\n"
     ]
    }
   ],
   "source": [
    "# se verifica el resultado\n",
    "print(credits_df[['actor_name', 'character']].head(10))"
   ]
  },
  {
   "cell_type": "code",
   "execution_count": 81,
   "metadata": {},
   "outputs": [
    {
     "data": {
      "text/plain": [
       "(564892, 5)"
      ]
     },
     "execution_count": 81,
     "metadata": {},
     "output_type": "execute_result"
    }
   ],
   "source": [
    "credits_df.shape"
   ]
  },
  {
   "cell_type": "code",
   "execution_count": 82,
   "metadata": {},
   "outputs": [
    {
     "name": "stdout",
     "output_type": "stream",
     "text": [
      "[{'credit_id': '52fe4284c3a36847f8024f49', 'department': 'Directing', 'gender': 2, 'id': 7879, 'job': 'Director', 'name': 'John Lasseter', 'profile_path': '/7EdqiNbr4FRjIhKHyPPdFfEEEFG.jpg'}, {'credit_id': '52fe4284c3a36847f8024f4f', 'department': 'Writing', 'gender': 2, 'id': 12891, 'job': 'Screenplay', 'name': 'Joss Whedon', 'profile_path': '/dTiVsuaTVTeGmvkhcyJvKp2A5kr.jpg'}, {'credit_id': '52fe4284c3a36847f8024f55', 'department': 'Writing', 'gender': 2, 'id': 7, 'job': 'Screenplay', 'name': 'Andrew Stanton', 'profile_path': '/pvQWsu0qc8JFQhMVJkTHuexUAa1.jpg'}, {'credit_id': '52fe4284c3a36847f8024f5b', 'department': 'Writing', 'gender': 2, 'id': 12892, 'job': 'Screenplay', 'name': 'Joel Cohen', 'profile_path': '/dAubAiZcvKFbboWlj7oXOkZnTSu.jpg'}, {'credit_id': '52fe4284c3a36847f8024f61', 'department': 'Writing', 'gender': 0, 'id': 12893, 'job': 'Screenplay', 'name': 'Alec Sokolow', 'profile_path': '/v79vlRYi94BZUQnkkyznbGUZLjT.jpg'}, {'credit_id': '52fe4284c3a36847f8024f67', 'department': 'Production', 'gender': 1, 'id': 12894, 'job': 'Producer', 'name': 'Bonnie Arnold', 'profile_path': None}, {'credit_id': '52fe4284c3a36847f8024f6d', 'department': 'Production', 'gender': 0, 'id': 12895, 'job': 'Executive Producer', 'name': 'Ed Catmull', 'profile_path': None}, {'credit_id': '52fe4284c3a36847f8024f73', 'department': 'Production', 'gender': 2, 'id': 12896, 'job': 'Producer', 'name': 'Ralph Guggenheim', 'profile_path': None}, {'credit_id': '52fe4284c3a36847f8024f79', 'department': 'Production', 'gender': 2, 'id': 12897, 'job': 'Executive Producer', 'name': 'Steve Jobs', 'profile_path': '/mOMP3SwD5qWQSR0ldCIByd3guTV.jpg'}, {'credit_id': '52fe4284c3a36847f8024f8b', 'department': 'Editing', 'gender': 2, 'id': 8, 'job': 'Editor', 'name': 'Lee Unkrich', 'profile_path': '/bdTCCXjgOV3YyaNmLGYGOxFQMOc.jpg'}, {'credit_id': '52fe4284c3a36847f8024f91', 'department': 'Art', 'gender': 2, 'id': 7883, 'job': 'Art Direction', 'name': 'Ralph Eggleston', 'profile_path': '/uUfcGKDsKO1aROMpXRs67Hn6RvR.jpg'}, {'credit_id': '598331bf925141421201044b', 'department': 'Editing', 'gender': 2, 'id': 1168870, 'job': 'Editor', 'name': 'Robert Gordon', 'profile_path': None}, {'credit_id': '5892168cc3a36809660095f9', 'department': 'Sound', 'gender': 0, 'id': 1552883, 'job': 'Foley Editor', 'name': 'Mary Helen Leasman', 'profile_path': None}, {'credit_id': '5531824d9251415289000945', 'department': 'Visual Effects', 'gender': 0, 'id': 1453514, 'job': 'Animation', 'name': 'Kim Blanchette', 'profile_path': None}, {'credit_id': '589215969251412dcb009bf6', 'department': 'Sound', 'gender': 0, 'id': 1414182, 'job': 'ADR Editor', 'name': 'Marilyn McCoppen', 'profile_path': None}, {'credit_id': '589217099251412dc500a018', 'department': 'Sound', 'gender': 2, 'id': 7885, 'job': 'Orchestrator', 'name': 'Randy Newman', 'profile_path': '/w0JzfoiM25nrnxYOzosPHRq6mlE.jpg'}, {'credit_id': '5693e6b29251417b0e0000e3', 'department': 'Editing', 'gender': 0, 'id': 1429549, 'job': 'Color Timer', 'name': 'Dale E. Grahn', 'profile_path': None}, {'credit_id': '572e2522c3a36869e6001a9c', 'department': 'Visual Effects', 'gender': 0, 'id': 7949, 'job': 'CG Painter', 'name': 'Robin Cooper', 'profile_path': None}, {'credit_id': '574f12309251415ca1000012', 'department': 'Writing', 'gender': 2, 'id': 7879, 'job': 'Original Story', 'name': 'John Lasseter', 'profile_path': '/7EdqiNbr4FRjIhKHyPPdFfEEEFG.jpg'}, {'credit_id': '574f1240c3a3682e7300001c', 'department': 'Writing', 'gender': 2, 'id': 12890, 'job': 'Original Story', 'name': 'Pete Docter', 'profile_path': '/r6ngPgnReA3RHmKjmSoVsc6Awjp.jpg'}, {'credit_id': '574f12519251415c92000015', 'department': 'Writing', 'gender': 0, 'id': 7911, 'job': 'Original Story', 'name': 'Joe Ranft', 'profile_path': '/f1BoWC2JbCcfP1e5hKfGsxkHzVU.jpg'}, {'credit_id': '574f12cec3a3682e82000022', 'department': 'Crew', 'gender': 0, 'id': 1629419, 'job': 'Post Production Supervisor', 'name': 'Patsy Bouge', 'profile_path': None}, {'credit_id': '574f14f19251415ca1000082', 'department': 'Art', 'gender': 0, 'id': 7961, 'job': 'Sculptor', 'name': 'Norm DeCarlo', 'profile_path': None}, {'credit_id': '5751ae4bc3a3683772002b7f', 'department': 'Visual Effects', 'gender': 2, 'id': 12905, 'job': 'Animation Director', 'name': 'Ash Brannon', 'profile_path': '/6ueWgPEEBHvS3De2BHYQnYjRTig.jpg'}, {'credit_id': '5891edbe9251412dc5007cd6', 'department': 'Sound', 'gender': 2, 'id': 7885, 'job': 'Music', 'name': 'Randy Newman', 'profile_path': '/w0JzfoiM25nrnxYOzosPHRq6mlE.jpg'}, {'credit_id': '589213d39251412dc8009832', 'department': 'Directing', 'gender': 0, 'id': 1748707, 'job': 'Layout', 'name': 'Roman Figun', 'profile_path': None}, {'credit_id': '5892173dc3a3680968009351', 'department': 'Sound', 'gender': 2, 'id': 4949, 'job': 'Orchestrator', 'name': 'Don Davis', 'profile_path': None}, {'credit_id': '589217cec3a3686b0a0052ba', 'department': 'Sound', 'gender': 0, 'id': 1372885, 'job': 'Music Editor', 'name': 'James Flamberg', 'profile_path': None}, {'credit_id': '58921831c3a3686348004a64', 'department': 'Editing', 'gender': 0, 'id': 1739962, 'job': 'Negative Cutter', 'name': 'Mary Beth Smith', 'profile_path': None}, {'credit_id': '58921838c3a36809700096c0', 'department': 'Editing', 'gender': 0, 'id': 1748513, 'job': 'Negative Cutter', 'name': 'Rick Mackay', 'profile_path': None}, {'credit_id': '589218429251412dd1009d1b', 'department': 'Art', 'gender': 0, 'id': 1458006, 'job': 'Title Designer', 'name': 'Susan Bradley', 'profile_path': None}, {'credit_id': '5891ed99c3a3680966007670', 'department': 'Crew', 'gender': 0, 'id': 1748557, 'job': 'Supervising Technical Director', 'name': 'William Reeves', 'profile_path': None}, {'credit_id': '5891edcec3a3686b0a002eb2', 'department': 'Sound', 'gender': 2, 'id': 7885, 'job': 'Songs', 'name': 'Randy Newman', 'profile_path': '/w0JzfoiM25nrnxYOzosPHRq6mlE.jpg'}, {'credit_id': '5891edf9c3a36809700075e6', 'department': 'Writing', 'gender': 2, 'id': 7, 'job': 'Original Story', 'name': 'Andrew Stanton', 'profile_path': '/pvQWsu0qc8JFQhMVJkTHuexUAa1.jpg'}, {'credit_id': '58920f0b9251412dd7009104', 'department': 'Crew', 'gender': 2, 'id': 12890, 'job': 'Supervising Animator', 'name': 'Pete Docter', 'profile_path': '/r6ngPgnReA3RHmKjmSoVsc6Awjp.jpg'}, {'credit_id': '58920f1fc3a3680977009021', 'department': 'Sound', 'gender': 2, 'id': 2216, 'job': 'Sound Designer', 'name': 'Gary Rydstrom', 'profile_path': '/jZpr1nVfO7lldWI0YtmP1FGw7Rj.jpg'}, {'credit_id': '58920f389251412dd700912d', 'department': 'Production', 'gender': 0, 'id': 12909, 'job': 'Production Supervisor', 'name': 'Karen Robert Jackson', 'profile_path': None}, {'credit_id': '58920fbd9251412dcb00969c', 'department': 'Crew', 'gender': 0, 'id': 953331, 'job': 'Executive Music Producer', 'name': 'Chris Montan', 'profile_path': None}, {'credit_id': '589210069251412dd7009219', 'department': 'Visual Effects', 'gender': 0, 'id': 7893, 'job': 'Animation Director', 'name': 'Rich Quade', 'profile_path': None}, {'credit_id': '589210329251412dcd00943b', 'department': 'Visual Effects', 'gender': 0, 'id': 8025, 'job': 'Animation', 'name': 'Michael Berenstein', 'profile_path': None}, {'credit_id': '5892103bc3a368096a009180', 'department': 'Visual Effects', 'gender': 0, 'id': 78009, 'job': 'Animation', 'name': 'Colin Brady', 'profile_path': None}, {'credit_id': '5892105dc3a3680968008db2', 'department': 'Visual Effects', 'gender': 0, 'id': 1748682, 'job': 'Animation', 'name': 'Davey Crockett Feiten', 'profile_path': None}, {'credit_id': '589210669251412dcd009466', 'department': 'Visual Effects', 'gender': 0, 'id': 1454030, 'job': 'Animation', 'name': 'Angie Glocka', 'profile_path': None}, {'credit_id': '5892107c9251412dd1009613', 'department': 'Visual Effects', 'gender': 0, 'id': 1748683, 'job': 'Animation', 'name': 'Rex Grignon', 'profile_path': None}, {'credit_id': '5892108ac3a3680973008d3f', 'department': 'Visual Effects', 'gender': 0, 'id': 1748684, 'job': 'Animation', 'name': 'Tom K. Gurney', 'profile_path': None}, {'credit_id': '58921093c3a3686348004477', 'department': 'Visual Effects', 'gender': 2, 'id': 8029, 'job': 'Animation', 'name': 'Jimmy Hayward', 'profile_path': '/lTDRpudEY7BDwTefXbXzMlmb0ui.jpg'}, {'credit_id': '5892109b9251412dcd0094b0', 'department': 'Visual Effects', 'gender': 0, 'id': 1426773, 'job': 'Animation', 'name': 'Hal T. Hickel', 'profile_path': None}, {'credit_id': '589210a29251412dc5009a29', 'department': 'Visual Effects', 'gender': 0, 'id': 8035, 'job': 'Animation', 'name': 'Karen Kiser', 'profile_path': None}, {'credit_id': '589210ccc3a3680977009191', 'department': 'Visual Effects', 'gender': 0, 'id': 1748688, 'job': 'Animation', 'name': 'Anthony B. LaMolinara', 'profile_path': None}, {'credit_id': '589210d7c3a3686b0a004c1f', 'department': 'Visual Effects', 'gender': 0, 'id': 587314, 'job': 'Animation', 'name': 'Guionne Leroy', 'profile_path': None}, {'credit_id': '589210e1c3a36809770091a7', 'department': 'Visual Effects', 'gender': 2, 'id': 7918, 'job': 'Animation', 'name': 'Bud Luckey', 'profile_path': '/pcCh7G19FKMNijmPQg1PMH1btic.jpg'}, {'credit_id': '589210ee9251412dc200978a', 'department': 'Visual Effects', 'gender': 0, 'id': 1748689, 'job': 'Animation', 'name': 'Les Major', 'profile_path': None}, {'credit_id': '589210fa9251412dc8009595', 'department': 'Visual Effects', 'gender': 2, 'id': 7892, 'job': 'Animation', 'name': 'Glenn McQueen', 'profile_path': None}, {'credit_id': '589211029251412dc8009598', 'department': 'Visual Effects', 'gender': 0, 'id': 555795, 'job': 'Animation', 'name': 'Mark Oftedal', 'profile_path': None}, {'credit_id': '5892110b9251412dc800959d', 'department': 'Visual Effects', 'gender': 2, 'id': 7882, 'job': 'Animation', 'name': 'Jeff Pidgeon', 'profile_path': '/yLddkg5HcgbJg00cS13GVBnP0HY.jpg'}, {'credit_id': '58921113c3a36863480044e4', 'department': 'Visual Effects', 'gender': 0, 'id': 8017, 'job': 'Animation', 'name': 'Jeff Pratt', 'profile_path': None}, {'credit_id': '5892111c9251412dcb0097e9', 'department': 'Visual Effects', 'gender': 0, 'id': 1184140, 'job': 'Animation', 'name': 'Steve Rabatich', 'profile_path': None}, {'credit_id': '58921123c3a36809700090f6', 'department': 'Visual Effects', 'gender': 0, 'id': 8049, 'job': 'Animation', 'name': 'Roger Rose', 'profile_path': None}, {'credit_id': '5892112b9251412dcb0097fb', 'department': 'Visual Effects', 'gender': 0, 'id': 1509559, 'job': 'Animation', 'name': 'Steve Segal', 'profile_path': None}, {'credit_id': '589211349251412dc80095c3', 'department': 'Visual Effects', 'gender': 0, 'id': 1748691, 'job': 'Animation', 'name': 'Doug Sheppeck', 'profile_path': None}, {'credit_id': '5892113cc3a3680970009106', 'department': 'Visual Effects', 'gender': 0, 'id': 8050, 'job': 'Animation', 'name': 'Alan Sperling', 'profile_path': None}, {'credit_id': '58921148c3a3686b0a004c99', 'department': 'Visual Effects', 'gender': 0, 'id': 8010, 'job': 'Animation', 'name': 'Doug Sweetland', 'profile_path': None}, {'credit_id': '58921150c3a3680966009125', 'department': 'Visual Effects', 'gender': 0, 'id': 8044, 'job': 'Animation', 'name': 'David Tart', 'profile_path': None}, {'credit_id': '589211629251412dc5009b00', 'department': 'Visual Effects', 'gender': 0, 'id': 1454034, 'job': 'Animation', 'name': 'Ken Willard', 'profile_path': None}, {'credit_id': '589211c1c3a3686b0a004d28', 'department': 'Visual Effects', 'gender': 0, 'id': 7887, 'job': 'Visual Effects Supervisor', 'name': 'Thomas Porter', 'profile_path': None}, {'credit_id': '589211d4c3a3680968008ed9', 'department': 'Visual Effects', 'gender': 0, 'id': 1406878, 'job': 'Visual Effects', 'name': 'Mark Thomas Henne', 'profile_path': None}, {'credit_id': '589211f59251412dd4008e65', 'department': 'Visual Effects', 'gender': 0, 'id': 1748698, 'job': 'Visual Effects', 'name': 'Oren Jacob', 'profile_path': None}, {'credit_id': '58921242c3a368096a00939b', 'department': 'Visual Effects', 'gender': 0, 'id': 1748699, 'job': 'Visual Effects', 'name': 'Darwyn Peachey', 'profile_path': None}, {'credit_id': '5892124b9251412dc5009bd2', 'department': 'Visual Effects', 'gender': 0, 'id': 1748701, 'job': 'Visual Effects', 'name': 'Mitch Prater', 'profile_path': None}, {'credit_id': '58921264c3a3686b0a004dbf', 'department': 'Visual Effects', 'gender': 0, 'id': 1748703, 'job': 'Visual Effects', 'name': 'Brian M. Rosen', 'profile_path': None}, {'credit_id': '589212709251412dcd009676', 'department': 'Lighting', 'gender': 1, 'id': 12912, 'job': 'Lighting Supervisor', 'name': 'Sharon Calahan', 'profile_path': None}, {'credit_id': '5892127fc3a3686b0a004de5', 'department': 'Lighting', 'gender': 0, 'id': 7899, 'job': 'Lighting Supervisor', 'name': 'Galyn Susman', 'profile_path': None}, {'credit_id': '589212cdc3a3680970009268', 'department': 'Visual Effects', 'gender': 0, 'id': 12915, 'job': 'CG Painter', 'name': 'William Cone', 'profile_path': None}, {'credit_id': '5892130f9251412dc8009791', 'department': 'Art', 'gender': 0, 'id': 1748705, 'job': 'Sculptor', 'name': 'Shelley Daniels Lekven', 'profile_path': None}, {'credit_id': '5892131c9251412dd4008f4c', 'department': 'Visual Effects', 'gender': 2, 'id': 7889, 'job': 'Character Designer', 'name': 'Bob Pauley', 'profile_path': None}, {'credit_id': '589213249251412dd100987b', 'department': 'Visual Effects', 'gender': 2, 'id': 7918, 'job': 'Character Designer', 'name': 'Bud Luckey', 'profile_path': '/pcCh7G19FKMNijmPQg1PMH1btic.jpg'}, {'credit_id': '5892132b9251412dc80097b1', 'department': 'Visual Effects', 'gender': 2, 'id': 7, 'job': 'Character Designer', 'name': 'Andrew Stanton', 'profile_path': '/pvQWsu0qc8JFQhMVJkTHuexUAa1.jpg'}, {'credit_id': '58921332c3a368634800467b', 'department': 'Visual Effects', 'gender': 0, 'id': 12915, 'job': 'Character Designer', 'name': 'William Cone', 'profile_path': None}, {'credit_id': '5892135f9251412dd4008f90', 'department': 'Visual Effects', 'gender': 0, 'id': 1748706, 'job': 'Character Designer', 'name': 'Steve Johnson', 'profile_path': None}, {'credit_id': '58921384c3a3680973008fd4', 'department': 'Visual Effects', 'gender': 0, 'id': 1176752, 'job': 'Character Designer', 'name': 'Dan Haskett', 'profile_path': None}, {'credit_id': '5892138e9251412dc20099fc', 'department': 'Visual Effects', 'gender': 0, 'id': 1088034, 'job': 'Character Designer', 'name': 'Tom Holloway', 'profile_path': '/a0r0T2usTBpgMI5aZbRBDW1fTl8.jpg'}, {'credit_id': '58921395c3a368097700942f', 'department': 'Visual Effects', 'gender': 0, 'id': 1447465, 'job': 'Character Designer', 'name': 'Jean Gillmore', 'profile_path': None}, {'credit_id': '589213e2c3a3680973009026', 'department': 'Directing', 'gender': 0, 'id': 1748709, 'job': 'Layout', 'name': 'Desirée Mourad', 'profile_path': None}, {'credit_id': '589214099251412dc5009d57', 'department': 'Art', 'gender': 0, 'id': 1748710, 'job': 'Set Dresser', 'name': \"Kelly O'Connell\", 'profile_path': None}, {'credit_id': '58921411c3a3686b0a004f70', 'department': 'Art', 'gender': 0, 'id': 1443471, 'job': 'Set Dresser', 'name': 'Sonoko Konishi', 'profile_path': None}, {'credit_id': '58921434c3a368096a00956e', 'department': 'Art', 'gender': 0, 'id': 1748711, 'job': 'Set Dresser', 'name': 'Ann M. Rockwell', 'profile_path': None}, {'credit_id': '5892144ac3a36809680090de', 'department': 'Editing', 'gender': 0, 'id': 1748712, 'job': 'Editorial Manager', 'name': 'Julie M. McDonald', 'profile_path': None}, {'credit_id': '58921479c3a368096800910f', 'department': 'Editing', 'gender': 0, 'id': 1589729, 'job': 'Assistant Editor', 'name': 'Robin Lee', 'profile_path': None}, {'credit_id': '5892148b9251412dd10099cc', 'department': 'Editing', 'gender': 0, 'id': 1748716, 'job': 'Assistant Editor', 'name': 'Tom Freeman', 'profile_path': None}, {'credit_id': '589214959251412dcb009b1f', 'department': 'Editing', 'gender': 0, 'id': 1748717, 'job': 'Assistant Editor', 'name': 'Ada Cochavi', 'profile_path': None}, {'credit_id': '5892149ec3a3686348004798', 'department': 'Editing', 'gender': 0, 'id': 1336438, 'job': 'Assistant Editor', 'name': 'Dana Mulligan', 'profile_path': None}, {'credit_id': '589214adc3a368096a0095db', 'department': 'Editing', 'gender': 0, 'id': 1748718, 'job': 'Editorial Coordinator', 'name': 'Deirdre Morrison', 'profile_path': None}, {'credit_id': '589214c7c3a368097700952b', 'department': 'Production', 'gender': 0, 'id': 1748719, 'job': 'Production Coordinator', 'name': 'Lori Lombardo', 'profile_path': None}, {'credit_id': '589214cec3a368096a009603', 'department': 'Production', 'gender': 0, 'id': 1748720, 'job': 'Production Coordinator', 'name': 'Ellen Devine', 'profile_path': None}, {'credit_id': '589214e39251412dc8009904', 'department': 'Crew', 'gender': 0, 'id': 1468014, 'job': 'Unit Publicist', 'name': 'Lauren Beth Strogoff', 'profile_path': None}, {'credit_id': '58921544c3a3686b0a00507d', 'department': 'Sound', 'gender': 2, 'id': 2216, 'job': 'Sound Re-Recording Mixer', 'name': 'Gary Rydstrom', 'profile_path': '/jZpr1nVfO7lldWI0YtmP1FGw7Rj.jpg'}, {'credit_id': '5892154c9251412dd1009a56', 'department': 'Sound', 'gender': 0, 'id': 1425978, 'job': 'Sound Re-Recording Mixer', 'name': 'Gary Summers', 'profile_path': None}, {'credit_id': '58921555c3a36809680091bd', 'department': 'Sound', 'gender': 2, 'id': 8276, 'job': 'Supervising Sound Editor', 'name': 'Tim Holland', 'profile_path': None}, {'credit_id': '589215c39251412dcb009c12', 'department': 'Sound', 'gender': 0, 'id': 7069, 'job': 'Sound Effects Editor', 'name': 'Pat Jackson', 'profile_path': None}, {'credit_id': '58921698c3a368096a009788', 'department': 'Crew', 'gender': 2, 'id': 15894, 'job': 'Sound Design Assistant', 'name': 'Tom Myers', 'profile_path': None}, {'credit_id': '589216a89251412dc2009ca4', 'department': 'Sound', 'gender': 0, 'id': 1414177, 'job': 'Assistant Sound Editor', 'name': 'J.R. Grubbs', 'profile_path': None}, {'credit_id': '589216c19251412dc2009cb9', 'department': 'Sound', 'gender': 1, 'id': 1748724, 'job': 'Assistant Sound Editor', 'name': 'Susan Sanford', 'profile_path': None}, {'credit_id': '589216ccc3a3680973009274', 'department': 'Sound', 'gender': 0, 'id': 1748725, 'job': 'Assistant Sound Editor', 'name': 'Susan Popovic', 'profile_path': None}, {'credit_id': '589216d79251412dc8009aa0', 'department': 'Sound', 'gender': 0, 'id': 8067, 'job': 'Assistant Sound Editor', 'name': 'Dan Engstrom', 'profile_path': None}, {'credit_id': '589216e49251412dcd009a4f', 'department': 'Production', 'gender': 1, 'id': 7902, 'job': 'Casting Consultant', 'name': 'Ruth Lambert', 'profile_path': None}, {'credit_id': '589216f39251412dc2009cf3', 'department': 'Production', 'gender': 0, 'id': 84493, 'job': 'ADR Voice Casting', 'name': 'Mickie McGowan', 'profile_path': '/k7TjJBfINsg8vLQxJwos6XObAD6.jpg'}]\n"
     ]
    }
   ],
   "source": [
    "# Verificar el contenido de la columna 'crew'\n",
    "print(credits_df['crew'].iloc[0])"
   ]
  },
  {
   "cell_type": "markdown",
   "metadata": {},
   "source": [
    "#### **Columna `'crew'`:**\n",
    "He tenido diversos problemas durante el proceso de desanidado de esta columna. Todos los procedimientos que he implementado han resultado ser ineficientes, presentando problemas de rendimiento llegando a sobrepasar los 10min. durante la ejecución del script. \n",
    "\n",
    "Luego de intentar optimizar reitaradas veces las funciones que han sido implementadas y sin obtener un resultado óptimo, tomaré la decisión de finalizar aquí el proceso de ETL, descartando por completo los valores de la columna 'crew' siendo así, imposible de implementar el endpoint solicitado `def get_director(nombre_director):`"
   ]
  },
  {
   "cell_type": "markdown",
   "metadata": {},
   "source": [
    "##### **ELIMINAR COLUMNAS INNECESARIAS**"
   ]
  },
  {
   "cell_type": "code",
   "execution_count": 83,
   "metadata": {},
   "outputs": [
    {
     "data": {
      "text/plain": [
       "Index(['cast', 'crew', 'id', 'actor_name', 'character'], dtype='object')"
      ]
     },
     "execution_count": 83,
     "metadata": {},
     "output_type": "execute_result"
    }
   ],
   "source": [
    "credits_df.columns"
   ]
  },
  {
   "cell_type": "code",
   "execution_count": 84,
   "metadata": {},
   "outputs": [],
   "source": [
    "# Eliminamos las columnas anidadas\n",
    "columns_to_drop = ['cast', 'crew']\n",
    "credits_df = credits_df.drop(columns=columns_to_drop)"
   ]
  },
  {
   "cell_type": "code",
   "execution_count": 86,
   "metadata": {},
   "outputs": [
    {
     "data": {
      "text/plain": [
       "Index(['id', 'actor_name', 'character'], dtype='object')"
      ]
     },
     "execution_count": 86,
     "metadata": {},
     "output_type": "execute_result"
    }
   ],
   "source": [
    "credits_df.columns"
   ]
  },
  {
   "cell_type": "code",
   "execution_count": 87,
   "metadata": {},
   "outputs": [
    {
     "data": {
      "text/plain": [
       "(564892, 3)"
      ]
     },
     "execution_count": 87,
     "metadata": {},
     "output_type": "execute_result"
    }
   ],
   "source": [
    "credits_df.shape"
   ]
  },
  {
   "cell_type": "markdown",
   "metadata": {},
   "source": [
    "EXPORTACIÓN EN FORMATO PARQUET"
   ]
  },
  {
   "cell_type": "code",
   "execution_count": 88,
   "metadata": {},
   "outputs": [],
   "source": [
    "credits_df.to_parquet('credits_etl_final.parquet', index=False)"
   ]
  },
  {
   "cell_type": "markdown",
   "metadata": {},
   "source": [
    "##### **JOIN DE DATAFRAMES**"
   ]
  },
  {
   "cell_type": "markdown",
   "metadata": {},
   "source": [
    "##### Uniremos los dataframes ya procesados para mejorar la optimización y rendimiento de la API\n",
    "Para ello cargamos `movies_etl_final.parquet` que contiene el proceso ETL final de `movies_dataset.csv`\n",
    "\n",
    "También cargamos `credits_etl_final.parquet` que contiene los datos desanidados de `credits.csv`"
   ]
  },
  {
   "cell_type": "code",
   "execution_count": 89,
   "metadata": {},
   "outputs": [],
   "source": [
    "import pandas as pd\n",
    "\n",
    "# Cargamos los archivos\n",
    "movies_df = pd.read_parquet('movies_etl_final.parquet')\n",
    "credits_df = pd.read_parquet('credits_etl_final.parquet')"
   ]
  },
  {
   "cell_type": "code",
   "execution_count": 91,
   "metadata": {},
   "outputs": [
    {
     "data": {
      "text/plain": [
       "(380870, 22)"
      ]
     },
     "execution_count": 91,
     "metadata": {},
     "output_type": "execute_result"
    }
   ],
   "source": [
    "movies_df.shape"
   ]
  },
  {
   "cell_type": "code",
   "execution_count": 92,
   "metadata": {},
   "outputs": [
    {
     "data": {
      "text/plain": [
       "(564892, 3)"
      ]
     },
     "execution_count": 92,
     "metadata": {},
     "output_type": "execute_result"
    }
   ],
   "source": [
    "credits_df.shape"
   ]
  },
  {
   "cell_type": "code",
   "execution_count": 90,
   "metadata": {},
   "outputs": [
    {
     "name": "stdout",
     "output_type": "stream",
     "text": [
      "Index(['budget', 'id', 'original_language', 'popularity', 'release_date',\n",
      "       'revenue', 'runtime', 'title', 'vote_average', 'vote_count',\n",
      "       'collection_id', 'collection_name', 'genre_id', 'genre_name',\n",
      "       'company_name', 'company_id', 'country_iso_3166_1', 'country_name',\n",
      "       'language_iso_639_1', 'language_name', 'release_year', 'return'],\n",
      "      dtype='object')\n",
      "\n",
      "\n",
      "Index(['id', 'actor_name', 'character'], dtype='object')\n"
     ]
    }
   ],
   "source": [
    "# Verificamos las columnas comunes entre ambos DataFrames\n",
    "print(movies_df.columns)\n",
    "print(\"\\n\")\n",
    "print(credits_df.columns)"
   ]
  },
  {
   "cell_type": "markdown",
   "metadata": {},
   "source": [
    "#### Haremos el join a través de \"id\""
   ]
  },
  {
   "cell_type": "code",
   "execution_count": 93,
   "metadata": {},
   "outputs": [],
   "source": [
    "# Convertimos las columnas 'id' a numérico\n",
    "movies_df['id'] = pd.to_numeric(movies_df['id'], errors='coerce')\n",
    "credits_df['id'] = pd.to_numeric(credits_df['id'], errors='coerce')"
   ]
  },
  {
   "cell_type": "code",
   "execution_count": 94,
   "metadata": {},
   "outputs": [],
   "source": [
    "# Realizamos la unión de ambos DataFrames usando la columna 'id'\n",
    "merged_df = pd.merge(movies_df, credits_df, on='id', how='left')"
   ]
  },
  {
   "cell_type": "code",
   "execution_count": 95,
   "metadata": {},
   "outputs": [
    {
     "data": {
      "text/html": [
       "<div>\n",
       "<style scoped>\n",
       "    .dataframe tbody tr th:only-of-type {\n",
       "        vertical-align: middle;\n",
       "    }\n",
       "\n",
       "    .dataframe tbody tr th {\n",
       "        vertical-align: top;\n",
       "    }\n",
       "\n",
       "    .dataframe thead th {\n",
       "        text-align: right;\n",
       "    }\n",
       "</style>\n",
       "<table border=\"1\" class=\"dataframe\">\n",
       "  <thead>\n",
       "    <tr style=\"text-align: right;\">\n",
       "      <th></th>\n",
       "      <th>budget</th>\n",
       "      <th>id</th>\n",
       "      <th>original_language</th>\n",
       "      <th>popularity</th>\n",
       "      <th>release_date</th>\n",
       "      <th>revenue</th>\n",
       "      <th>runtime</th>\n",
       "      <th>title</th>\n",
       "      <th>vote_average</th>\n",
       "      <th>vote_count</th>\n",
       "      <th>...</th>\n",
       "      <th>company_name</th>\n",
       "      <th>company_id</th>\n",
       "      <th>country_iso_3166_1</th>\n",
       "      <th>country_name</th>\n",
       "      <th>language_iso_639_1</th>\n",
       "      <th>language_name</th>\n",
       "      <th>release_year</th>\n",
       "      <th>return</th>\n",
       "      <th>actor_name</th>\n",
       "      <th>character</th>\n",
       "    </tr>\n",
       "  </thead>\n",
       "  <tbody>\n",
       "    <tr>\n",
       "      <th>0</th>\n",
       "      <td>30000000.0</td>\n",
       "      <td>862.0</td>\n",
       "      <td>en</td>\n",
       "      <td>21.946943</td>\n",
       "      <td>1995-10-30</td>\n",
       "      <td>373554033.0</td>\n",
       "      <td>81.0</td>\n",
       "      <td>Toy Story</td>\n",
       "      <td>7.7</td>\n",
       "      <td>5415.0</td>\n",
       "      <td>...</td>\n",
       "      <td>Pixar Animation Studios</td>\n",
       "      <td>3</td>\n",
       "      <td>US</td>\n",
       "      <td>United States of America</td>\n",
       "      <td>en</td>\n",
       "      <td>English</td>\n",
       "      <td>1995</td>\n",
       "      <td>12.451801</td>\n",
       "      <td>Tom Hanks</td>\n",
       "      <td>Woody (voice)</td>\n",
       "    </tr>\n",
       "    <tr>\n",
       "      <th>1</th>\n",
       "      <td>30000000.0</td>\n",
       "      <td>862.0</td>\n",
       "      <td>en</td>\n",
       "      <td>21.946943</td>\n",
       "      <td>1995-10-30</td>\n",
       "      <td>373554033.0</td>\n",
       "      <td>81.0</td>\n",
       "      <td>Toy Story</td>\n",
       "      <td>7.7</td>\n",
       "      <td>5415.0</td>\n",
       "      <td>...</td>\n",
       "      <td>Pixar Animation Studios</td>\n",
       "      <td>3</td>\n",
       "      <td>US</td>\n",
       "      <td>United States of America</td>\n",
       "      <td>en</td>\n",
       "      <td>English</td>\n",
       "      <td>1995</td>\n",
       "      <td>12.451801</td>\n",
       "      <td>Tim Allen</td>\n",
       "      <td>Buzz Lightyear (voice)</td>\n",
       "    </tr>\n",
       "    <tr>\n",
       "      <th>2</th>\n",
       "      <td>30000000.0</td>\n",
       "      <td>862.0</td>\n",
       "      <td>en</td>\n",
       "      <td>21.946943</td>\n",
       "      <td>1995-10-30</td>\n",
       "      <td>373554033.0</td>\n",
       "      <td>81.0</td>\n",
       "      <td>Toy Story</td>\n",
       "      <td>7.7</td>\n",
       "      <td>5415.0</td>\n",
       "      <td>...</td>\n",
       "      <td>Pixar Animation Studios</td>\n",
       "      <td>3</td>\n",
       "      <td>US</td>\n",
       "      <td>United States of America</td>\n",
       "      <td>en</td>\n",
       "      <td>English</td>\n",
       "      <td>1995</td>\n",
       "      <td>12.451801</td>\n",
       "      <td>Don Rickles</td>\n",
       "      <td>Mr. Potato Head (voice)</td>\n",
       "    </tr>\n",
       "    <tr>\n",
       "      <th>3</th>\n",
       "      <td>30000000.0</td>\n",
       "      <td>862.0</td>\n",
       "      <td>en</td>\n",
       "      <td>21.946943</td>\n",
       "      <td>1995-10-30</td>\n",
       "      <td>373554033.0</td>\n",
       "      <td>81.0</td>\n",
       "      <td>Toy Story</td>\n",
       "      <td>7.7</td>\n",
       "      <td>5415.0</td>\n",
       "      <td>...</td>\n",
       "      <td>Pixar Animation Studios</td>\n",
       "      <td>3</td>\n",
       "      <td>US</td>\n",
       "      <td>United States of America</td>\n",
       "      <td>en</td>\n",
       "      <td>English</td>\n",
       "      <td>1995</td>\n",
       "      <td>12.451801</td>\n",
       "      <td>Jim Varney</td>\n",
       "      <td>Slinky Dog (voice)</td>\n",
       "    </tr>\n",
       "    <tr>\n",
       "      <th>4</th>\n",
       "      <td>30000000.0</td>\n",
       "      <td>862.0</td>\n",
       "      <td>en</td>\n",
       "      <td>21.946943</td>\n",
       "      <td>1995-10-30</td>\n",
       "      <td>373554033.0</td>\n",
       "      <td>81.0</td>\n",
       "      <td>Toy Story</td>\n",
       "      <td>7.7</td>\n",
       "      <td>5415.0</td>\n",
       "      <td>...</td>\n",
       "      <td>Pixar Animation Studios</td>\n",
       "      <td>3</td>\n",
       "      <td>US</td>\n",
       "      <td>United States of America</td>\n",
       "      <td>en</td>\n",
       "      <td>English</td>\n",
       "      <td>1995</td>\n",
       "      <td>12.451801</td>\n",
       "      <td>Wallace Shawn</td>\n",
       "      <td>Rex (voice)</td>\n",
       "    </tr>\n",
       "    <tr>\n",
       "      <th>5</th>\n",
       "      <td>30000000.0</td>\n",
       "      <td>862.0</td>\n",
       "      <td>en</td>\n",
       "      <td>21.946943</td>\n",
       "      <td>1995-10-30</td>\n",
       "      <td>373554033.0</td>\n",
       "      <td>81.0</td>\n",
       "      <td>Toy Story</td>\n",
       "      <td>7.7</td>\n",
       "      <td>5415.0</td>\n",
       "      <td>...</td>\n",
       "      <td>Pixar Animation Studios</td>\n",
       "      <td>3</td>\n",
       "      <td>US</td>\n",
       "      <td>United States of America</td>\n",
       "      <td>en</td>\n",
       "      <td>English</td>\n",
       "      <td>1995</td>\n",
       "      <td>12.451801</td>\n",
       "      <td>John Ratzenberger</td>\n",
       "      <td>Hamm (voice)</td>\n",
       "    </tr>\n",
       "    <tr>\n",
       "      <th>6</th>\n",
       "      <td>30000000.0</td>\n",
       "      <td>862.0</td>\n",
       "      <td>en</td>\n",
       "      <td>21.946943</td>\n",
       "      <td>1995-10-30</td>\n",
       "      <td>373554033.0</td>\n",
       "      <td>81.0</td>\n",
       "      <td>Toy Story</td>\n",
       "      <td>7.7</td>\n",
       "      <td>5415.0</td>\n",
       "      <td>...</td>\n",
       "      <td>Pixar Animation Studios</td>\n",
       "      <td>3</td>\n",
       "      <td>US</td>\n",
       "      <td>United States of America</td>\n",
       "      <td>en</td>\n",
       "      <td>English</td>\n",
       "      <td>1995</td>\n",
       "      <td>12.451801</td>\n",
       "      <td>Annie Potts</td>\n",
       "      <td>Bo Peep (voice)</td>\n",
       "    </tr>\n",
       "    <tr>\n",
       "      <th>7</th>\n",
       "      <td>30000000.0</td>\n",
       "      <td>862.0</td>\n",
       "      <td>en</td>\n",
       "      <td>21.946943</td>\n",
       "      <td>1995-10-30</td>\n",
       "      <td>373554033.0</td>\n",
       "      <td>81.0</td>\n",
       "      <td>Toy Story</td>\n",
       "      <td>7.7</td>\n",
       "      <td>5415.0</td>\n",
       "      <td>...</td>\n",
       "      <td>Pixar Animation Studios</td>\n",
       "      <td>3</td>\n",
       "      <td>US</td>\n",
       "      <td>United States of America</td>\n",
       "      <td>en</td>\n",
       "      <td>English</td>\n",
       "      <td>1995</td>\n",
       "      <td>12.451801</td>\n",
       "      <td>John Morris</td>\n",
       "      <td>Andy (voice)</td>\n",
       "    </tr>\n",
       "    <tr>\n",
       "      <th>8</th>\n",
       "      <td>30000000.0</td>\n",
       "      <td>862.0</td>\n",
       "      <td>en</td>\n",
       "      <td>21.946943</td>\n",
       "      <td>1995-10-30</td>\n",
       "      <td>373554033.0</td>\n",
       "      <td>81.0</td>\n",
       "      <td>Toy Story</td>\n",
       "      <td>7.7</td>\n",
       "      <td>5415.0</td>\n",
       "      <td>...</td>\n",
       "      <td>Pixar Animation Studios</td>\n",
       "      <td>3</td>\n",
       "      <td>US</td>\n",
       "      <td>United States of America</td>\n",
       "      <td>en</td>\n",
       "      <td>English</td>\n",
       "      <td>1995</td>\n",
       "      <td>12.451801</td>\n",
       "      <td>Erik von Detten</td>\n",
       "      <td>Sid (voice)</td>\n",
       "    </tr>\n",
       "    <tr>\n",
       "      <th>9</th>\n",
       "      <td>30000000.0</td>\n",
       "      <td>862.0</td>\n",
       "      <td>en</td>\n",
       "      <td>21.946943</td>\n",
       "      <td>1995-10-30</td>\n",
       "      <td>373554033.0</td>\n",
       "      <td>81.0</td>\n",
       "      <td>Toy Story</td>\n",
       "      <td>7.7</td>\n",
       "      <td>5415.0</td>\n",
       "      <td>...</td>\n",
       "      <td>Pixar Animation Studios</td>\n",
       "      <td>3</td>\n",
       "      <td>US</td>\n",
       "      <td>United States of America</td>\n",
       "      <td>en</td>\n",
       "      <td>English</td>\n",
       "      <td>1995</td>\n",
       "      <td>12.451801</td>\n",
       "      <td>Laurie Metcalf</td>\n",
       "      <td>Mrs. Davis (voice)</td>\n",
       "    </tr>\n",
       "  </tbody>\n",
       "</table>\n",
       "<p>10 rows × 24 columns</p>\n",
       "</div>"
      ],
      "text/plain": [
       "       budget     id original_language  popularity release_date      revenue  \\\n",
       "0  30000000.0  862.0                en   21.946943   1995-10-30  373554033.0   \n",
       "1  30000000.0  862.0                en   21.946943   1995-10-30  373554033.0   \n",
       "2  30000000.0  862.0                en   21.946943   1995-10-30  373554033.0   \n",
       "3  30000000.0  862.0                en   21.946943   1995-10-30  373554033.0   \n",
       "4  30000000.0  862.0                en   21.946943   1995-10-30  373554033.0   \n",
       "5  30000000.0  862.0                en   21.946943   1995-10-30  373554033.0   \n",
       "6  30000000.0  862.0                en   21.946943   1995-10-30  373554033.0   \n",
       "7  30000000.0  862.0                en   21.946943   1995-10-30  373554033.0   \n",
       "8  30000000.0  862.0                en   21.946943   1995-10-30  373554033.0   \n",
       "9  30000000.0  862.0                en   21.946943   1995-10-30  373554033.0   \n",
       "\n",
       "   runtime      title  vote_average  vote_count  ...             company_name  \\\n",
       "0     81.0  Toy Story           7.7      5415.0  ...  Pixar Animation Studios   \n",
       "1     81.0  Toy Story           7.7      5415.0  ...  Pixar Animation Studios   \n",
       "2     81.0  Toy Story           7.7      5415.0  ...  Pixar Animation Studios   \n",
       "3     81.0  Toy Story           7.7      5415.0  ...  Pixar Animation Studios   \n",
       "4     81.0  Toy Story           7.7      5415.0  ...  Pixar Animation Studios   \n",
       "5     81.0  Toy Story           7.7      5415.0  ...  Pixar Animation Studios   \n",
       "6     81.0  Toy Story           7.7      5415.0  ...  Pixar Animation Studios   \n",
       "7     81.0  Toy Story           7.7      5415.0  ...  Pixar Animation Studios   \n",
       "8     81.0  Toy Story           7.7      5415.0  ...  Pixar Animation Studios   \n",
       "9     81.0  Toy Story           7.7      5415.0  ...  Pixar Animation Studios   \n",
       "\n",
       "  company_id  country_iso_3166_1              country_name language_iso_639_1  \\\n",
       "0          3                  US  United States of America                 en   \n",
       "1          3                  US  United States of America                 en   \n",
       "2          3                  US  United States of America                 en   \n",
       "3          3                  US  United States of America                 en   \n",
       "4          3                  US  United States of America                 en   \n",
       "5          3                  US  United States of America                 en   \n",
       "6          3                  US  United States of America                 en   \n",
       "7          3                  US  United States of America                 en   \n",
       "8          3                  US  United States of America                 en   \n",
       "9          3                  US  United States of America                 en   \n",
       "\n",
       "   language_name release_year     return         actor_name  \\\n",
       "0        English         1995  12.451801          Tom Hanks   \n",
       "1        English         1995  12.451801          Tim Allen   \n",
       "2        English         1995  12.451801        Don Rickles   \n",
       "3        English         1995  12.451801         Jim Varney   \n",
       "4        English         1995  12.451801      Wallace Shawn   \n",
       "5        English         1995  12.451801  John Ratzenberger   \n",
       "6        English         1995  12.451801        Annie Potts   \n",
       "7        English         1995  12.451801        John Morris   \n",
       "8        English         1995  12.451801    Erik von Detten   \n",
       "9        English         1995  12.451801     Laurie Metcalf   \n",
       "\n",
       "                 character  \n",
       "0            Woody (voice)  \n",
       "1   Buzz Lightyear (voice)  \n",
       "2  Mr. Potato Head (voice)  \n",
       "3       Slinky Dog (voice)  \n",
       "4              Rex (voice)  \n",
       "5             Hamm (voice)  \n",
       "6          Bo Peep (voice)  \n",
       "7             Andy (voice)  \n",
       "8              Sid (voice)  \n",
       "9       Mrs. Davis (voice)  \n",
       "\n",
       "[10 rows x 24 columns]"
      ]
     },
     "execution_count": 95,
     "metadata": {},
     "output_type": "execute_result"
    }
   ],
   "source": [
    "merged_df.head(10)"
   ]
  },
  {
   "cell_type": "markdown",
   "metadata": {},
   "source": [
    "#### Los valores de 'id' fueron almacenados como floats. Lo solucionamos convirtiendo 'id' a entero."
   ]
  },
  {
   "cell_type": "code",
   "execution_count": 97,
   "metadata": {},
   "outputs": [],
   "source": [
    "# Se convierte 'id' a entero después de la unión, eliminando cualquier valor nulo que haya quedado en la columna id\n",
    "merged_df['id'] = merged_df['id'].fillna(0).astype(int)"
   ]
  },
  {
   "cell_type": "code",
   "execution_count": 98,
   "metadata": {},
   "outputs": [
    {
     "name": "stdout",
     "output_type": "stream",
     "text": [
      "id    int64\n",
      "dtype: object\n"
     ]
    }
   ],
   "source": [
    "# Verificamos la conversión\n",
    "print(merged_df[['id']].dtypes)"
   ]
  },
  {
   "cell_type": "code",
   "execution_count": 99,
   "metadata": {},
   "outputs": [
    {
     "data": {
      "text/html": [
       "<div>\n",
       "<style scoped>\n",
       "    .dataframe tbody tr th:only-of-type {\n",
       "        vertical-align: middle;\n",
       "    }\n",
       "\n",
       "    .dataframe tbody tr th {\n",
       "        vertical-align: top;\n",
       "    }\n",
       "\n",
       "    .dataframe thead th {\n",
       "        text-align: right;\n",
       "    }\n",
       "</style>\n",
       "<table border=\"1\" class=\"dataframe\">\n",
       "  <thead>\n",
       "    <tr style=\"text-align: right;\">\n",
       "      <th></th>\n",
       "      <th>budget</th>\n",
       "      <th>id</th>\n",
       "      <th>original_language</th>\n",
       "      <th>popularity</th>\n",
       "      <th>release_date</th>\n",
       "      <th>revenue</th>\n",
       "      <th>runtime</th>\n",
       "      <th>title</th>\n",
       "      <th>vote_average</th>\n",
       "      <th>vote_count</th>\n",
       "      <th>...</th>\n",
       "      <th>company_name</th>\n",
       "      <th>company_id</th>\n",
       "      <th>country_iso_3166_1</th>\n",
       "      <th>country_name</th>\n",
       "      <th>language_iso_639_1</th>\n",
       "      <th>language_name</th>\n",
       "      <th>release_year</th>\n",
       "      <th>return</th>\n",
       "      <th>actor_name</th>\n",
       "      <th>character</th>\n",
       "    </tr>\n",
       "  </thead>\n",
       "  <tbody>\n",
       "    <tr>\n",
       "      <th>0</th>\n",
       "      <td>30000000.0</td>\n",
       "      <td>862</td>\n",
       "      <td>en</td>\n",
       "      <td>21.946943</td>\n",
       "      <td>1995-10-30</td>\n",
       "      <td>373554033.0</td>\n",
       "      <td>81.0</td>\n",
       "      <td>Toy Story</td>\n",
       "      <td>7.7</td>\n",
       "      <td>5415.0</td>\n",
       "      <td>...</td>\n",
       "      <td>Pixar Animation Studios</td>\n",
       "      <td>3</td>\n",
       "      <td>US</td>\n",
       "      <td>United States of America</td>\n",
       "      <td>en</td>\n",
       "      <td>English</td>\n",
       "      <td>1995</td>\n",
       "      <td>12.451801</td>\n",
       "      <td>Tom Hanks</td>\n",
       "      <td>Woody (voice)</td>\n",
       "    </tr>\n",
       "  </tbody>\n",
       "</table>\n",
       "<p>1 rows × 24 columns</p>\n",
       "</div>"
      ],
      "text/plain": [
       "       budget   id original_language  popularity release_date      revenue  \\\n",
       "0  30000000.0  862                en   21.946943   1995-10-30  373554033.0   \n",
       "\n",
       "   runtime      title  vote_average  vote_count  ...             company_name  \\\n",
       "0     81.0  Toy Story           7.7      5415.0  ...  Pixar Animation Studios   \n",
       "\n",
       "  company_id  country_iso_3166_1              country_name language_iso_639_1  \\\n",
       "0          3                  US  United States of America                 en   \n",
       "\n",
       "   language_name release_year     return actor_name      character  \n",
       "0        English         1995  12.451801  Tom Hanks  Woody (voice)  \n",
       "\n",
       "[1 rows x 24 columns]"
      ]
     },
     "execution_count": 99,
     "metadata": {},
     "output_type": "execute_result"
    }
   ],
   "source": [
    "merged_df.head(1)"
   ]
  },
  {
   "cell_type": "code",
   "execution_count": 100,
   "metadata": {},
   "outputs": [
    {
     "data": {
      "text/plain": [
       "(6736774, 24)"
      ]
     },
     "execution_count": 100,
     "metadata": {},
     "output_type": "execute_result"
    }
   ],
   "source": [
    "merged_df.shape"
   ]
  },
  {
   "cell_type": "markdown",
   "metadata": {},
   "source": [
    "##### El crecimiento tan grande en el número de filas después del merge sugiere que hay una relación de uno a muchos entre las dos tablas, lo que genera una multiplicación de filas. \n",
    "\n",
    "Sucede que una película (representada por su id) tiene múltiples actores en el dataset de credits, por lo que, al hacer el merge, se crea una fila para cada combinación de película y actor, lo que resulta en un aumento exponencial del número de filas.\n",
    "\n",
    "Para solucionar esto, se tuvo en cuenta el requerimiento solicitado en el endpoint el cual implica contar cuántas películas tiene un actor, lo cual requiere conservar todas las asociaciones actor-película.\n",
    "\n",
    "- Para ello se concatenan los actores en una sola celda sin duplicar las filas y sin inflar innecesariamente el dataset."
   ]
  },
  {
   "cell_type": "code",
   "execution_count": 101,
   "metadata": {},
   "outputs": [
    {
     "name": "stdout",
     "output_type": "stream",
     "text": [
      "count    45432.000000\n",
      "mean        12.433791\n",
      "std         12.046310\n",
      "min          1.000000\n",
      "25%          6.000000\n",
      "50%         10.000000\n",
      "75%         15.000000\n",
      "max        313.000000\n",
      "dtype: float64\n"
     ]
    }
   ],
   "source": [
    "# Contar cuántos actores hay por cada película (id)\n",
    "actor_count_per_movie = credits_df.groupby('id').size()\n",
    "print(actor_count_per_movie.describe())\n"
   ]
  },
  {
   "cell_type": "markdown",
   "metadata": {},
   "source": [
    "Acá se ve que cada película tiene alrededor de 12 actores asociados, con algunas películas que tienen hasta 313 actores. Esto explica la gran multiplicación de filas en el merge."
   ]
  },
  {
   "cell_type": "code",
   "execution_count": 105,
   "metadata": {},
   "outputs": [],
   "source": [
    "# Agrupar actores por película y concatenar sus nombres en una sola celda, manejando los valores nulos\n",
    "credits_df['actor_name'] = credits_df['actor_name'].fillna('')  # Reemplazar nulos por una cadena vacía\n",
    "credits_df_grouped = credits_df.groupby('id')['actor_name'].apply(lambda x: ', '.join(x)).reset_index()\n"
   ]
  },
  {
   "cell_type": "code",
   "execution_count": 106,
   "metadata": {},
   "outputs": [
    {
     "data": {
      "text/html": [
       "<div>\n",
       "<style scoped>\n",
       "    .dataframe tbody tr th:only-of-type {\n",
       "        vertical-align: middle;\n",
       "    }\n",
       "\n",
       "    .dataframe tbody tr th {\n",
       "        vertical-align: top;\n",
       "    }\n",
       "\n",
       "    .dataframe thead th {\n",
       "        text-align: right;\n",
       "    }\n",
       "</style>\n",
       "<table border=\"1\" class=\"dataframe\">\n",
       "  <thead>\n",
       "    <tr style=\"text-align: right;\">\n",
       "      <th></th>\n",
       "      <th>id</th>\n",
       "      <th>actor_name</th>\n",
       "    </tr>\n",
       "  </thead>\n",
       "  <tbody>\n",
       "    <tr>\n",
       "      <th>0</th>\n",
       "      <td>2</td>\n",
       "      <td>Turo Pajala, Susanna Haavisto, Matti Pellonpää...</td>\n",
       "    </tr>\n",
       "    <tr>\n",
       "      <th>1</th>\n",
       "      <td>3</td>\n",
       "      <td>Matti Pellonpää, Kati Outinen, Sakari Kuosmane...</td>\n",
       "    </tr>\n",
       "    <tr>\n",
       "      <th>2</th>\n",
       "      <td>5</td>\n",
       "      <td>Tim Roth, Antonio Banderas, Jennifer Beals, Ma...</td>\n",
       "    </tr>\n",
       "    <tr>\n",
       "      <th>3</th>\n",
       "      <td>6</td>\n",
       "      <td>Emilio Estevez, Cuba Gooding Jr., Denis Leary,...</td>\n",
       "    </tr>\n",
       "    <tr>\n",
       "      <th>4</th>\n",
       "      <td>11</td>\n",
       "      <td>Mark Hamill, Harrison Ford, Carrie Fisher, Pet...</td>\n",
       "    </tr>\n",
       "  </tbody>\n",
       "</table>\n",
       "</div>"
      ],
      "text/plain": [
       "   id                                         actor_name\n",
       "0   2  Turo Pajala, Susanna Haavisto, Matti Pellonpää...\n",
       "1   3  Matti Pellonpää, Kati Outinen, Sakari Kuosmane...\n",
       "2   5  Tim Roth, Antonio Banderas, Jennifer Beals, Ma...\n",
       "3   6  Emilio Estevez, Cuba Gooding Jr., Denis Leary,...\n",
       "4  11  Mark Hamill, Harrison Ford, Carrie Fisher, Pet..."
      ]
     },
     "execution_count": 106,
     "metadata": {},
     "output_type": "execute_result"
    }
   ],
   "source": [
    "credits_df_grouped.head()\n"
   ]
  },
  {
   "cell_type": "code",
   "execution_count": 107,
   "metadata": {},
   "outputs": [],
   "source": [
    "# Realizamos la unión de ambos DataFrames usando 'id'\n",
    "merged_df = pd.merge(movies_df, credits_df_grouped, on='id', how='left')\n"
   ]
  },
  {
   "cell_type": "code",
   "execution_count": 109,
   "metadata": {},
   "outputs": [
    {
     "data": {
      "text/plain": [
       "(380870, 23)"
      ]
     },
     "execution_count": 109,
     "metadata": {},
     "output_type": "execute_result"
    }
   ],
   "source": [
    "merged_df.shape"
   ]
  },
  {
   "cell_type": "markdown",
   "metadata": {},
   "source": [
    "#### Para finalizar el proceso, se exportará el df unido y previamente procesado para que la API consuma los datos desde un mismo lugar"
   ]
  },
  {
   "cell_type": "code",
   "execution_count": 110,
   "metadata": {},
   "outputs": [],
   "source": [
    "merged_df.to_parquet('dataset_final.parquet', index=False)"
   ]
  },
  {
   "cell_type": "code",
   "execution_count": 111,
   "metadata": {},
   "outputs": [],
   "source": [
    "df = pd.read_parquet('dataset_final.parquet')"
   ]
  },
  {
   "cell_type": "code",
   "execution_count": null,
   "metadata": {},
   "outputs": [],
   "source": [
    "df.shape"
   ]
  }
 ],
 "metadata": {
  "kernelspec": {
   "display_name": "venvmlops",
   "language": "python",
   "name": "python3"
  },
  "language_info": {
   "codemirror_mode": {
    "name": "ipython",
    "version": 3
   },
   "file_extension": ".py",
   "mimetype": "text/x-python",
   "name": "python",
   "nbconvert_exporter": "python",
   "pygments_lexer": "ipython3",
   "version": "3.10.11"
  }
 },
 "nbformat": 4,
 "nbformat_minor": 2
}
