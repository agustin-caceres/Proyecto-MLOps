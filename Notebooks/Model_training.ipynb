{
 "cells": [
  {
   "cell_type": "markdown",
   "metadata": {},
   "source": [
    "## **IMPLEMENTACIÓN DEL SISTEMA DE RECOMENDACIÓN**\n",
    "\n",
    "#### **CARGA DE DATOS**\n",
    "\n",
    " ##### Durante el proceso ETL por descuido se eliminó la columna `overview`, por ende para recuperarla se crea un nuevo DataFrame, el mismo surge de la unión del dataset original y del dataset finalmente procesado y se realizan unas pequeñas transformaciones antes del merge:\n",
    "- Del dataset original solo se extrae la columna `overview` previamente eliminada en el proceso ETL\n",
    "- En el dataset procesado se conviertieron los `Id` a int comprobando si existían valores no númericos antes de la conversión"
   ]
  },
  {
   "cell_type": "code",
   "execution_count": 1,
   "metadata": {},
   "outputs": [],
   "source": [
    "import pandas as pd"
   ]
  },
  {
   "cell_type": "code",
   "execution_count": 2,
   "metadata": {},
   "outputs": [],
   "source": [
    "# dataset original el cual contiene la columna 'overview'\n",
    "dataset_original_df = pd.read_csv('C:\\DYNAMO\\DATA SCIENCE\\Proyectos\\Proyecto-MLOps\\Dataset\\movies_dataset.csv', usecols=['id', 'overview'])\n",
    "\n",
    "# dataset procesado\n",
    "dataset_procesado_df = pd.read_parquet('dataset_final.parquet')"
   ]
  },
  {
   "cell_type": "code",
   "execution_count": 3,
   "metadata": {},
   "outputs": [
    {
     "data": {
      "text/html": [
       "<div>\n",
       "<style scoped>\n",
       "    .dataframe tbody tr th:only-of-type {\n",
       "        vertical-align: middle;\n",
       "    }\n",
       "\n",
       "    .dataframe tbody tr th {\n",
       "        vertical-align: top;\n",
       "    }\n",
       "\n",
       "    .dataframe thead th {\n",
       "        text-align: right;\n",
       "    }\n",
       "</style>\n",
       "<table border=\"1\" class=\"dataframe\">\n",
       "  <thead>\n",
       "    <tr style=\"text-align: right;\">\n",
       "      <th></th>\n",
       "      <th>id</th>\n",
       "      <th>overview</th>\n",
       "    </tr>\n",
       "  </thead>\n",
       "  <tbody>\n",
       "    <tr>\n",
       "      <th>0</th>\n",
       "      <td>862</td>\n",
       "      <td>Led by Woody, Andy's toys live happily in his ...</td>\n",
       "    </tr>\n",
       "    <tr>\n",
       "      <th>1</th>\n",
       "      <td>8844</td>\n",
       "      <td>When siblings Judy and Peter discover an encha...</td>\n",
       "    </tr>\n",
       "  </tbody>\n",
       "</table>\n",
       "</div>"
      ],
      "text/plain": [
       "     id                                           overview\n",
       "0   862  Led by Woody, Andy's toys live happily in his ...\n",
       "1  8844  When siblings Judy and Peter discover an encha..."
      ]
     },
     "execution_count": 3,
     "metadata": {},
     "output_type": "execute_result"
    }
   ],
   "source": [
    "dataset_original_df.head(2)"
   ]
  },
  {
   "cell_type": "code",
   "execution_count": 4,
   "metadata": {},
   "outputs": [
    {
     "data": {
      "text/html": [
       "<div>\n",
       "<style scoped>\n",
       "    .dataframe tbody tr th:only-of-type {\n",
       "        vertical-align: middle;\n",
       "    }\n",
       "\n",
       "    .dataframe tbody tr th {\n",
       "        vertical-align: top;\n",
       "    }\n",
       "\n",
       "    .dataframe thead th {\n",
       "        text-align: right;\n",
       "    }\n",
       "</style>\n",
       "<table border=\"1\" class=\"dataframe\">\n",
       "  <thead>\n",
       "    <tr style=\"text-align: right;\">\n",
       "      <th></th>\n",
       "      <th>budget</th>\n",
       "      <th>id</th>\n",
       "      <th>original_language</th>\n",
       "      <th>popularity</th>\n",
       "      <th>release_date</th>\n",
       "      <th>revenue</th>\n",
       "      <th>runtime</th>\n",
       "      <th>title</th>\n",
       "      <th>vote_average</th>\n",
       "      <th>vote_count</th>\n",
       "      <th>...</th>\n",
       "      <th>genre_name</th>\n",
       "      <th>company_name</th>\n",
       "      <th>company_id</th>\n",
       "      <th>country_iso_3166_1</th>\n",
       "      <th>country_name</th>\n",
       "      <th>language_iso_639_1</th>\n",
       "      <th>language_name</th>\n",
       "      <th>release_year</th>\n",
       "      <th>return</th>\n",
       "      <th>actor_name</th>\n",
       "    </tr>\n",
       "  </thead>\n",
       "  <tbody>\n",
       "    <tr>\n",
       "      <th>0</th>\n",
       "      <td>30000000.0</td>\n",
       "      <td>862.0</td>\n",
       "      <td>en</td>\n",
       "      <td>21.946943</td>\n",
       "      <td>1995-10-30</td>\n",
       "      <td>373554033.0</td>\n",
       "      <td>81.0</td>\n",
       "      <td>Toy Story</td>\n",
       "      <td>7.7</td>\n",
       "      <td>5415.0</td>\n",
       "      <td>...</td>\n",
       "      <td>Animation</td>\n",
       "      <td>Pixar Animation Studios</td>\n",
       "      <td>3</td>\n",
       "      <td>US</td>\n",
       "      <td>United States of America</td>\n",
       "      <td>en</td>\n",
       "      <td>English</td>\n",
       "      <td>1995</td>\n",
       "      <td>12.451801</td>\n",
       "      <td>Tom Hanks, Tim Allen, Don Rickles, Jim Varney,...</td>\n",
       "    </tr>\n",
       "    <tr>\n",
       "      <th>1</th>\n",
       "      <td>30000000.0</td>\n",
       "      <td>862.0</td>\n",
       "      <td>en</td>\n",
       "      <td>21.946943</td>\n",
       "      <td>1995-10-30</td>\n",
       "      <td>373554033.0</td>\n",
       "      <td>81.0</td>\n",
       "      <td>Toy Story</td>\n",
       "      <td>7.7</td>\n",
       "      <td>5415.0</td>\n",
       "      <td>...</td>\n",
       "      <td>Comedy</td>\n",
       "      <td>Pixar Animation Studios</td>\n",
       "      <td>3</td>\n",
       "      <td>US</td>\n",
       "      <td>United States of America</td>\n",
       "      <td>en</td>\n",
       "      <td>English</td>\n",
       "      <td>1995</td>\n",
       "      <td>12.451801</td>\n",
       "      <td>Tom Hanks, Tim Allen, Don Rickles, Jim Varney,...</td>\n",
       "    </tr>\n",
       "  </tbody>\n",
       "</table>\n",
       "<p>2 rows × 23 columns</p>\n",
       "</div>"
      ],
      "text/plain": [
       "       budget     id original_language  popularity release_date      revenue  \\\n",
       "0  30000000.0  862.0                en   21.946943   1995-10-30  373554033.0   \n",
       "1  30000000.0  862.0                en   21.946943   1995-10-30  373554033.0   \n",
       "\n",
       "   runtime      title  vote_average  vote_count  ...  genre_name  \\\n",
       "0     81.0  Toy Story           7.7      5415.0  ...   Animation   \n",
       "1     81.0  Toy Story           7.7      5415.0  ...      Comedy   \n",
       "\n",
       "              company_name  company_id country_iso_3166_1  \\\n",
       "0  Pixar Animation Studios           3                 US   \n",
       "1  Pixar Animation Studios           3                 US   \n",
       "\n",
       "               country_name  language_iso_639_1 language_name release_year  \\\n",
       "0  United States of America                  en       English         1995   \n",
       "1  United States of America                  en       English         1995   \n",
       "\n",
       "      return                                         actor_name  \n",
       "0  12.451801  Tom Hanks, Tim Allen, Don Rickles, Jim Varney,...  \n",
       "1  12.451801  Tom Hanks, Tim Allen, Don Rickles, Jim Varney,...  \n",
       "\n",
       "[2 rows x 23 columns]"
      ]
     },
     "execution_count": 4,
     "metadata": {},
     "output_type": "execute_result"
    }
   ],
   "source": [
    "dataset_procesado_df.head(2)"
   ]
  },
  {
   "cell_type": "code",
   "execution_count": 5,
   "metadata": {},
   "outputs": [],
   "source": [
    "# Se convierten los id a enteros asegurando de que no haya valores nulos\n",
    "dataset_original_df['id'] = pd.to_numeric(dataset_original_df['id'], errors='coerce').fillna(0).astype(int)\n",
    "dataset_procesado_df['id'] = pd.to_numeric(dataset_procesado_df['id'], errors='coerce').fillna(0).astype(int)"
   ]
  },
  {
   "cell_type": "code",
   "execution_count": 6,
   "metadata": {},
   "outputs": [],
   "source": [
    "movies_ml_df = pd.merge(dataset_procesado_df, dataset_original_df, on='id', how='left')"
   ]
  },
  {
   "cell_type": "code",
   "execution_count": 7,
   "metadata": {},
   "outputs": [
    {
     "data": {
      "text/html": [
       "<div>\n",
       "<style scoped>\n",
       "    .dataframe tbody tr th:only-of-type {\n",
       "        vertical-align: middle;\n",
       "    }\n",
       "\n",
       "    .dataframe tbody tr th {\n",
       "        vertical-align: top;\n",
       "    }\n",
       "\n",
       "    .dataframe thead th {\n",
       "        text-align: right;\n",
       "    }\n",
       "</style>\n",
       "<table border=\"1\" class=\"dataframe\">\n",
       "  <thead>\n",
       "    <tr style=\"text-align: right;\">\n",
       "      <th></th>\n",
       "      <th>budget</th>\n",
       "      <th>id</th>\n",
       "      <th>original_language</th>\n",
       "      <th>popularity</th>\n",
       "      <th>release_date</th>\n",
       "      <th>revenue</th>\n",
       "      <th>runtime</th>\n",
       "      <th>title</th>\n",
       "      <th>vote_average</th>\n",
       "      <th>vote_count</th>\n",
       "      <th>...</th>\n",
       "      <th>company_name</th>\n",
       "      <th>company_id</th>\n",
       "      <th>country_iso_3166_1</th>\n",
       "      <th>country_name</th>\n",
       "      <th>language_iso_639_1</th>\n",
       "      <th>language_name</th>\n",
       "      <th>release_year</th>\n",
       "      <th>return</th>\n",
       "      <th>actor_name</th>\n",
       "      <th>overview</th>\n",
       "    </tr>\n",
       "  </thead>\n",
       "  <tbody>\n",
       "    <tr>\n",
       "      <th>0</th>\n",
       "      <td>30000000.0</td>\n",
       "      <td>862</td>\n",
       "      <td>en</td>\n",
       "      <td>21.946943</td>\n",
       "      <td>1995-10-30</td>\n",
       "      <td>373554033.0</td>\n",
       "      <td>81.0</td>\n",
       "      <td>Toy Story</td>\n",
       "      <td>7.7</td>\n",
       "      <td>5415.0</td>\n",
       "      <td>...</td>\n",
       "      <td>Pixar Animation Studios</td>\n",
       "      <td>3</td>\n",
       "      <td>US</td>\n",
       "      <td>United States of America</td>\n",
       "      <td>en</td>\n",
       "      <td>English</td>\n",
       "      <td>1995</td>\n",
       "      <td>12.451801</td>\n",
       "      <td>Tom Hanks, Tim Allen, Don Rickles, Jim Varney,...</td>\n",
       "      <td>Led by Woody, Andy's toys live happily in his ...</td>\n",
       "    </tr>\n",
       "    <tr>\n",
       "      <th>1</th>\n",
       "      <td>30000000.0</td>\n",
       "      <td>862</td>\n",
       "      <td>en</td>\n",
       "      <td>21.946943</td>\n",
       "      <td>1995-10-30</td>\n",
       "      <td>373554033.0</td>\n",
       "      <td>81.0</td>\n",
       "      <td>Toy Story</td>\n",
       "      <td>7.7</td>\n",
       "      <td>5415.0</td>\n",
       "      <td>...</td>\n",
       "      <td>Pixar Animation Studios</td>\n",
       "      <td>3</td>\n",
       "      <td>US</td>\n",
       "      <td>United States of America</td>\n",
       "      <td>en</td>\n",
       "      <td>English</td>\n",
       "      <td>1995</td>\n",
       "      <td>12.451801</td>\n",
       "      <td>Tom Hanks, Tim Allen, Don Rickles, Jim Varney,...</td>\n",
       "      <td>Led by Woody, Andy's toys live happily in his ...</td>\n",
       "    </tr>\n",
       "  </tbody>\n",
       "</table>\n",
       "<p>2 rows × 24 columns</p>\n",
       "</div>"
      ],
      "text/plain": [
       "       budget   id original_language  popularity release_date      revenue  \\\n",
       "0  30000000.0  862                en   21.946943   1995-10-30  373554033.0   \n",
       "1  30000000.0  862                en   21.946943   1995-10-30  373554033.0   \n",
       "\n",
       "   runtime      title  vote_average  vote_count  ...             company_name  \\\n",
       "0     81.0  Toy Story           7.7      5415.0  ...  Pixar Animation Studios   \n",
       "1     81.0  Toy Story           7.7      5415.0  ...  Pixar Animation Studios   \n",
       "\n",
       "  company_id  country_iso_3166_1              country_name language_iso_639_1  \\\n",
       "0          3                  US  United States of America                 en   \n",
       "1          3                  US  United States of America                 en   \n",
       "\n",
       "   language_name release_year     return  \\\n",
       "0        English         1995  12.451801   \n",
       "1        English         1995  12.451801   \n",
       "\n",
       "                                          actor_name  \\\n",
       "0  Tom Hanks, Tim Allen, Don Rickles, Jim Varney,...   \n",
       "1  Tom Hanks, Tim Allen, Don Rickles, Jim Varney,...   \n",
       "\n",
       "                                            overview  \n",
       "0  Led by Woody, Andy's toys live happily in his ...  \n",
       "1  Led by Woody, Andy's toys live happily in his ...  \n",
       "\n",
       "[2 rows x 24 columns]"
      ]
     },
     "execution_count": 7,
     "metadata": {},
     "output_type": "execute_result"
    }
   ],
   "source": [
    "movies_ml_df.head(2)"
   ]
  },
  {
   "cell_type": "markdown",
   "metadata": {},
   "source": [
    "### **MODELO DE RECOMENDACIÓN**"
   ]
  },
  {
   "cell_type": "markdown",
   "metadata": {},
   "source": [
    "#### Se crea un nuevo DataFrame conservando solo las columnas necesarias para el modelo, manteniendo la estructura de `movies_ml_df` intacta para futuras referencias o modificaciones."
   ]
  },
  {
   "cell_type": "code",
   "execution_count": 8,
   "metadata": {},
   "outputs": [],
   "source": [
    "columns_necesarias = ['title', 'genre_name', 'vote_average', 'popularity', 'overview', 'release_date']\n",
    "model_df = movies_ml_df[columns_necesarias].copy()"
   ]
  },
  {
   "cell_type": "code",
   "execution_count": 9,
   "metadata": {},
   "outputs": [
    {
     "data": {
      "text/html": [
       "<div>\n",
       "<style scoped>\n",
       "    .dataframe tbody tr th:only-of-type {\n",
       "        vertical-align: middle;\n",
       "    }\n",
       "\n",
       "    .dataframe tbody tr th {\n",
       "        vertical-align: top;\n",
       "    }\n",
       "\n",
       "    .dataframe thead th {\n",
       "        text-align: right;\n",
       "    }\n",
       "</style>\n",
       "<table border=\"1\" class=\"dataframe\">\n",
       "  <thead>\n",
       "    <tr style=\"text-align: right;\">\n",
       "      <th></th>\n",
       "      <th>title</th>\n",
       "      <th>genre_name</th>\n",
       "      <th>vote_average</th>\n",
       "      <th>popularity</th>\n",
       "      <th>overview</th>\n",
       "      <th>release_date</th>\n",
       "    </tr>\n",
       "  </thead>\n",
       "  <tbody>\n",
       "    <tr>\n",
       "      <th>0</th>\n",
       "      <td>Toy Story</td>\n",
       "      <td>Animation</td>\n",
       "      <td>7.7</td>\n",
       "      <td>21.946943</td>\n",
       "      <td>Led by Woody, Andy's toys live happily in his ...</td>\n",
       "      <td>1995-10-30</td>\n",
       "    </tr>\n",
       "    <tr>\n",
       "      <th>1</th>\n",
       "      <td>Toy Story</td>\n",
       "      <td>Comedy</td>\n",
       "      <td>7.7</td>\n",
       "      <td>21.946943</td>\n",
       "      <td>Led by Woody, Andy's toys live happily in his ...</td>\n",
       "      <td>1995-10-30</td>\n",
       "    </tr>\n",
       "    <tr>\n",
       "      <th>2</th>\n",
       "      <td>Toy Story</td>\n",
       "      <td>Family</td>\n",
       "      <td>7.7</td>\n",
       "      <td>21.946943</td>\n",
       "      <td>Led by Woody, Andy's toys live happily in his ...</td>\n",
       "      <td>1995-10-30</td>\n",
       "    </tr>\n",
       "    <tr>\n",
       "      <th>3</th>\n",
       "      <td>Jumanji</td>\n",
       "      <td>Adventure</td>\n",
       "      <td>6.9</td>\n",
       "      <td>17.015539</td>\n",
       "      <td>When siblings Judy and Peter discover an encha...</td>\n",
       "      <td>1995-12-15</td>\n",
       "    </tr>\n",
       "    <tr>\n",
       "      <th>4</th>\n",
       "      <td>Jumanji</td>\n",
       "      <td>Adventure</td>\n",
       "      <td>6.9</td>\n",
       "      <td>17.015539</td>\n",
       "      <td>When siblings Judy and Peter discover an encha...</td>\n",
       "      <td>1995-12-15</td>\n",
       "    </tr>\n",
       "    <tr>\n",
       "      <th>5</th>\n",
       "      <td>Jumanji</td>\n",
       "      <td>Adventure</td>\n",
       "      <td>6.9</td>\n",
       "      <td>17.015539</td>\n",
       "      <td>When siblings Judy and Peter discover an encha...</td>\n",
       "      <td>1995-12-15</td>\n",
       "    </tr>\n",
       "    <tr>\n",
       "      <th>6</th>\n",
       "      <td>Jumanji</td>\n",
       "      <td>Adventure</td>\n",
       "      <td>6.9</td>\n",
       "      <td>17.015539</td>\n",
       "      <td>When siblings Judy and Peter discover an encha...</td>\n",
       "      <td>1995-12-15</td>\n",
       "    </tr>\n",
       "    <tr>\n",
       "      <th>7</th>\n",
       "      <td>Jumanji</td>\n",
       "      <td>Adventure</td>\n",
       "      <td>6.9</td>\n",
       "      <td>17.015539</td>\n",
       "      <td>When siblings Judy and Peter discover an encha...</td>\n",
       "      <td>1995-12-15</td>\n",
       "    </tr>\n",
       "    <tr>\n",
       "      <th>8</th>\n",
       "      <td>Jumanji</td>\n",
       "      <td>Adventure</td>\n",
       "      <td>6.9</td>\n",
       "      <td>17.015539</td>\n",
       "      <td>When siblings Judy and Peter discover an encha...</td>\n",
       "      <td>1995-12-15</td>\n",
       "    </tr>\n",
       "    <tr>\n",
       "      <th>9</th>\n",
       "      <td>Jumanji</td>\n",
       "      <td>Fantasy</td>\n",
       "      <td>6.9</td>\n",
       "      <td>17.015539</td>\n",
       "      <td>When siblings Judy and Peter discover an encha...</td>\n",
       "      <td>1995-12-15</td>\n",
       "    </tr>\n",
       "  </tbody>\n",
       "</table>\n",
       "</div>"
      ],
      "text/plain": [
       "       title genre_name  vote_average  popularity  \\\n",
       "0  Toy Story  Animation           7.7   21.946943   \n",
       "1  Toy Story     Comedy           7.7   21.946943   \n",
       "2  Toy Story     Family           7.7   21.946943   \n",
       "3    Jumanji  Adventure           6.9   17.015539   \n",
       "4    Jumanji  Adventure           6.9   17.015539   \n",
       "5    Jumanji  Adventure           6.9   17.015539   \n",
       "6    Jumanji  Adventure           6.9   17.015539   \n",
       "7    Jumanji  Adventure           6.9   17.015539   \n",
       "8    Jumanji  Adventure           6.9   17.015539   \n",
       "9    Jumanji    Fantasy           6.9   17.015539   \n",
       "\n",
       "                                            overview release_date  \n",
       "0  Led by Woody, Andy's toys live happily in his ...   1995-10-30  \n",
       "1  Led by Woody, Andy's toys live happily in his ...   1995-10-30  \n",
       "2  Led by Woody, Andy's toys live happily in his ...   1995-10-30  \n",
       "3  When siblings Judy and Peter discover an encha...   1995-12-15  \n",
       "4  When siblings Judy and Peter discover an encha...   1995-12-15  \n",
       "5  When siblings Judy and Peter discover an encha...   1995-12-15  \n",
       "6  When siblings Judy and Peter discover an encha...   1995-12-15  \n",
       "7  When siblings Judy and Peter discover an encha...   1995-12-15  \n",
       "8  When siblings Judy and Peter discover an encha...   1995-12-15  \n",
       "9  When siblings Judy and Peter discover an encha...   1995-12-15  "
      ]
     },
     "execution_count": 9,
     "metadata": {},
     "output_type": "execute_result"
    }
   ],
   "source": [
    "model_df.head(10)"
   ]
  },
  {
   "cell_type": "code",
   "execution_count": 10,
   "metadata": {},
   "outputs": [
    {
     "data": {
      "text/plain": [
       "(383104, 6)"
      ]
     },
     "execution_count": 10,
     "metadata": {},
     "output_type": "execute_result"
    }
   ],
   "source": [
    "model_df.shape"
   ]
  },
  {
   "cell_type": "markdown",
   "metadata": {},
   "source": [
    "#### **Duplicados**\n",
    "- #### Se eliminan los duplicados que se crearon al utilizar el metodo explode() durante el desanidado de la columna `genre` para no afectar la implementación del modelo de recomendación."
   ]
  },
  {
   "cell_type": "code",
   "execution_count": 11,
   "metadata": {},
   "outputs": [
    {
     "data": {
      "text/html": [
       "<div>\n",
       "<style scoped>\n",
       "    .dataframe tbody tr th:only-of-type {\n",
       "        vertical-align: middle;\n",
       "    }\n",
       "\n",
       "    .dataframe tbody tr th {\n",
       "        vertical-align: top;\n",
       "    }\n",
       "\n",
       "    .dataframe thead th {\n",
       "        text-align: right;\n",
       "    }\n",
       "</style>\n",
       "<table border=\"1\" class=\"dataframe\">\n",
       "  <thead>\n",
       "    <tr style=\"text-align: right;\">\n",
       "      <th></th>\n",
       "      <th>title</th>\n",
       "      <th>genre_name</th>\n",
       "      <th>vote_average</th>\n",
       "      <th>popularity</th>\n",
       "      <th>overview</th>\n",
       "      <th>release_date</th>\n",
       "    </tr>\n",
       "  </thead>\n",
       "  <tbody>\n",
       "    <tr>\n",
       "      <th>0</th>\n",
       "      <td>Toy Story</td>\n",
       "      <td>Animation</td>\n",
       "      <td>7.7</td>\n",
       "      <td>21.946943</td>\n",
       "      <td>Led by Woody, Andy's toys live happily in his ...</td>\n",
       "      <td>1995-10-30</td>\n",
       "    </tr>\n",
       "    <tr>\n",
       "      <th>3</th>\n",
       "      <td>Jumanji</td>\n",
       "      <td>Adventure</td>\n",
       "      <td>6.9</td>\n",
       "      <td>17.015539</td>\n",
       "      <td>When siblings Judy and Peter discover an encha...</td>\n",
       "      <td>1995-12-15</td>\n",
       "    </tr>\n",
       "    <tr>\n",
       "      <th>21</th>\n",
       "      <td>Grumpier Old Men</td>\n",
       "      <td>Romance</td>\n",
       "      <td>6.5</td>\n",
       "      <td>11.712900</td>\n",
       "      <td>A family wedding reignites the ancient feud be...</td>\n",
       "      <td>1995-12-22</td>\n",
       "    </tr>\n",
       "    <tr>\n",
       "      <th>25</th>\n",
       "      <td>Waiting to Exhale</td>\n",
       "      <td>Comedy</td>\n",
       "      <td>6.1</td>\n",
       "      <td>3.859495</td>\n",
       "      <td>Cheated on, mistreated and stepped on, the wom...</td>\n",
       "      <td>1995-12-22</td>\n",
       "    </tr>\n",
       "    <tr>\n",
       "      <th>28</th>\n",
       "      <td>Father of the Bride Part II</td>\n",
       "      <td>Comedy</td>\n",
       "      <td>5.7</td>\n",
       "      <td>8.387519</td>\n",
       "      <td>Just when George Banks has recovered from his ...</td>\n",
       "      <td>1995-02-10</td>\n",
       "    </tr>\n",
       "    <tr>\n",
       "      <th>30</th>\n",
       "      <td>Heat</td>\n",
       "      <td>Action</td>\n",
       "      <td>7.7</td>\n",
       "      <td>17.924927</td>\n",
       "      <td>Obsessive master thief, Neil McCauley leads a ...</td>\n",
       "      <td>1995-12-15</td>\n",
       "    </tr>\n",
       "    <tr>\n",
       "      <th>54</th>\n",
       "      <td>Sabrina</td>\n",
       "      <td>Comedy</td>\n",
       "      <td>6.2</td>\n",
       "      <td>6.677277</td>\n",
       "      <td>An ugly duckling having undergone a remarkable...</td>\n",
       "      <td>1995-12-15</td>\n",
       "    </tr>\n",
       "    <tr>\n",
       "      <th>110</th>\n",
       "      <td>Tom and Huck</td>\n",
       "      <td>Action</td>\n",
       "      <td>5.4</td>\n",
       "      <td>2.561161</td>\n",
       "      <td>A mischievous young boy, Tom Sawyer, witnesses...</td>\n",
       "      <td>1995-12-22</td>\n",
       "    </tr>\n",
       "    <tr>\n",
       "      <th>118</th>\n",
       "      <td>Sudden Death</td>\n",
       "      <td>Action</td>\n",
       "      <td>5.5</td>\n",
       "      <td>5.231580</td>\n",
       "      <td>International action superstar Jean Claude Van...</td>\n",
       "      <td>1995-12-22</td>\n",
       "    </tr>\n",
       "    <tr>\n",
       "      <th>127</th>\n",
       "      <td>GoldenEye</td>\n",
       "      <td>Adventure</td>\n",
       "      <td>6.6</td>\n",
       "      <td>14.686036</td>\n",
       "      <td>James Bond must unmask the mysterious head of ...</td>\n",
       "      <td>1995-11-16</td>\n",
       "    </tr>\n",
       "  </tbody>\n",
       "</table>\n",
       "</div>"
      ],
      "text/plain": [
       "                           title genre_name  vote_average  popularity  \\\n",
       "0                      Toy Story  Animation           7.7   21.946943   \n",
       "3                        Jumanji  Adventure           6.9   17.015539   \n",
       "21              Grumpier Old Men    Romance           6.5   11.712900   \n",
       "25             Waiting to Exhale     Comedy           6.1    3.859495   \n",
       "28   Father of the Bride Part II     Comedy           5.7    8.387519   \n",
       "30                          Heat     Action           7.7   17.924927   \n",
       "54                       Sabrina     Comedy           6.2    6.677277   \n",
       "110                 Tom and Huck     Action           5.4    2.561161   \n",
       "118                 Sudden Death     Action           5.5    5.231580   \n",
       "127                    GoldenEye  Adventure           6.6   14.686036   \n",
       "\n",
       "                                              overview release_date  \n",
       "0    Led by Woody, Andy's toys live happily in his ...   1995-10-30  \n",
       "3    When siblings Judy and Peter discover an encha...   1995-12-15  \n",
       "21   A family wedding reignites the ancient feud be...   1995-12-22  \n",
       "25   Cheated on, mistreated and stepped on, the wom...   1995-12-22  \n",
       "28   Just when George Banks has recovered from his ...   1995-02-10  \n",
       "30   Obsessive master thief, Neil McCauley leads a ...   1995-12-15  \n",
       "54   An ugly duckling having undergone a remarkable...   1995-12-15  \n",
       "110  A mischievous young boy, Tom Sawyer, witnesses...   1995-12-22  \n",
       "118  International action superstar Jean Claude Van...   1995-12-22  \n",
       "127  James Bond must unmask the mysterious head of ...   1995-11-16  "
      ]
     },
     "execution_count": 11,
     "metadata": {},
     "output_type": "execute_result"
    }
   ],
   "source": [
    "# Se liminan duplicados basados en el título de la película\n",
    "model_df = model_df.drop_duplicates(subset=['title'], keep='first')\n",
    "\n",
    "model_df.head(10)"
   ]
  },
  {
   "cell_type": "code",
   "execution_count": 12,
   "metadata": {},
   "outputs": [
    {
     "data": {
      "text/plain": [
       "(42197, 6)"
      ]
     },
     "execution_count": 12,
     "metadata": {},
     "output_type": "execute_result"
    }
   ],
   "source": [
    "model_df.shape"
   ]
  },
  {
   "cell_type": "markdown",
   "metadata": {},
   "source": [
    "### **Preprocesamiento de texto de ``overview``**\n",
    "\n",
    "- Eliminación de símbolos de puntuación\n",
    "- Conversión de texto a minúsculas\n",
    "- Eliminación de stopwords "
   ]
  },
  {
   "cell_type": "code",
   "execution_count": 13,
   "metadata": {},
   "outputs": [
    {
     "name": "stdout",
     "output_type": "stream",
     "text": [
      "Led by Woody, Andy's toys live happily in his room until Andy's birthday brings Buzz Lightyear onto the scene. Afraid of losing his place in Andy's heart, Woody plots against Buzz. But when circumstances separate Buzz and Woody from their owner, the duo eventually learns to put aside their differences.\n"
     ]
    }
   ],
   "source": [
    "print(model_df['overview'].iloc[0])"
   ]
  },
  {
   "cell_type": "code",
   "execution_count": 14,
   "metadata": {},
   "outputs": [
    {
     "name": "stderr",
     "output_type": "stream",
     "text": [
      "[nltk_data] Downloading package stopwords to\n",
      "[nltk_data]     C:\\Users\\marce\\AppData\\Roaming\\nltk_data...\n",
      "[nltk_data]   Package stopwords is already up-to-date!\n"
     ]
    }
   ],
   "source": [
    "import re\n",
    "import string\n",
    "from nltk.corpus import stopwords\n",
    "import nltk\n",
    "\n",
    "nltk.download('stopwords')\n",
    "\n",
    "stop_words = set(stopwords.words('english'))\n",
    "\n",
    "def preprocess_text(text: str) -> str:\n",
    "    \"\"\"\n",
    "    Preprocesa un texto eliminando puntuación, convirtiendo a minúsculas y eliminando stopwords.\n",
    "    \n",
    "    Parámetros:\n",
    "    text (str): El texto original que se va a preprocesar.\n",
    "    \n",
    "    Retorna:\n",
    "    str: El texto preprocesado.\n",
    "    \"\"\"\n",
    "    # Se elimina puntuación y conversión a minúsculas\n",
    "    text = text.lower()\n",
    "    text = re.sub(f\"[{string.punctuation}]\", \"\", text)\n",
    "    \n",
    "    # Se remuven stopwords\n",
    "    text = \" \".join([word for word in text.split() if word not in stop_words])\n",
    "    \n",
    "    return text"
   ]
  },
  {
   "cell_type": "code",
   "execution_count": 15,
   "metadata": {},
   "outputs": [],
   "source": [
    "# Se aplica el preprocesamiento a la columna 'overview'\n",
    "model_df['overview'] = model_df['overview'].fillna(\"\").apply(preprocess_text)\n"
   ]
  },
  {
   "cell_type": "code",
   "execution_count": 16,
   "metadata": {},
   "outputs": [
    {
     "name": "stdout",
     "output_type": "stream",
     "text": [
      "led woody andys toys live happily room andys birthday brings buzz lightyear onto scene afraid losing place andys heart woody plots buzz circumstances separate buzz woody owner duo eventually learns put aside differences\n"
     ]
    }
   ],
   "source": [
    "# resultado con la primer fila\n",
    "print(model_df['overview'].iloc[0])"
   ]
  },
  {
   "cell_type": "markdown",
   "metadata": {},
   "source": [
    "### **Preprocesamiento para la Similitud del Coseno**\n",
    "#### Para la Similitud del Coseno se utiliza una muestra más reducida del dataset, tomando como criterio las distribuciones obtenidas en el EDA:\n",
    "- Se realiza un filtro por fecha, solo tomando las películas que fueron lanzadas desde la década del 90.\n",
    "- Se aplica un filtro teniendo en cuenta los votos (calificación promedio: 6)"
   ]
  },
  {
   "cell_type": "code",
   "execution_count": 17,
   "metadata": {},
   "outputs": [
    {
     "data": {
      "text/plain": [
       "(42197, 6)"
      ]
     },
     "execution_count": 17,
     "metadata": {},
     "output_type": "execute_result"
    }
   ],
   "source": [
    "model_df.shape"
   ]
  },
  {
   "cell_type": "code",
   "execution_count": 18,
   "metadata": {},
   "outputs": [
    {
     "data": {
      "text/plain": [
       "(27613, 6)"
      ]
     },
     "execution_count": 18,
     "metadata": {},
     "output_type": "execute_result"
    }
   ],
   "source": [
    "# películas posteriores a 1990\n",
    "model_df = model_df[model_df['release_date'] >= '1990-01-01']\n",
    "model_df.shape"
   ]
  },
  {
   "cell_type": "code",
   "execution_count": 19,
   "metadata": {},
   "outputs": [
    {
     "data": {
      "text/plain": [
       "(14434, 6)"
      ]
     },
     "execution_count": 19,
     "metadata": {},
     "output_type": "execute_result"
    }
   ],
   "source": [
    "# películas con un puntaje mayor o igual a 6\n",
    "model_df = model_df[model_df['vote_average'] >= 6]\n",
    "model_df.shape"
   ]
  },
  {
   "cell_type": "code",
   "execution_count": 20,
   "metadata": {},
   "outputs": [
    {
     "data": {
      "text/html": [
       "<div>\n",
       "<style scoped>\n",
       "    .dataframe tbody tr th:only-of-type {\n",
       "        vertical-align: middle;\n",
       "    }\n",
       "\n",
       "    .dataframe tbody tr th {\n",
       "        vertical-align: top;\n",
       "    }\n",
       "\n",
       "    .dataframe thead th {\n",
       "        text-align: right;\n",
       "    }\n",
       "</style>\n",
       "<table border=\"1\" class=\"dataframe\">\n",
       "  <thead>\n",
       "    <tr style=\"text-align: right;\">\n",
       "      <th></th>\n",
       "      <th>title</th>\n",
       "      <th>genre_name</th>\n",
       "      <th>vote_average</th>\n",
       "      <th>popularity</th>\n",
       "      <th>overview</th>\n",
       "      <th>release_date</th>\n",
       "    </tr>\n",
       "  </thead>\n",
       "  <tbody>\n",
       "    <tr>\n",
       "      <th>0</th>\n",
       "      <td>Toy Story</td>\n",
       "      <td>Animation</td>\n",
       "      <td>7.7</td>\n",
       "      <td>21.946943</td>\n",
       "      <td>led woody andys toys live happily room andys b...</td>\n",
       "      <td>1995-10-30</td>\n",
       "    </tr>\n",
       "    <tr>\n",
       "      <th>3</th>\n",
       "      <td>Jumanji</td>\n",
       "      <td>Adventure</td>\n",
       "      <td>6.9</td>\n",
       "      <td>17.015539</td>\n",
       "      <td>siblings judy peter discover enchanted board g...</td>\n",
       "      <td>1995-12-15</td>\n",
       "    </tr>\n",
       "    <tr>\n",
       "      <th>21</th>\n",
       "      <td>Grumpier Old Men</td>\n",
       "      <td>Romance</td>\n",
       "      <td>6.5</td>\n",
       "      <td>11.712900</td>\n",
       "      <td>family wedding reignites ancient feud nextdoor...</td>\n",
       "      <td>1995-12-22</td>\n",
       "    </tr>\n",
       "    <tr>\n",
       "      <th>25</th>\n",
       "      <td>Waiting to Exhale</td>\n",
       "      <td>Comedy</td>\n",
       "      <td>6.1</td>\n",
       "      <td>3.859495</td>\n",
       "      <td>cheated mistreated stepped women holding breat...</td>\n",
       "      <td>1995-12-22</td>\n",
       "    </tr>\n",
       "    <tr>\n",
       "      <th>30</th>\n",
       "      <td>Heat</td>\n",
       "      <td>Action</td>\n",
       "      <td>7.7</td>\n",
       "      <td>17.924927</td>\n",
       "      <td>obsessive master thief neil mccauley leads top...</td>\n",
       "      <td>1995-12-15</td>\n",
       "    </tr>\n",
       "  </tbody>\n",
       "</table>\n",
       "</div>"
      ],
      "text/plain": [
       "                title genre_name  vote_average  popularity  \\\n",
       "0           Toy Story  Animation           7.7   21.946943   \n",
       "3             Jumanji  Adventure           6.9   17.015539   \n",
       "21   Grumpier Old Men    Romance           6.5   11.712900   \n",
       "25  Waiting to Exhale     Comedy           6.1    3.859495   \n",
       "30               Heat     Action           7.7   17.924927   \n",
       "\n",
       "                                             overview release_date  \n",
       "0   led woody andys toys live happily room andys b...   1995-10-30  \n",
       "3   siblings judy peter discover enchanted board g...   1995-12-15  \n",
       "21  family wedding reignites ancient feud nextdoor...   1995-12-22  \n",
       "25  cheated mistreated stepped women holding breat...   1995-12-22  \n",
       "30  obsessive master thief neil mccauley leads top...   1995-12-15  "
      ]
     },
     "execution_count": 20,
     "metadata": {},
     "output_type": "execute_result"
    }
   ],
   "source": [
    "model_df.head(5)"
   ]
  },
  {
   "cell_type": "markdown",
   "metadata": {},
   "source": [
    "### **Vectorización con TF-IDF**\n",
    "- Se convierten los textos a una representación numérica para que capture la relevancia de las palabras y poder calcular similitudes entre las películas basándonos en sus descripciones.\n",
    "\n",
    "- Se reinician los índices del dataframe, ya que luego del filtrado quedan desajustados. Esto asegura que se encuentren alineados con la matriz TF-IDF y no ocasione inconvenientes."
   ]
  },
  {
   "cell_type": "code",
   "execution_count": 21,
   "metadata": {},
   "outputs": [],
   "source": [
    "# Reinicio de los índices \n",
    "model_df.reset_index(drop=True, inplace=True)"
   ]
  },
  {
   "cell_type": "code",
   "execution_count": 22,
   "metadata": {},
   "outputs": [
    {
     "data": {
      "text/html": [
       "<div>\n",
       "<style scoped>\n",
       "    .dataframe tbody tr th:only-of-type {\n",
       "        vertical-align: middle;\n",
       "    }\n",
       "\n",
       "    .dataframe tbody tr th {\n",
       "        vertical-align: top;\n",
       "    }\n",
       "\n",
       "    .dataframe thead th {\n",
       "        text-align: right;\n",
       "    }\n",
       "</style>\n",
       "<table border=\"1\" class=\"dataframe\">\n",
       "  <thead>\n",
       "    <tr style=\"text-align: right;\">\n",
       "      <th></th>\n",
       "      <th>title</th>\n",
       "      <th>genre_name</th>\n",
       "      <th>vote_average</th>\n",
       "      <th>popularity</th>\n",
       "      <th>overview</th>\n",
       "      <th>release_date</th>\n",
       "    </tr>\n",
       "  </thead>\n",
       "  <tbody>\n",
       "    <tr>\n",
       "      <th>0</th>\n",
       "      <td>Toy Story</td>\n",
       "      <td>Animation</td>\n",
       "      <td>7.7</td>\n",
       "      <td>21.946943</td>\n",
       "      <td>led woody andys toys live happily room andys b...</td>\n",
       "      <td>1995-10-30</td>\n",
       "    </tr>\n",
       "    <tr>\n",
       "      <th>1</th>\n",
       "      <td>Jumanji</td>\n",
       "      <td>Adventure</td>\n",
       "      <td>6.9</td>\n",
       "      <td>17.015539</td>\n",
       "      <td>siblings judy peter discover enchanted board g...</td>\n",
       "      <td>1995-12-15</td>\n",
       "    </tr>\n",
       "    <tr>\n",
       "      <th>2</th>\n",
       "      <td>Grumpier Old Men</td>\n",
       "      <td>Romance</td>\n",
       "      <td>6.5</td>\n",
       "      <td>11.712900</td>\n",
       "      <td>family wedding reignites ancient feud nextdoor...</td>\n",
       "      <td>1995-12-22</td>\n",
       "    </tr>\n",
       "    <tr>\n",
       "      <th>3</th>\n",
       "      <td>Waiting to Exhale</td>\n",
       "      <td>Comedy</td>\n",
       "      <td>6.1</td>\n",
       "      <td>3.859495</td>\n",
       "      <td>cheated mistreated stepped women holding breat...</td>\n",
       "      <td>1995-12-22</td>\n",
       "    </tr>\n",
       "    <tr>\n",
       "      <th>4</th>\n",
       "      <td>Heat</td>\n",
       "      <td>Action</td>\n",
       "      <td>7.7</td>\n",
       "      <td>17.924927</td>\n",
       "      <td>obsessive master thief neil mccauley leads top...</td>\n",
       "      <td>1995-12-15</td>\n",
       "    </tr>\n",
       "  </tbody>\n",
       "</table>\n",
       "</div>"
      ],
      "text/plain": [
       "               title genre_name  vote_average  popularity  \\\n",
       "0          Toy Story  Animation           7.7   21.946943   \n",
       "1            Jumanji  Adventure           6.9   17.015539   \n",
       "2   Grumpier Old Men    Romance           6.5   11.712900   \n",
       "3  Waiting to Exhale     Comedy           6.1    3.859495   \n",
       "4               Heat     Action           7.7   17.924927   \n",
       "\n",
       "                                            overview release_date  \n",
       "0  led woody andys toys live happily room andys b...   1995-10-30  \n",
       "1  siblings judy peter discover enchanted board g...   1995-12-15  \n",
       "2  family wedding reignites ancient feud nextdoor...   1995-12-22  \n",
       "3  cheated mistreated stepped women holding breat...   1995-12-22  \n",
       "4  obsessive master thief neil mccauley leads top...   1995-12-15  "
      ]
     },
     "execution_count": 22,
     "metadata": {},
     "output_type": "execute_result"
    }
   ],
   "source": [
    "model_df.head(5)"
   ]
  },
  {
   "cell_type": "code",
   "execution_count": 23,
   "metadata": {},
   "outputs": [
    {
     "name": "stdout",
     "output_type": "stream",
     "text": [
      "(14434, 5000)\n"
     ]
    }
   ],
   "source": [
    "from sklearn.feature_extraction.text import TfidfVectorizer\n",
    "\n",
    "# Conservamos solo las 5000 palabras mas frecuentes\n",
    "tfidf_vectorizer = TfidfVectorizer(max_features=5000)\n",
    "\n",
    "# Se aplica el vectorizador a la columna 'overview'\n",
    "tfidf_matrix = tfidf_vectorizer.fit_transform(model_df['overview'])\n",
    "\n",
    "print(tfidf_matrix.shape)\n"
   ]
  },
  {
   "cell_type": "markdown",
   "metadata": {},
   "source": [
    "- Se comprueba que estén presentes palabras claves en la matriz TF-IDF"
   ]
  },
  {
   "cell_type": "code",
   "execution_count": 24,
   "metadata": {},
   "outputs": [
    {
     "name": "stdout",
     "output_type": "stream",
     "text": [
      "'love' está presente en la matriz TF-IDF.\n",
      "'war' está presente en la matriz TF-IDF.\n"
     ]
    }
   ],
   "source": [
    "# Se obtienen las palabras en la matriz \n",
    "palabras_tfidf = tfidf_vectorizer.get_feature_names_out()\n",
    "\n",
    "# Palabras a buscar\n",
    "palabras_clave = ['love', 'war']\n",
    "\n",
    "# Comprobación\n",
    "for palabra in palabras_clave:\n",
    "    if palabra in palabras_tfidf:\n",
    "        print(f\"'{palabra}' está presente en la matriz TF-IDF.\")\n",
    "    else:\n",
    "        print(f\"'{palabra}' NO está presente en la matriz TF-IDF.\")\n"
   ]
  },
  {
   "cell_type": "markdown",
   "metadata": {},
   "source": [
    "- Se comprueban las palabras más relevantes para la película Toy Story "
   ]
  },
  {
   "cell_type": "code",
   "execution_count": 25,
   "metadata": {},
   "outputs": [
    {
     "name": "stdout",
     "output_type": "stream",
     "text": [
      "[('woody', np.float64(0.6238574127324098)), ('toys', np.float64(0.20481424788208774)), ('aside', np.float64(0.1971492178573003)), ('plots', np.float64(0.19304201166559232)), ('afraid', np.float64(0.18948418783251286)), ('differences', np.float64(0.18099927464440205)), ('happily', np.float64(0.18040050561656276)), ('onto', np.float64(0.1750538154571675)), ('separate', np.float64(0.1750538154571675)), ('duo', np.float64(0.1745737285873019))]\n"
     ]
    }
   ],
   "source": [
    "# Película de ejemplo\n",
    "pelicula_ejemplo = model_df[model_df['title'] == 'Toy Story'].index[0]\n",
    "\n",
    "# Se extraen las palabras relevantes y sus pesos en la matriz\n",
    "palabras_relevantes = tfidf_matrix[pelicula_ejemplo].toarray()[0]\n",
    "vocabulario = tfidf_vectorizer.get_feature_names_out()\n",
    "\n",
    "# El resultado lo vemos en un diccionario\n",
    "palabras_pesos = dict(zip(vocabulario, palabras_relevantes))\n",
    "\n",
    "# Se muestran las palabras más relevantes de la película\n",
    "palabras_mas_relevantes = {k: v for k, v in palabras_pesos.items() if v > 0}\n",
    "print(sorted(palabras_mas_relevantes.items(), key=lambda x: x[1], reverse=True)[:10])\n",
    "\n"
   ]
  },
  {
   "cell_type": "markdown",
   "metadata": {},
   "source": [
    "### **Cálculo de la Similitud del Coseno**"
   ]
  },
  {
   "cell_type": "code",
   "execution_count": 30,
   "metadata": {},
   "outputs": [
    {
     "name": "stdout",
     "output_type": "stream",
     "text": [
      "Dimensiones: (14434, 14434)\n"
     ]
    }
   ],
   "source": [
    "from sklearn.metrics.pairwise import cosine_similarity\n",
    "\n",
    "# Se calcula la similitud del coseno en la matriz TF-IDF\n",
    "sim_coseno = cosine_similarity(tfidf_matrix, tfidf_matrix)\n",
    "\n",
    "print(f\"Dimensiones: {sim_coseno.shape}\")\n"
   ]
  },
  {
   "cell_type": "markdown",
   "metadata": {},
   "source": [
    "### **Función de Recomendación**"
   ]
  },
  {
   "cell_type": "code",
   "execution_count": 27,
   "metadata": {},
   "outputs": [],
   "source": [
    "from sklearn.metrics.pairwise import cosine_similarity\n",
    "\n",
    "def recomendacion(titulo: str, num_recomendaciones: int = 5) -> list:\n",
    "    \"\"\"\n",
    "    Dada una película, devuelve una lista con los títulos de las películas más similares.\n",
    "\n",
    "    Parámetros:\n",
    "    - titulo (str): El título de la película para la cual se quieren recomendaciones.\n",
    "    - num_recomendaciones (int): Número de recomendaciones a devolver. Por defecto es 5.\n",
    "\n",
    "    Retorna:\n",
    "    - list: Lista con los títulos de las películas recomendadas.\n",
    "    \"\"\"\n",
    "    \n",
    "    # Se verifica si está disponible la película\n",
    "    if titulo not in model_df['title'].values:\n",
    "        return [\"El título no está en el dataset.\"]\n",
    "    \n",
    "    # Se obtiene el índice de la película \n",
    "    idx = model_df[model_df['title'] == titulo].index[0]\n",
    "    \n",
    "    # Se hace el calculo del coseno entre la película y todas las demás\n",
    "    sim_scores = list(enumerate(sim_coseno[idx]))\n",
    "    \n",
    "    # Se ordenan las películas en base a la similitud (de mayor a menor)\n",
    "    sim_scores = sorted(sim_scores, key=lambda x: x[1], reverse=True)\n",
    "    \n",
    "    # Se obtiene los índices de las películas más similares, excluyendo la película original\n",
    "    sim_scores = sim_scores[1:num_recomendaciones + 1]\n",
    "    \n",
    "    # Se obtiene las películas más similares\n",
    "    movie_indices = [i[0] for i in sim_scores]\n",
    "    \n",
    "    return model_df['title'].iloc[movie_indices].tolist()"
   ]
  },
  {
   "cell_type": "code",
   "execution_count": 28,
   "metadata": {},
   "outputs": [
    {
     "name": "stdout",
     "output_type": "stream",
     "text": [
      "['The Amazing Spider-Man', 'The Amazing Spider-Man 2', 'Spider-Man 2', 'Kick-Ass', 'Austin High']\n"
     ]
    }
   ],
   "source": [
    "print(recomendacion('Spider-Man'))"
   ]
  },
  {
   "cell_type": "markdown",
   "metadata": {},
   "source": [
    "### **EXPORTACIÓN DE DATASET**\n",
    "\n",
    "##### Se exportan los datos filtrados por fecha (posterior a 1990) y puntuación (promedio de votos mayor o igual a 6). Este dataset contiene las columnas: ``title``, ``genre_name``, ``vote_average``, ``popularity``, ``overview``, y ``release_date``.\n",
    "\n",
    "\n",
    "\n",
    "##### También se exporta la matriz TF-IDF y la matriz de Similitud. De esta forma se evita que la API la vuelva a generar, y solamente cumpla su responsabilidad principal: servir los datos."
   ]
  },
  {
   "cell_type": "code",
   "execution_count": 250,
   "metadata": {},
   "outputs": [
    {
     "data": {
      "text/html": [
       "<div>\n",
       "<style scoped>\n",
       "    .dataframe tbody tr th:only-of-type {\n",
       "        vertical-align: middle;\n",
       "    }\n",
       "\n",
       "    .dataframe tbody tr th {\n",
       "        vertical-align: top;\n",
       "    }\n",
       "\n",
       "    .dataframe thead th {\n",
       "        text-align: right;\n",
       "    }\n",
       "</style>\n",
       "<table border=\"1\" class=\"dataframe\">\n",
       "  <thead>\n",
       "    <tr style=\"text-align: right;\">\n",
       "      <th></th>\n",
       "      <th>title</th>\n",
       "      <th>genre_name</th>\n",
       "      <th>vote_average</th>\n",
       "      <th>popularity</th>\n",
       "      <th>overview</th>\n",
       "      <th>release_date</th>\n",
       "    </tr>\n",
       "  </thead>\n",
       "  <tbody>\n",
       "    <tr>\n",
       "      <th>0</th>\n",
       "      <td>Toy Story</td>\n",
       "      <td>Animation</td>\n",
       "      <td>7.7</td>\n",
       "      <td>21.946943</td>\n",
       "      <td>led woody andys toys live happily room andys b...</td>\n",
       "      <td>1995-10-30</td>\n",
       "    </tr>\n",
       "    <tr>\n",
       "      <th>1</th>\n",
       "      <td>Jumanji</td>\n",
       "      <td>Adventure</td>\n",
       "      <td>6.9</td>\n",
       "      <td>17.015539</td>\n",
       "      <td>siblings judy peter discover enchanted board g...</td>\n",
       "      <td>1995-12-15</td>\n",
       "    </tr>\n",
       "    <tr>\n",
       "      <th>2</th>\n",
       "      <td>Grumpier Old Men</td>\n",
       "      <td>Romance</td>\n",
       "      <td>6.5</td>\n",
       "      <td>11.712900</td>\n",
       "      <td>family wedding reignites ancient feud nextdoor...</td>\n",
       "      <td>1995-12-22</td>\n",
       "    </tr>\n",
       "    <tr>\n",
       "      <th>3</th>\n",
       "      <td>Waiting to Exhale</td>\n",
       "      <td>Comedy</td>\n",
       "      <td>6.1</td>\n",
       "      <td>3.859495</td>\n",
       "      <td>cheated mistreated stepped women holding breat...</td>\n",
       "      <td>1995-12-22</td>\n",
       "    </tr>\n",
       "    <tr>\n",
       "      <th>4</th>\n",
       "      <td>Heat</td>\n",
       "      <td>Action</td>\n",
       "      <td>7.7</td>\n",
       "      <td>17.924927</td>\n",
       "      <td>obsessive master thief neil mccauley leads top...</td>\n",
       "      <td>1995-12-15</td>\n",
       "    </tr>\n",
       "  </tbody>\n",
       "</table>\n",
       "</div>"
      ],
      "text/plain": [
       "               title genre_name  vote_average  popularity  \\\n",
       "0          Toy Story  Animation           7.7   21.946943   \n",
       "1            Jumanji  Adventure           6.9   17.015539   \n",
       "2   Grumpier Old Men    Romance           6.5   11.712900   \n",
       "3  Waiting to Exhale     Comedy           6.1    3.859495   \n",
       "4               Heat     Action           7.7   17.924927   \n",
       "\n",
       "                                            overview release_date  \n",
       "0  led woody andys toys live happily room andys b...   1995-10-30  \n",
       "1  siblings judy peter discover enchanted board g...   1995-12-15  \n",
       "2  family wedding reignites ancient feud nextdoor...   1995-12-22  \n",
       "3  cheated mistreated stepped women holding breat...   1995-12-22  \n",
       "4  obsessive master thief neil mccauley leads top...   1995-12-15  "
      ]
     },
     "execution_count": 250,
     "metadata": {},
     "output_type": "execute_result"
    }
   ],
   "source": [
    "model_df.head(5)"
   ]
  },
  {
   "cell_type": "markdown",
   "metadata": {},
   "source": [
    "- Se exporta el dataframe utilizado para la implemetación del modelo en formato parquet"
   ]
  },
  {
   "cell_type": "code",
   "execution_count": 251,
   "metadata": {},
   "outputs": [],
   "source": [
    "# Se guarda el DataFrame en formato parquet\n",
    "model_df.to_parquet('model_ml.parquet', index=False)\n"
   ]
  },
  {
   "cell_type": "markdown",
   "metadata": {},
   "source": [
    "- Se exporta la matriz TF-IDF en un archicvo .npz"
   ]
  },
  {
   "cell_type": "code",
   "execution_count": 29,
   "metadata": {},
   "outputs": [],
   "source": [
    "from scipy import sparse"
   ]
  },
  {
   "cell_type": "code",
   "execution_count": 254,
   "metadata": {},
   "outputs": [],
   "source": [
    "# Se guarda la matriz TF-IDF en un archivo .npz\n",
    "sparse.save_npz('tfidf_matrix.npz', tfidf_matrix)"
   ]
  },
  {
   "cell_type": "markdown",
   "metadata": {},
   "source": [
    "- Se exporta el vectorizador utilizado"
   ]
  },
  {
   "cell_type": "code",
   "execution_count": 255,
   "metadata": {},
   "outputs": [],
   "source": [
    "import pickle"
   ]
  },
  {
   "cell_type": "code",
   "execution_count": 256,
   "metadata": {},
   "outputs": [],
   "source": [
    "# Se guarda el vectorizador en un archivo .pkl\n",
    "with open('tfidf_vectorizer.pkl', 'wb') as f:\n",
    "    pickle.dump(tfidf_vectorizer, f)"
   ]
  },
  {
   "cell_type": "markdown",
   "metadata": {},
   "source": [
    "- Se exporta la matriz de similitud "
   ]
  },
  {
   "cell_type": "code",
   "execution_count": 32,
   "metadata": {},
   "outputs": [],
   "source": [
    "import numpy as np"
   ]
  },
  {
   "cell_type": "code",
   "execution_count": 34,
   "metadata": {},
   "outputs": [],
   "source": [
    "# Se guarda la matriz de similitud en un archivo .npy (para matrices densas)\n",
    "np.save('cosine_sim.npy', sim_coseno)"
   ]
  }
 ],
 "metadata": {
  "kernelspec": {
   "display_name": "proyectOne",
   "language": "python",
   "name": "python3"
  },
  "language_info": {
   "codemirror_mode": {
    "name": "ipython",
    "version": 3
   },
   "file_extension": ".py",
   "mimetype": "text/x-python",
   "name": "python",
   "nbconvert_exporter": "python",
   "pygments_lexer": "ipython3",
   "version": "3.10.11"
  }
 },
 "nbformat": 4,
 "nbformat_minor": 2
}
