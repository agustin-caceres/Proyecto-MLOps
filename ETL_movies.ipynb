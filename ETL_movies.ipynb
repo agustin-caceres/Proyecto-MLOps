{
 "cells": [
  {
   "cell_type": "markdown",
   "metadata": {},
   "source": [
    "### **PRIMERO SE REALIZA EL POCESO ETL PARA EL DATASET 'movies_dataset.csv**"
   ]
  },
  {
   "cell_type": "code",
   "execution_count": 75,
   "metadata": {},
   "outputs": [],
   "source": [
    "import pandas as pd"
   ]
  },
  {
   "cell_type": "markdown",
   "metadata": {},
   "source": [
    "##### **CARGA DE LOS DATOS**"
   ]
  },
  {
   "cell_type": "code",
   "execution_count": 76,
   "metadata": {},
   "outputs": [
    {
     "name": "stderr",
     "output_type": "stream",
     "text": [
      "C:\\Users\\marce\\AppData\\Local\\Temp\\ipykernel_36832\\259364485.py:1: DtypeWarning: Columns (10) have mixed types. Specify dtype option on import or set low_memory=False.\n",
      "  movies_df = pd.read_csv('C:\\DYNAMO\\DATA SCIENCE\\Labs-MLOps\\Dataset\\movies_dataset.csv')\n"
     ]
    },
    {
     "data": {
      "text/html": [
       "<div>\n",
       "<style scoped>\n",
       "    .dataframe tbody tr th:only-of-type {\n",
       "        vertical-align: middle;\n",
       "    }\n",
       "\n",
       "    .dataframe tbody tr th {\n",
       "        vertical-align: top;\n",
       "    }\n",
       "\n",
       "    .dataframe thead th {\n",
       "        text-align: right;\n",
       "    }\n",
       "</style>\n",
       "<table border=\"1\" class=\"dataframe\">\n",
       "  <thead>\n",
       "    <tr style=\"text-align: right;\">\n",
       "      <th></th>\n",
       "      <th>adult</th>\n",
       "      <th>belongs_to_collection</th>\n",
       "      <th>budget</th>\n",
       "      <th>genres</th>\n",
       "      <th>homepage</th>\n",
       "      <th>id</th>\n",
       "      <th>imdb_id</th>\n",
       "      <th>original_language</th>\n",
       "      <th>original_title</th>\n",
       "      <th>overview</th>\n",
       "      <th>...</th>\n",
       "      <th>release_date</th>\n",
       "      <th>revenue</th>\n",
       "      <th>runtime</th>\n",
       "      <th>spoken_languages</th>\n",
       "      <th>status</th>\n",
       "      <th>tagline</th>\n",
       "      <th>title</th>\n",
       "      <th>video</th>\n",
       "      <th>vote_average</th>\n",
       "      <th>vote_count</th>\n",
       "    </tr>\n",
       "  </thead>\n",
       "  <tbody>\n",
       "    <tr>\n",
       "      <th>0</th>\n",
       "      <td>False</td>\n",
       "      <td>{'id': 10194, 'name': 'Toy Story Collection', ...</td>\n",
       "      <td>30000000</td>\n",
       "      <td>[{'id': 16, 'name': 'Animation'}, {'id': 35, '...</td>\n",
       "      <td>http://toystory.disney.com/toy-story</td>\n",
       "      <td>862</td>\n",
       "      <td>tt0114709</td>\n",
       "      <td>en</td>\n",
       "      <td>Toy Story</td>\n",
       "      <td>Led by Woody, Andy's toys live happily in his ...</td>\n",
       "      <td>...</td>\n",
       "      <td>1995-10-30</td>\n",
       "      <td>373554033.0</td>\n",
       "      <td>81.0</td>\n",
       "      <td>[{'iso_639_1': 'en', 'name': 'English'}]</td>\n",
       "      <td>Released</td>\n",
       "      <td>NaN</td>\n",
       "      <td>Toy Story</td>\n",
       "      <td>False</td>\n",
       "      <td>7.7</td>\n",
       "      <td>5415.0</td>\n",
       "    </tr>\n",
       "    <tr>\n",
       "      <th>1</th>\n",
       "      <td>False</td>\n",
       "      <td>NaN</td>\n",
       "      <td>65000000</td>\n",
       "      <td>[{'id': 12, 'name': 'Adventure'}, {'id': 14, '...</td>\n",
       "      <td>NaN</td>\n",
       "      <td>8844</td>\n",
       "      <td>tt0113497</td>\n",
       "      <td>en</td>\n",
       "      <td>Jumanji</td>\n",
       "      <td>When siblings Judy and Peter discover an encha...</td>\n",
       "      <td>...</td>\n",
       "      <td>1995-12-15</td>\n",
       "      <td>262797249.0</td>\n",
       "      <td>104.0</td>\n",
       "      <td>[{'iso_639_1': 'en', 'name': 'English'}, {'iso...</td>\n",
       "      <td>Released</td>\n",
       "      <td>Roll the dice and unleash the excitement!</td>\n",
       "      <td>Jumanji</td>\n",
       "      <td>False</td>\n",
       "      <td>6.9</td>\n",
       "      <td>2413.0</td>\n",
       "    </tr>\n",
       "    <tr>\n",
       "      <th>2</th>\n",
       "      <td>False</td>\n",
       "      <td>{'id': 119050, 'name': 'Grumpy Old Men Collect...</td>\n",
       "      <td>0</td>\n",
       "      <td>[{'id': 10749, 'name': 'Romance'}, {'id': 35, ...</td>\n",
       "      <td>NaN</td>\n",
       "      <td>15602</td>\n",
       "      <td>tt0113228</td>\n",
       "      <td>en</td>\n",
       "      <td>Grumpier Old Men</td>\n",
       "      <td>A family wedding reignites the ancient feud be...</td>\n",
       "      <td>...</td>\n",
       "      <td>1995-12-22</td>\n",
       "      <td>0.0</td>\n",
       "      <td>101.0</td>\n",
       "      <td>[{'iso_639_1': 'en', 'name': 'English'}]</td>\n",
       "      <td>Released</td>\n",
       "      <td>Still Yelling. Still Fighting. Still Ready for...</td>\n",
       "      <td>Grumpier Old Men</td>\n",
       "      <td>False</td>\n",
       "      <td>6.5</td>\n",
       "      <td>92.0</td>\n",
       "    </tr>\n",
       "  </tbody>\n",
       "</table>\n",
       "<p>3 rows × 24 columns</p>\n",
       "</div>"
      ],
      "text/plain": [
       "   adult                              belongs_to_collection    budget  \\\n",
       "0  False  {'id': 10194, 'name': 'Toy Story Collection', ...  30000000   \n",
       "1  False                                                NaN  65000000   \n",
       "2  False  {'id': 119050, 'name': 'Grumpy Old Men Collect...         0   \n",
       "\n",
       "                                              genres  \\\n",
       "0  [{'id': 16, 'name': 'Animation'}, {'id': 35, '...   \n",
       "1  [{'id': 12, 'name': 'Adventure'}, {'id': 14, '...   \n",
       "2  [{'id': 10749, 'name': 'Romance'}, {'id': 35, ...   \n",
       "\n",
       "                               homepage     id    imdb_id original_language  \\\n",
       "0  http://toystory.disney.com/toy-story    862  tt0114709                en   \n",
       "1                                   NaN   8844  tt0113497                en   \n",
       "2                                   NaN  15602  tt0113228                en   \n",
       "\n",
       "     original_title                                           overview  ...  \\\n",
       "0         Toy Story  Led by Woody, Andy's toys live happily in his ...  ...   \n",
       "1           Jumanji  When siblings Judy and Peter discover an encha...  ...   \n",
       "2  Grumpier Old Men  A family wedding reignites the ancient feud be...  ...   \n",
       "\n",
       "  release_date      revenue runtime  \\\n",
       "0   1995-10-30  373554033.0    81.0   \n",
       "1   1995-12-15  262797249.0   104.0   \n",
       "2   1995-12-22          0.0   101.0   \n",
       "\n",
       "                                    spoken_languages    status  \\\n",
       "0           [{'iso_639_1': 'en', 'name': 'English'}]  Released   \n",
       "1  [{'iso_639_1': 'en', 'name': 'English'}, {'iso...  Released   \n",
       "2           [{'iso_639_1': 'en', 'name': 'English'}]  Released   \n",
       "\n",
       "                                             tagline             title  video  \\\n",
       "0                                                NaN         Toy Story  False   \n",
       "1          Roll the dice and unleash the excitement!           Jumanji  False   \n",
       "2  Still Yelling. Still Fighting. Still Ready for...  Grumpier Old Men  False   \n",
       "\n",
       "  vote_average vote_count  \n",
       "0          7.7     5415.0  \n",
       "1          6.9     2413.0  \n",
       "2          6.5       92.0  \n",
       "\n",
       "[3 rows x 24 columns]"
      ]
     },
     "execution_count": 76,
     "metadata": {},
     "output_type": "execute_result"
    }
   ],
   "source": [
    "movies_df = pd.read_csv('C:\\DYNAMO\\DATA SCIENCE\\Labs-MLOps\\Dataset\\movies_dataset.csv')\n",
    "movies_df.head(3)"
   ]
  },
  {
   "cell_type": "markdown",
   "metadata": {},
   "source": [
    "#### INSEPCCIÓN INICIAL"
   ]
  },
  {
   "cell_type": "code",
   "execution_count": 77,
   "metadata": {},
   "outputs": [
    {
     "name": "stdout",
     "output_type": "stream",
     "text": [
      "<class 'pandas.core.frame.DataFrame'>\n",
      "RangeIndex: 45466 entries, 0 to 45465\n",
      "Data columns (total 24 columns):\n",
      " #   Column                 Non-Null Count  Dtype  \n",
      "---  ------                 --------------  -----  \n",
      " 0   adult                  45466 non-null  object \n",
      " 1   belongs_to_collection  4494 non-null   object \n",
      " 2   budget                 45466 non-null  object \n",
      " 3   genres                 45466 non-null  object \n",
      " 4   homepage               7782 non-null   object \n",
      " 5   id                     45466 non-null  object \n",
      " 6   imdb_id                45449 non-null  object \n",
      " 7   original_language      45455 non-null  object \n",
      " 8   original_title         45466 non-null  object \n",
      " 9   overview               44512 non-null  object \n",
      " 10  popularity             45461 non-null  object \n",
      " 11  poster_path            45080 non-null  object \n",
      " 12  production_companies   45463 non-null  object \n",
      " 13  production_countries   45463 non-null  object \n",
      " 14  release_date           45379 non-null  object \n",
      " 15  revenue                45460 non-null  float64\n",
      " 16  runtime                45203 non-null  float64\n",
      " 17  spoken_languages       45460 non-null  object \n",
      " 18  status                 45379 non-null  object \n",
      " 19  tagline                20412 non-null  object \n",
      " 20  title                  45460 non-null  object \n",
      " 21  video                  45460 non-null  object \n",
      " 22  vote_average           45460 non-null  float64\n",
      " 23  vote_count             45460 non-null  float64\n",
      "dtypes: float64(4), object(20)\n",
      "memory usage: 8.3+ MB\n"
     ]
    }
   ],
   "source": [
    "movies_df.info()"
   ]
  },
  {
   "cell_type": "code",
   "execution_count": 78,
   "metadata": {},
   "outputs": [
    {
     "data": {
      "text/plain": [
       "adult                        0\n",
       "belongs_to_collection    40972\n",
       "budget                       0\n",
       "genres                       0\n",
       "homepage                 37684\n",
       "id                           0\n",
       "imdb_id                     17\n",
       "original_language           11\n",
       "original_title               0\n",
       "overview                   954\n",
       "popularity                   5\n",
       "poster_path                386\n",
       "production_companies         3\n",
       "production_countries         3\n",
       "release_date                87\n",
       "revenue                      6\n",
       "runtime                    263\n",
       "spoken_languages             6\n",
       "status                      87\n",
       "tagline                  25054\n",
       "title                        6\n",
       "video                        6\n",
       "vote_average                 6\n",
       "vote_count                   6\n",
       "dtype: int64"
      ]
     },
     "execution_count": 78,
     "metadata": {},
     "output_type": "execute_result"
    }
   ],
   "source": [
    "movies_df.isnull().sum()"
   ]
  },
  {
   "cell_type": "markdown",
   "metadata": {},
   "source": [
    "##### **DESANIDAR CAMPOS ANIDADOS**"
   ]
  },
  {
   "cell_type": "markdown",
   "metadata": {},
   "source": [
    "Revisaremos el tipo de dato de cada columna anidada antes de aplicar la transformación ya que pueden venir como diccionarios o en cadena de texto. Teniendo esto presente, el proceso para desanidarlos en cuyo caso será diferente.\n",
    "\n",
    "También manejaremos los valores null para evitar problemas en el desanidado."
   ]
  },
  {
   "cell_type": "code",
   "execution_count": 79,
   "metadata": {},
   "outputs": [
    {
     "name": "stdout",
     "output_type": "stream",
     "text": [
      "Columna: belongs_to_collection\n",
      "belongs_to_collection\n",
      "<class 'float'>    40972\n",
      "<class 'str'>       4494\n",
      "Name: count, dtype: int64\n",
      "\n",
      "\n",
      "Columna: genres\n",
      "genres\n",
      "<class 'str'>    45466\n",
      "Name: count, dtype: int64\n",
      "\n",
      "\n",
      "Columna: production_companies\n",
      "production_companies\n",
      "<class 'str'>      45463\n",
      "<class 'float'>        3\n",
      "Name: count, dtype: int64\n",
      "\n",
      "\n",
      "Columna: production_countries\n",
      "production_countries\n",
      "<class 'str'>      45463\n",
      "<class 'float'>        3\n",
      "Name: count, dtype: int64\n",
      "\n",
      "\n",
      "Columna: spoken_languages\n",
      "spoken_languages\n",
      "<class 'str'>      45460\n",
      "<class 'float'>        6\n",
      "Name: count, dtype: int64\n",
      "\n",
      "\n"
     ]
    }
   ],
   "source": [
    "# Verificamos el type de las columnas anidadas\n",
    "anidadas = ['belongs_to_collection', 'genres', 'production_companies', 'production_countries', 'spoken_languages']\n",
    "\n",
    "for columna in anidadas:\n",
    "    print(f\"Columna: {columna}\")\n",
    "    print(movies_df[columna].apply(type).value_counts())\n",
    "    print(\"\\n\")\n"
   ]
  },
  {
   "cell_type": "markdown",
   "metadata": {},
   "source": [
    "#### Manejo de nulls y desanidado de `'belongs_to_collection'`"
   ]
  },
  {
   "cell_type": "markdown",
   "metadata": {},
   "source": [
    "Hay ciertos valores que NO serán útiles, podría modificar el código para desanidar los campos relevantes desde el principio, evitando así la creación de columnas innecesarias.\n",
    "\n",
    "Sin embargo, voy a optar por un desanidado completo para tener la flexibilidad de poder revisar todo por si acaso, luego eliminaré columnas innecesarias "
   ]
  },
  {
   "cell_type": "code",
   "execution_count": 80,
   "metadata": {},
   "outputs": [],
   "source": [
    "import ast\n",
    "\n",
    "def convertir_a_diccionario(df: pd.DataFrame, columna: str) -> pd.DataFrame:\n",
    "    \"\"\"\n",
    "    Convierte cadenas en formato de diccionarios o listas en objetos Python reales usando ast.literal_eval.\n",
    "    \n",
    "    Esta función toma una columna de un DataFrame y convierte cualquier valor que sea una cadena en un diccionario\n",
    "    utilizando la función ast.literal_eval, que evalúa las cadenas como expresiones literales de Python.\n",
    "    Si el valor es nulo (NaN), lo deja como está o lo convierte en un diccionario vacío.\n",
    "    \n",
    "    Parámetros:\n",
    "    ----------\n",
    "    df : pandas.DataFrame\n",
    "        El DataFrame que contiene la columna que será procesada.\n",
    "    \n",
    "    columna : str\n",
    "        El nombre de la columna en la que se aplicará la conversión.\n",
    "    \n",
    "    Retorna:\n",
    "    -------\n",
    "    pandas.DataFrame\n",
    "        El DataFrame original con la columna especificada convertida a diccionarios.\n",
    "    \n",
    "    Ejemplo de uso:\n",
    "    ---------------\n",
    "    df = convertir_a_diccionario(df, 'belongs_to_collection')\n",
    "    \"\"\"\n",
    "    df[columna] = df[columna].apply(\n",
    "        lambda x: ast.literal_eval(x) if isinstance(x, str) else ({} if pd.isnull(x) else x)\n",
    "    )\n",
    "    return df"
   ]
  },
  {
   "cell_type": "code",
   "execution_count": 81,
   "metadata": {},
   "outputs": [
    {
     "name": "stdout",
     "output_type": "stream",
     "text": [
      "0     {'id': 10194, 'name': 'Toy Story Collection', ...\n",
      "1                                                    {}\n",
      "2     {'id': 119050, 'name': 'Grumpy Old Men Collect...\n",
      "3                                                    {}\n",
      "4     {'id': 96871, 'name': 'Father of the Bride Col...\n",
      "5                                                    {}\n",
      "6                                                    {}\n",
      "7                                                    {}\n",
      "8                                                    {}\n",
      "9     {'id': 645, 'name': 'James Bond Collection', '...\n",
      "10                                                   {}\n",
      "11                                                   {}\n",
      "12    {'id': 117693, 'name': 'Balto Collection', 'po...\n",
      "13                                                   {}\n",
      "14                                                   {}\n",
      "15                                                   {}\n",
      "16                                                   {}\n",
      "17                                                   {}\n",
      "18    {'id': 3167, 'name': 'Ace Ventura Collection',...\n",
      "19                                                   {}\n",
      "Name: belongs_to_collection, dtype: object\n"
     ]
    }
   ],
   "source": [
    "# Se aplica la función a la columna 'belongs_to_collection' y se verifica el resultado\n",
    "movies_df = convertir_a_diccionario(movies_df, 'belongs_to_collection')\n",
    "print(movies_df['belongs_to_collection'].head(20))"
   ]
  },
  {
   "cell_type": "code",
   "execution_count": 82,
   "metadata": {},
   "outputs": [],
   "source": [
    "def desanidar_columnas(df: pd.DataFrame, columna: str, prefijo: str) -> pd.DataFrame:\n",
    "    \"\"\"\n",
    "    Desanida una columna que contiene diccionarios y extrae sus claves como nuevas columnas.\n",
    "    \n",
    "    Parámetros:\n",
    "    df (pd.DataFrame): El DataFrame que contiene los datos.\n",
    "    columna (str): El nombre de la columna que se va a desanidar.\n",
    "    prefijo (str): El prefijo específico para las nuevas columnas desanidadas.\n",
    "    \n",
    "    Retorna:\n",
    "    pd.DataFrame: El DataFrame con las nuevas columnas desanidadas.\n",
    "    \"\"\"\n",
    "    # Desanidar la columna que contiene diccionarios\n",
    "    desanidado = pd.json_normalize(df[columna])\n",
    "    \n",
    "    # Renombrar las columnas desanidadas usando el prefijo específico\n",
    "    desanidado.columns = [f\"{prefijo}_{col}\" for col in desanidado.columns]\n",
    "    \n",
    "    # Concatenar las nuevas columnas al DataFrame original\n",
    "    df = pd.concat([df, desanidado], axis=1)\n",
    "    \n",
    "    return df"
   ]
  },
  {
   "cell_type": "code",
   "execution_count": 83,
   "metadata": {},
   "outputs": [],
   "source": [
    "# Desanidar la columna 'belongs_to_collection' con prefijo 'collection'\n",
    "movies_df = desanidar_columnas(movies_df, 'belongs_to_collection', prefijo='collection')"
   ]
  },
  {
   "cell_type": "code",
   "execution_count": 84,
   "metadata": {},
   "outputs": [
    {
     "name": "stdout",
     "output_type": "stream",
     "text": [
      "   collection_id                 collection_name  \\\n",
      "0        10194.0            Toy Story Collection   \n",
      "1            NaN                             NaN   \n",
      "2       119050.0       Grumpy Old Men Collection   \n",
      "3            NaN                             NaN   \n",
      "4        96871.0  Father of the Bride Collection   \n",
      "\n",
      "             collection_poster_path  \n",
      "0  /7G9915LfUQ2lVfwMEEhDsn3kT4B.jpg  \n",
      "1                               NaN  \n",
      "2  /nLvUdqgPgm3F85NMCii9gVFUcet.jpg  \n",
      "3                               NaN  \n",
      "4  /nts4iOmNnq7GNicycMJ9pSAn204.jpg  \n"
     ]
    }
   ],
   "source": [
    "# Verificar las nuevas columnas desanidadas\n",
    "print(movies_df[['collection_id', 'collection_name', 'collection_poster_path']].head())"
   ]
  },
  {
   "cell_type": "code",
   "execution_count": 86,
   "metadata": {},
   "outputs": [
    {
     "data": {
      "text/html": [
       "<div>\n",
       "<style scoped>\n",
       "    .dataframe tbody tr th:only-of-type {\n",
       "        vertical-align: middle;\n",
       "    }\n",
       "\n",
       "    .dataframe tbody tr th {\n",
       "        vertical-align: top;\n",
       "    }\n",
       "\n",
       "    .dataframe thead th {\n",
       "        text-align: right;\n",
       "    }\n",
       "</style>\n",
       "<table border=\"1\" class=\"dataframe\">\n",
       "  <thead>\n",
       "    <tr style=\"text-align: right;\">\n",
       "      <th></th>\n",
       "      <th>adult</th>\n",
       "      <th>belongs_to_collection</th>\n",
       "      <th>budget</th>\n",
       "      <th>genres</th>\n",
       "      <th>homepage</th>\n",
       "      <th>id</th>\n",
       "      <th>imdb_id</th>\n",
       "      <th>original_language</th>\n",
       "      <th>original_title</th>\n",
       "      <th>overview</th>\n",
       "      <th>...</th>\n",
       "      <th>status</th>\n",
       "      <th>tagline</th>\n",
       "      <th>title</th>\n",
       "      <th>video</th>\n",
       "      <th>vote_average</th>\n",
       "      <th>vote_count</th>\n",
       "      <th>collection_id</th>\n",
       "      <th>collection_name</th>\n",
       "      <th>collection_poster_path</th>\n",
       "      <th>collection_backdrop_path</th>\n",
       "    </tr>\n",
       "  </thead>\n",
       "  <tbody>\n",
       "    <tr>\n",
       "      <th>0</th>\n",
       "      <td>False</td>\n",
       "      <td>{'id': 10194, 'name': 'Toy Story Collection', ...</td>\n",
       "      <td>30000000</td>\n",
       "      <td>[{'id': 16, 'name': 'Animation'}, {'id': 35, '...</td>\n",
       "      <td>http://toystory.disney.com/toy-story</td>\n",
       "      <td>862</td>\n",
       "      <td>tt0114709</td>\n",
       "      <td>en</td>\n",
       "      <td>Toy Story</td>\n",
       "      <td>Led by Woody, Andy's toys live happily in his ...</td>\n",
       "      <td>...</td>\n",
       "      <td>Released</td>\n",
       "      <td>NaN</td>\n",
       "      <td>Toy Story</td>\n",
       "      <td>False</td>\n",
       "      <td>7.7</td>\n",
       "      <td>5415.0</td>\n",
       "      <td>10194.0</td>\n",
       "      <td>Toy Story Collection</td>\n",
       "      <td>/7G9915LfUQ2lVfwMEEhDsn3kT4B.jpg</td>\n",
       "      <td>/9FBwqcd9IRruEDUrTdcaafOMKUq.jpg</td>\n",
       "    </tr>\n",
       "    <tr>\n",
       "      <th>1</th>\n",
       "      <td>False</td>\n",
       "      <td>{}</td>\n",
       "      <td>65000000</td>\n",
       "      <td>[{'id': 12, 'name': 'Adventure'}, {'id': 14, '...</td>\n",
       "      <td>NaN</td>\n",
       "      <td>8844</td>\n",
       "      <td>tt0113497</td>\n",
       "      <td>en</td>\n",
       "      <td>Jumanji</td>\n",
       "      <td>When siblings Judy and Peter discover an encha...</td>\n",
       "      <td>...</td>\n",
       "      <td>Released</td>\n",
       "      <td>Roll the dice and unleash the excitement!</td>\n",
       "      <td>Jumanji</td>\n",
       "      <td>False</td>\n",
       "      <td>6.9</td>\n",
       "      <td>2413.0</td>\n",
       "      <td>NaN</td>\n",
       "      <td>NaN</td>\n",
       "      <td>NaN</td>\n",
       "      <td>NaN</td>\n",
       "    </tr>\n",
       "    <tr>\n",
       "      <th>2</th>\n",
       "      <td>False</td>\n",
       "      <td>{'id': 119050, 'name': 'Grumpy Old Men Collect...</td>\n",
       "      <td>0</td>\n",
       "      <td>[{'id': 10749, 'name': 'Romance'}, {'id': 35, ...</td>\n",
       "      <td>NaN</td>\n",
       "      <td>15602</td>\n",
       "      <td>tt0113228</td>\n",
       "      <td>en</td>\n",
       "      <td>Grumpier Old Men</td>\n",
       "      <td>A family wedding reignites the ancient feud be...</td>\n",
       "      <td>...</td>\n",
       "      <td>Released</td>\n",
       "      <td>Still Yelling. Still Fighting. Still Ready for...</td>\n",
       "      <td>Grumpier Old Men</td>\n",
       "      <td>False</td>\n",
       "      <td>6.5</td>\n",
       "      <td>92.0</td>\n",
       "      <td>119050.0</td>\n",
       "      <td>Grumpy Old Men Collection</td>\n",
       "      <td>/nLvUdqgPgm3F85NMCii9gVFUcet.jpg</td>\n",
       "      <td>/hypTnLot2z8wpFS7qwsQHW1uV8u.jpg</td>\n",
       "    </tr>\n",
       "    <tr>\n",
       "      <th>3</th>\n",
       "      <td>False</td>\n",
       "      <td>{}</td>\n",
       "      <td>16000000</td>\n",
       "      <td>[{'id': 35, 'name': 'Comedy'}, {'id': 18, 'nam...</td>\n",
       "      <td>NaN</td>\n",
       "      <td>31357</td>\n",
       "      <td>tt0114885</td>\n",
       "      <td>en</td>\n",
       "      <td>Waiting to Exhale</td>\n",
       "      <td>Cheated on, mistreated and stepped on, the wom...</td>\n",
       "      <td>...</td>\n",
       "      <td>Released</td>\n",
       "      <td>Friends are the people who let you be yourself...</td>\n",
       "      <td>Waiting to Exhale</td>\n",
       "      <td>False</td>\n",
       "      <td>6.1</td>\n",
       "      <td>34.0</td>\n",
       "      <td>NaN</td>\n",
       "      <td>NaN</td>\n",
       "      <td>NaN</td>\n",
       "      <td>NaN</td>\n",
       "    </tr>\n",
       "    <tr>\n",
       "      <th>4</th>\n",
       "      <td>False</td>\n",
       "      <td>{'id': 96871, 'name': 'Father of the Bride Col...</td>\n",
       "      <td>0</td>\n",
       "      <td>[{'id': 35, 'name': 'Comedy'}]</td>\n",
       "      <td>NaN</td>\n",
       "      <td>11862</td>\n",
       "      <td>tt0113041</td>\n",
       "      <td>en</td>\n",
       "      <td>Father of the Bride Part II</td>\n",
       "      <td>Just when George Banks has recovered from his ...</td>\n",
       "      <td>...</td>\n",
       "      <td>Released</td>\n",
       "      <td>Just When His World Is Back To Normal... He's ...</td>\n",
       "      <td>Father of the Bride Part II</td>\n",
       "      <td>False</td>\n",
       "      <td>5.7</td>\n",
       "      <td>173.0</td>\n",
       "      <td>96871.0</td>\n",
       "      <td>Father of the Bride Collection</td>\n",
       "      <td>/nts4iOmNnq7GNicycMJ9pSAn204.jpg</td>\n",
       "      <td>/7qwE57OVZmMJChBpLEbJEmzUydk.jpg</td>\n",
       "    </tr>\n",
       "  </tbody>\n",
       "</table>\n",
       "<p>5 rows × 28 columns</p>\n",
       "</div>"
      ],
      "text/plain": [
       "   adult                              belongs_to_collection    budget  \\\n",
       "0  False  {'id': 10194, 'name': 'Toy Story Collection', ...  30000000   \n",
       "1  False                                                 {}  65000000   \n",
       "2  False  {'id': 119050, 'name': 'Grumpy Old Men Collect...         0   \n",
       "3  False                                                 {}  16000000   \n",
       "4  False  {'id': 96871, 'name': 'Father of the Bride Col...         0   \n",
       "\n",
       "                                              genres  \\\n",
       "0  [{'id': 16, 'name': 'Animation'}, {'id': 35, '...   \n",
       "1  [{'id': 12, 'name': 'Adventure'}, {'id': 14, '...   \n",
       "2  [{'id': 10749, 'name': 'Romance'}, {'id': 35, ...   \n",
       "3  [{'id': 35, 'name': 'Comedy'}, {'id': 18, 'nam...   \n",
       "4                     [{'id': 35, 'name': 'Comedy'}]   \n",
       "\n",
       "                               homepage     id    imdb_id original_language  \\\n",
       "0  http://toystory.disney.com/toy-story    862  tt0114709                en   \n",
       "1                                   NaN   8844  tt0113497                en   \n",
       "2                                   NaN  15602  tt0113228                en   \n",
       "3                                   NaN  31357  tt0114885                en   \n",
       "4                                   NaN  11862  tt0113041                en   \n",
       "\n",
       "                original_title  \\\n",
       "0                    Toy Story   \n",
       "1                      Jumanji   \n",
       "2             Grumpier Old Men   \n",
       "3            Waiting to Exhale   \n",
       "4  Father of the Bride Part II   \n",
       "\n",
       "                                            overview  ...    status  \\\n",
       "0  Led by Woody, Andy's toys live happily in his ...  ...  Released   \n",
       "1  When siblings Judy and Peter discover an encha...  ...  Released   \n",
       "2  A family wedding reignites the ancient feud be...  ...  Released   \n",
       "3  Cheated on, mistreated and stepped on, the wom...  ...  Released   \n",
       "4  Just when George Banks has recovered from his ...  ...  Released   \n",
       "\n",
       "                                             tagline  \\\n",
       "0                                                NaN   \n",
       "1          Roll the dice and unleash the excitement!   \n",
       "2  Still Yelling. Still Fighting. Still Ready for...   \n",
       "3  Friends are the people who let you be yourself...   \n",
       "4  Just When His World Is Back To Normal... He's ...   \n",
       "\n",
       "                         title  video vote_average  vote_count  collection_id  \\\n",
       "0                    Toy Story  False          7.7      5415.0        10194.0   \n",
       "1                      Jumanji  False          6.9      2413.0            NaN   \n",
       "2             Grumpier Old Men  False          6.5        92.0       119050.0   \n",
       "3            Waiting to Exhale  False          6.1        34.0            NaN   \n",
       "4  Father of the Bride Part II  False          5.7       173.0        96871.0   \n",
       "\n",
       "                  collection_name            collection_poster_path  \\\n",
       "0            Toy Story Collection  /7G9915LfUQ2lVfwMEEhDsn3kT4B.jpg   \n",
       "1                             NaN                               NaN   \n",
       "2       Grumpy Old Men Collection  /nLvUdqgPgm3F85NMCii9gVFUcet.jpg   \n",
       "3                             NaN                               NaN   \n",
       "4  Father of the Bride Collection  /nts4iOmNnq7GNicycMJ9pSAn204.jpg   \n",
       "\n",
       "           collection_backdrop_path  \n",
       "0  /9FBwqcd9IRruEDUrTdcaafOMKUq.jpg  \n",
       "1                               NaN  \n",
       "2  /hypTnLot2z8wpFS7qwsQHW1uV8u.jpg  \n",
       "3                               NaN  \n",
       "4  /7qwE57OVZmMJChBpLEbJEmzUydk.jpg  \n",
       "\n",
       "[5 rows x 28 columns]"
      ]
     },
     "execution_count": 86,
     "metadata": {},
     "output_type": "execute_result"
    }
   ],
   "source": [
    "movies_df.head()"
   ]
  },
  {
   "cell_type": "markdown",
   "metadata": {},
   "source": [
    "#### Desanidado de `'genres'`\n",
    "Los valores son listas de dicts, por lo tanto, la función `'desanidar_columnas'` no va a funcionar. Lo manejaré de manera diferente"
   ]
  },
  {
   "cell_type": "code",
   "execution_count": 87,
   "metadata": {},
   "outputs": [
    {
     "name": "stdout",
     "output_type": "stream",
     "text": [
      "0    [{'id': 16, 'name': 'Animation'}, {'id': 35, '...\n",
      "1    [{'id': 12, 'name': 'Adventure'}, {'id': 14, '...\n",
      "2    [{'id': 10749, 'name': 'Romance'}, {'id': 35, ...\n",
      "3    [{'id': 35, 'name': 'Comedy'}, {'id': 18, 'nam...\n",
      "4                       [{'id': 35, 'name': 'Comedy'}]\n",
      "5    [{'id': 28, 'name': 'Action'}, {'id': 80, 'nam...\n",
      "6    [{'id': 35, 'name': 'Comedy'}, {'id': 10749, '...\n",
      "7    [{'id': 28, 'name': 'Action'}, {'id': 12, 'nam...\n",
      "8    [{'id': 28, 'name': 'Action'}, {'id': 12, 'nam...\n",
      "9    [{'id': 12, 'name': 'Adventure'}, {'id': 28, '...\n",
      "Name: genres, dtype: object\n"
     ]
    }
   ],
   "source": [
    "# Obtenemos una muestra de los valores en la columna 'genres'\n",
    "print(movies_df['genres'].head(10))"
   ]
  },
  {
   "cell_type": "code",
   "execution_count": 88,
   "metadata": {},
   "outputs": [],
   "source": [
    "import json\n",
    "import re\n",
    "\n",
    "def limpiar_json_invalido(texto: str) -> list:\n",
    "    \"\"\"\n",
    "    Corrige un texto JSON que utiliza comillas simples en lugar de comillas dobles\n",
    "    y lo convierte en un objeto Python. Si el texto no es válido como JSON, retorna una lista vacía.\n",
    "    \n",
    "    Parámetros:\n",
    "    texto (str): El texto que representa un JSON potencialmente inválido.\n",
    "    \n",
    "    Retorna:\n",
    "    list: Una lista con los datos del JSON corregido o una lista vacía en caso de error.\n",
    "    \"\"\"\n",
    "    if isinstance(texto, str):\n",
    "        # Reemplazar comillas simples por comillas dobles\n",
    "        texto_limpio = re.sub(r\"'\", '\"', texto)\n",
    "        try:\n",
    "            # Intentar cargar el JSON limpio\n",
    "            return json.loads(texto_limpio)\n",
    "        except json.JSONDecodeError:\n",
    "            # Si sigue habiendo un error, devolver una lista vacía\n",
    "            return []\n",
    "    return texto\n"
   ]
  },
  {
   "cell_type": "code",
   "execution_count": 89,
   "metadata": {},
   "outputs": [
    {
     "name": "stdout",
     "output_type": "stream",
     "text": [
      "0    [{'id': 16, 'name': 'Animation'}, {'id': 35, '...\n",
      "1    [{'id': 12, 'name': 'Adventure'}, {'id': 14, '...\n",
      "2    [{'id': 10749, 'name': 'Romance'}, {'id': 35, ...\n",
      "3    [{'id': 35, 'name': 'Comedy'}, {'id': 18, 'nam...\n",
      "4                       [{'id': 35, 'name': 'Comedy'}]\n",
      "5    [{'id': 28, 'name': 'Action'}, {'id': 80, 'nam...\n",
      "6    [{'id': 35, 'name': 'Comedy'}, {'id': 10749, '...\n",
      "7    [{'id': 28, 'name': 'Action'}, {'id': 12, 'nam...\n",
      "8    [{'id': 28, 'name': 'Action'}, {'id': 12, 'nam...\n",
      "9    [{'id': 12, 'name': 'Adventure'}, {'id': 28, '...\n",
      "Name: genres, dtype: object\n"
     ]
    }
   ],
   "source": [
    "# Se Aplica la limpieza a la columna 'genres' y se verificar la conversión\n",
    "movies_df['genres'] = movies_df['genres'].apply(limpiar_json_invalido)\n",
    "print(movies_df['genres'].head(10))\n"
   ]
  },
  {
   "cell_type": "code",
   "execution_count": 90,
   "metadata": {},
   "outputs": [],
   "source": [
    "def desanidar_listas_diccionarios(df: pd.DataFrame, columna: str, prefijo: str) -> pd.DataFrame:\n",
    "    \"\"\"\n",
    "    Desanida una columna que contiene listas de diccionarios, explota cada elemento en una fila separada\n",
    "    y extrae las claves de los diccionarios como nuevas columnas en el DataFrame.\n",
    "    \n",
    "    Parámetros:\n",
    "    df (pd.DataFrame): El DataFrame que contiene los datos.\n",
    "    columna (str): El nombre de la columna que se va a desanidar.\n",
    "    prefijo (str): El prefijo para las nuevas columnas desanidadas.\n",
    "    \n",
    "    Retorna:\n",
    "    pd.DataFrame: El DataFrame con las nuevas columnas desanidadas y concatenadas.\n",
    "    \"\"\"\n",
    "    # Explotar la lista de diccionarios para convertir cada elemento en una fila separada\n",
    "    df = df.explode(columna).reset_index(drop=True)\n",
    "    \n",
    "    # Desanidar las claves de los diccionarios en columnas separadas\n",
    "    desanidado = pd.json_normalize(df[columna])\n",
    "    desanidado.columns = [f\"{prefijo}_{col}\" for col in desanidado.columns]\n",
    "    \n",
    "    # Concatenar las nuevas columnas desanidadas al DataFrame original\n",
    "    df = pd.concat([df, desanidado], axis=1)\n",
    "    \n",
    "    return df\n"
   ]
  },
  {
   "cell_type": "code",
   "execution_count": 91,
   "metadata": {},
   "outputs": [
    {
     "name": "stdout",
     "output_type": "stream",
     "text": [
      "    genre_id genre_name\n",
      "0       16.0  Animation\n",
      "1       35.0     Comedy\n",
      "2    10751.0     Family\n",
      "3       12.0  Adventure\n",
      "4       14.0    Fantasy\n",
      "5    10751.0     Family\n",
      "6    10749.0    Romance\n",
      "7       35.0     Comedy\n",
      "8       35.0     Comedy\n",
      "9       18.0      Drama\n",
      "10   10749.0    Romance\n",
      "11      35.0     Comedy\n",
      "12      28.0     Action\n",
      "13      80.0      Crime\n",
      "14      18.0      Drama\n",
      "15      53.0   Thriller\n",
      "16      35.0     Comedy\n",
      "17   10749.0    Romance\n",
      "18      28.0     Action\n",
      "19      12.0  Adventure\n"
     ]
    }
   ],
   "source": [
    "# Se aplica la función de desanidado y se verifica el resultado\n",
    "movies_df = desanidar_listas_diccionarios(movies_df, 'genres', 'genre')\n",
    "print(movies_df[['genre_id', 'genre_name']].head(20))"
   ]
  },
  {
   "cell_type": "markdown",
   "metadata": {},
   "source": [
    "#### Desanidado de `'product_companies'`"
   ]
  },
  {
   "cell_type": "code",
   "execution_count": 92,
   "metadata": {},
   "outputs": [
    {
     "name": "stdout",
     "output_type": "stream",
     "text": [
      "0       [{'name': 'Pixar Animation Studios', 'id': 3}]\n",
      "1       [{'name': 'Pixar Animation Studios', 'id': 3}]\n",
      "2       [{'name': 'Pixar Animation Studios', 'id': 3}]\n",
      "3    [{'name': 'TriStar Pictures', 'id': 559}, {'na...\n",
      "4    [{'name': 'TriStar Pictures', 'id': 559}, {'na...\n",
      "5    [{'name': 'TriStar Pictures', 'id': 559}, {'na...\n",
      "6    [{'name': 'Warner Bros.', 'id': 6194}, {'name'...\n",
      "7    [{'name': 'Warner Bros.', 'id': 6194}, {'name'...\n",
      "8    [{'name': 'Twentieth Century Fox Film Corporat...\n",
      "9    [{'name': 'Twentieth Century Fox Film Corporat...\n",
      "Name: production_companies, dtype: object\n"
     ]
    }
   ],
   "source": [
    "# Obtenemos una muestra de los valores en la columna 'production_companies'\n",
    "print(movies_df['production_companies'].head(10))"
   ]
  },
  {
   "cell_type": "code",
   "execution_count": 93,
   "metadata": {},
   "outputs": [
    {
     "data": {
      "text/plain": [
       "production_companies\n",
       "<class 'str'>      93539\n",
       "<class 'float'>        9\n",
       "Name: count, dtype: int64"
      ]
     },
     "execution_count": 93,
     "metadata": {},
     "output_type": "execute_result"
    }
   ],
   "source": [
    "movies_df['production_companies'].apply(type).value_counts()"
   ]
  },
  {
   "cell_type": "code",
   "execution_count": 94,
   "metadata": {},
   "outputs": [],
   "source": [
    "# Se aplica la limpieza a la columna 'production_companies'\n",
    "movies_df['production_companies'] = movies_df['production_companies'].apply(limpiar_json_invalido)"
   ]
  },
  {
   "cell_type": "code",
   "execution_count": 95,
   "metadata": {},
   "outputs": [
    {
     "name": "stdout",
     "output_type": "stream",
     "text": [
      "    company_id                            company_name\n",
      "0          3.0                 Pixar Animation Studios\n",
      "1          3.0                 Pixar Animation Studios\n",
      "2          3.0                 Pixar Animation Studios\n",
      "3        559.0                        TriStar Pictures\n",
      "4       2550.0                            Teitler Film\n",
      "5      10201.0               Interscope Communications\n",
      "6        559.0                        TriStar Pictures\n",
      "7       2550.0                            Teitler Film\n",
      "8      10201.0               Interscope Communications\n",
      "9        559.0                        TriStar Pictures\n",
      "10      2550.0                            Teitler Film\n",
      "11     10201.0               Interscope Communications\n",
      "12      6194.0                            Warner Bros.\n",
      "13     19464.0                          Lancaster Gate\n",
      "14      6194.0                            Warner Bros.\n",
      "15     19464.0                          Lancaster Gate\n",
      "16       306.0  Twentieth Century Fox Film Corporation\n",
      "17       306.0  Twentieth Century Fox Film Corporation\n",
      "18       306.0  Twentieth Century Fox Film Corporation\n",
      "19      5842.0                   Sandollar Productions\n"
     ]
    }
   ],
   "source": [
    "# Se aplica la función de desanidado en 'production_companies' con el prefijo 'company'\n",
    "movies_df = desanidar_listas_diccionarios(movies_df, 'production_companies', 'company')\n",
    "\n",
    "# Se verifican las nuevas columnas desanidadas\n",
    "print(movies_df[['company_id', 'company_name']].head(20))\n"
   ]
  },
  {
   "cell_type": "code",
   "execution_count": 96,
   "metadata": {},
   "outputs": [
    {
     "data": {
      "text/html": [
       "<div>\n",
       "<style scoped>\n",
       "    .dataframe tbody tr th:only-of-type {\n",
       "        vertical-align: middle;\n",
       "    }\n",
       "\n",
       "    .dataframe tbody tr th {\n",
       "        vertical-align: top;\n",
       "    }\n",
       "\n",
       "    .dataframe thead th {\n",
       "        text-align: right;\n",
       "    }\n",
       "</style>\n",
       "<table border=\"1\" class=\"dataframe\">\n",
       "  <thead>\n",
       "    <tr style=\"text-align: right;\">\n",
       "      <th></th>\n",
       "      <th>adult</th>\n",
       "      <th>belongs_to_collection</th>\n",
       "      <th>budget</th>\n",
       "      <th>genres</th>\n",
       "      <th>homepage</th>\n",
       "      <th>id</th>\n",
       "      <th>imdb_id</th>\n",
       "      <th>original_language</th>\n",
       "      <th>original_title</th>\n",
       "      <th>overview</th>\n",
       "      <th>...</th>\n",
       "      <th>vote_average</th>\n",
       "      <th>vote_count</th>\n",
       "      <th>collection_id</th>\n",
       "      <th>collection_name</th>\n",
       "      <th>collection_poster_path</th>\n",
       "      <th>collection_backdrop_path</th>\n",
       "      <th>genre_id</th>\n",
       "      <th>genre_name</th>\n",
       "      <th>company_name</th>\n",
       "      <th>company_id</th>\n",
       "    </tr>\n",
       "  </thead>\n",
       "  <tbody>\n",
       "    <tr>\n",
       "      <th>0</th>\n",
       "      <td>False</td>\n",
       "      <td>{'id': 10194, 'name': 'Toy Story Collection', ...</td>\n",
       "      <td>30000000</td>\n",
       "      <td>{'id': 16, 'name': 'Animation'}</td>\n",
       "      <td>http://toystory.disney.com/toy-story</td>\n",
       "      <td>862</td>\n",
       "      <td>tt0114709</td>\n",
       "      <td>en</td>\n",
       "      <td>Toy Story</td>\n",
       "      <td>Led by Woody, Andy's toys live happily in his ...</td>\n",
       "      <td>...</td>\n",
       "      <td>7.7</td>\n",
       "      <td>5415.0</td>\n",
       "      <td>10194.0</td>\n",
       "      <td>Toy Story Collection</td>\n",
       "      <td>/7G9915LfUQ2lVfwMEEhDsn3kT4B.jpg</td>\n",
       "      <td>/9FBwqcd9IRruEDUrTdcaafOMKUq.jpg</td>\n",
       "      <td>16.0</td>\n",
       "      <td>Animation</td>\n",
       "      <td>Pixar Animation Studios</td>\n",
       "      <td>3.0</td>\n",
       "    </tr>\n",
       "    <tr>\n",
       "      <th>1</th>\n",
       "      <td>False</td>\n",
       "      <td>{'id': 10194, 'name': 'Toy Story Collection', ...</td>\n",
       "      <td>30000000</td>\n",
       "      <td>{'id': 35, 'name': 'Comedy'}</td>\n",
       "      <td>http://toystory.disney.com/toy-story</td>\n",
       "      <td>862</td>\n",
       "      <td>tt0114709</td>\n",
       "      <td>en</td>\n",
       "      <td>Toy Story</td>\n",
       "      <td>Led by Woody, Andy's toys live happily in his ...</td>\n",
       "      <td>...</td>\n",
       "      <td>7.7</td>\n",
       "      <td>5415.0</td>\n",
       "      <td>10194.0</td>\n",
       "      <td>Toy Story Collection</td>\n",
       "      <td>/7G9915LfUQ2lVfwMEEhDsn3kT4B.jpg</td>\n",
       "      <td>/9FBwqcd9IRruEDUrTdcaafOMKUq.jpg</td>\n",
       "      <td>35.0</td>\n",
       "      <td>Comedy</td>\n",
       "      <td>Pixar Animation Studios</td>\n",
       "      <td>3.0</td>\n",
       "    </tr>\n",
       "    <tr>\n",
       "      <th>2</th>\n",
       "      <td>False</td>\n",
       "      <td>{'id': 10194, 'name': 'Toy Story Collection', ...</td>\n",
       "      <td>30000000</td>\n",
       "      <td>{'id': 10751, 'name': 'Family'}</td>\n",
       "      <td>http://toystory.disney.com/toy-story</td>\n",
       "      <td>862</td>\n",
       "      <td>tt0114709</td>\n",
       "      <td>en</td>\n",
       "      <td>Toy Story</td>\n",
       "      <td>Led by Woody, Andy's toys live happily in his ...</td>\n",
       "      <td>...</td>\n",
       "      <td>7.7</td>\n",
       "      <td>5415.0</td>\n",
       "      <td>10194.0</td>\n",
       "      <td>Toy Story Collection</td>\n",
       "      <td>/7G9915LfUQ2lVfwMEEhDsn3kT4B.jpg</td>\n",
       "      <td>/9FBwqcd9IRruEDUrTdcaafOMKUq.jpg</td>\n",
       "      <td>10751.0</td>\n",
       "      <td>Family</td>\n",
       "      <td>Pixar Animation Studios</td>\n",
       "      <td>3.0</td>\n",
       "    </tr>\n",
       "    <tr>\n",
       "      <th>3</th>\n",
       "      <td>False</td>\n",
       "      <td>{}</td>\n",
       "      <td>65000000</td>\n",
       "      <td>{'id': 12, 'name': 'Adventure'}</td>\n",
       "      <td>NaN</td>\n",
       "      <td>8844</td>\n",
       "      <td>tt0113497</td>\n",
       "      <td>en</td>\n",
       "      <td>Jumanji</td>\n",
       "      <td>When siblings Judy and Peter discover an encha...</td>\n",
       "      <td>...</td>\n",
       "      <td>6.9</td>\n",
       "      <td>2413.0</td>\n",
       "      <td>NaN</td>\n",
       "      <td>NaN</td>\n",
       "      <td>NaN</td>\n",
       "      <td>NaN</td>\n",
       "      <td>12.0</td>\n",
       "      <td>Adventure</td>\n",
       "      <td>TriStar Pictures</td>\n",
       "      <td>559.0</td>\n",
       "    </tr>\n",
       "    <tr>\n",
       "      <th>4</th>\n",
       "      <td>False</td>\n",
       "      <td>{}</td>\n",
       "      <td>65000000</td>\n",
       "      <td>{'id': 12, 'name': 'Adventure'}</td>\n",
       "      <td>NaN</td>\n",
       "      <td>8844</td>\n",
       "      <td>tt0113497</td>\n",
       "      <td>en</td>\n",
       "      <td>Jumanji</td>\n",
       "      <td>When siblings Judy and Peter discover an encha...</td>\n",
       "      <td>...</td>\n",
       "      <td>6.9</td>\n",
       "      <td>2413.0</td>\n",
       "      <td>NaN</td>\n",
       "      <td>NaN</td>\n",
       "      <td>NaN</td>\n",
       "      <td>NaN</td>\n",
       "      <td>12.0</td>\n",
       "      <td>Adventure</td>\n",
       "      <td>Teitler Film</td>\n",
       "      <td>2550.0</td>\n",
       "    </tr>\n",
       "  </tbody>\n",
       "</table>\n",
       "<p>5 rows × 32 columns</p>\n",
       "</div>"
      ],
      "text/plain": [
       "   adult                              belongs_to_collection    budget  \\\n",
       "0  False  {'id': 10194, 'name': 'Toy Story Collection', ...  30000000   \n",
       "1  False  {'id': 10194, 'name': 'Toy Story Collection', ...  30000000   \n",
       "2  False  {'id': 10194, 'name': 'Toy Story Collection', ...  30000000   \n",
       "3  False                                                 {}  65000000   \n",
       "4  False                                                 {}  65000000   \n",
       "\n",
       "                            genres                              homepage  \\\n",
       "0  {'id': 16, 'name': 'Animation'}  http://toystory.disney.com/toy-story   \n",
       "1     {'id': 35, 'name': 'Comedy'}  http://toystory.disney.com/toy-story   \n",
       "2  {'id': 10751, 'name': 'Family'}  http://toystory.disney.com/toy-story   \n",
       "3  {'id': 12, 'name': 'Adventure'}                                   NaN   \n",
       "4  {'id': 12, 'name': 'Adventure'}                                   NaN   \n",
       "\n",
       "     id    imdb_id original_language original_title  \\\n",
       "0   862  tt0114709                en      Toy Story   \n",
       "1   862  tt0114709                en      Toy Story   \n",
       "2   862  tt0114709                en      Toy Story   \n",
       "3  8844  tt0113497                en        Jumanji   \n",
       "4  8844  tt0113497                en        Jumanji   \n",
       "\n",
       "                                            overview  ... vote_average  \\\n",
       "0  Led by Woody, Andy's toys live happily in his ...  ...          7.7   \n",
       "1  Led by Woody, Andy's toys live happily in his ...  ...          7.7   \n",
       "2  Led by Woody, Andy's toys live happily in his ...  ...          7.7   \n",
       "3  When siblings Judy and Peter discover an encha...  ...          6.9   \n",
       "4  When siblings Judy and Peter discover an encha...  ...          6.9   \n",
       "\n",
       "  vote_count collection_id       collection_name  \\\n",
       "0     5415.0       10194.0  Toy Story Collection   \n",
       "1     5415.0       10194.0  Toy Story Collection   \n",
       "2     5415.0       10194.0  Toy Story Collection   \n",
       "3     2413.0           NaN                   NaN   \n",
       "4     2413.0           NaN                   NaN   \n",
       "\n",
       "             collection_poster_path          collection_backdrop_path  \\\n",
       "0  /7G9915LfUQ2lVfwMEEhDsn3kT4B.jpg  /9FBwqcd9IRruEDUrTdcaafOMKUq.jpg   \n",
       "1  /7G9915LfUQ2lVfwMEEhDsn3kT4B.jpg  /9FBwqcd9IRruEDUrTdcaafOMKUq.jpg   \n",
       "2  /7G9915LfUQ2lVfwMEEhDsn3kT4B.jpg  /9FBwqcd9IRruEDUrTdcaafOMKUq.jpg   \n",
       "3                               NaN                               NaN   \n",
       "4                               NaN                               NaN   \n",
       "\n",
       "   genre_id genre_name             company_name company_id  \n",
       "0      16.0  Animation  Pixar Animation Studios        3.0  \n",
       "1      35.0     Comedy  Pixar Animation Studios        3.0  \n",
       "2   10751.0     Family  Pixar Animation Studios        3.0  \n",
       "3      12.0  Adventure         TriStar Pictures      559.0  \n",
       "4      12.0  Adventure             Teitler Film     2550.0  \n",
       "\n",
       "[5 rows x 32 columns]"
      ]
     },
     "execution_count": 96,
     "metadata": {},
     "output_type": "execute_result"
    }
   ],
   "source": [
    "# Continuamente observamos el dataframe\n",
    "movies_df.head()"
   ]
  },
  {
   "cell_type": "markdown",
   "metadata": {},
   "source": [
    "#### Desanidado de `'production_countries'`"
   ]
  },
  {
   "cell_type": "code",
   "execution_count": 97,
   "metadata": {},
   "outputs": [
    {
     "name": "stdout",
     "output_type": "stream",
     "text": [
      "0    [{'iso_3166_1': 'US', 'name': 'United States o...\n",
      "1    [{'iso_3166_1': 'US', 'name': 'United States o...\n",
      "2    [{'iso_3166_1': 'US', 'name': 'United States o...\n",
      "3    [{'iso_3166_1': 'US', 'name': 'United States o...\n",
      "4    [{'iso_3166_1': 'US', 'name': 'United States o...\n",
      "5    [{'iso_3166_1': 'US', 'name': 'United States o...\n",
      "6    [{'iso_3166_1': 'US', 'name': 'United States o...\n",
      "7    [{'iso_3166_1': 'US', 'name': 'United States o...\n",
      "8    [{'iso_3166_1': 'US', 'name': 'United States o...\n",
      "9    [{'iso_3166_1': 'US', 'name': 'United States o...\n",
      "Name: production_countries, dtype: object\n"
     ]
    }
   ],
   "source": [
    "# Obtener una muestra de los valores en la columna 'production_countries'\n",
    "print(movies_df['production_countries'].head(10))"
   ]
  },
  {
   "cell_type": "code",
   "execution_count": 98,
   "metadata": {},
   "outputs": [],
   "source": [
    "# Se aplica la limpieza a la columna 'production_countries'\n",
    "movies_df['production_countries'] = movies_df['production_countries'].apply(limpiar_json_invalido)"
   ]
  },
  {
   "cell_type": "code",
   "execution_count": 99,
   "metadata": {},
   "outputs": [
    {
     "name": "stdout",
     "output_type": "stream",
     "text": [
      "   country_iso_3166_1              country_name\n",
      "0                  US  United States of America\n",
      "1                  US  United States of America\n",
      "2                  US  United States of America\n",
      "3                  US  United States of America\n",
      "4                  US  United States of America\n",
      "5                  US  United States of America\n",
      "6                  US  United States of America\n",
      "7                  US  United States of America\n",
      "8                  US  United States of America\n",
      "9                  US  United States of America\n",
      "10                 US  United States of America\n",
      "11                 US  United States of America\n",
      "12                 US  United States of America\n",
      "13                 US  United States of America\n",
      "14                 US  United States of America\n",
      "15                 US  United States of America\n",
      "16                 US  United States of America\n",
      "17                 US  United States of America\n",
      "18                 US  United States of America\n",
      "19                 US  United States of America\n"
     ]
    }
   ],
   "source": [
    "# Desanidamos la columna 'production_countries' con el prefijo 'country'\n",
    "movies_df = desanidar_listas_diccionarios(movies_df, 'production_countries', 'country')\n",
    "\n",
    "# Verificamos las nuevas columnas desanidadas\n",
    "print(movies_df[['country_iso_3166_1', 'country_name']].head(20))\n"
   ]
  },
  {
   "cell_type": "code",
   "execution_count": 100,
   "metadata": {},
   "outputs": [
    {
     "data": {
      "text/html": [
       "<div>\n",
       "<style scoped>\n",
       "    .dataframe tbody tr th:only-of-type {\n",
       "        vertical-align: middle;\n",
       "    }\n",
       "\n",
       "    .dataframe tbody tr th {\n",
       "        vertical-align: top;\n",
       "    }\n",
       "\n",
       "    .dataframe thead th {\n",
       "        text-align: right;\n",
       "    }\n",
       "</style>\n",
       "<table border=\"1\" class=\"dataframe\">\n",
       "  <thead>\n",
       "    <tr style=\"text-align: right;\">\n",
       "      <th></th>\n",
       "      <th>adult</th>\n",
       "      <th>belongs_to_collection</th>\n",
       "      <th>budget</th>\n",
       "      <th>genres</th>\n",
       "      <th>homepage</th>\n",
       "      <th>id</th>\n",
       "      <th>imdb_id</th>\n",
       "      <th>original_language</th>\n",
       "      <th>original_title</th>\n",
       "      <th>overview</th>\n",
       "      <th>...</th>\n",
       "      <th>collection_id</th>\n",
       "      <th>collection_name</th>\n",
       "      <th>collection_poster_path</th>\n",
       "      <th>collection_backdrop_path</th>\n",
       "      <th>genre_id</th>\n",
       "      <th>genre_name</th>\n",
       "      <th>company_name</th>\n",
       "      <th>company_id</th>\n",
       "      <th>country_iso_3166_1</th>\n",
       "      <th>country_name</th>\n",
       "    </tr>\n",
       "  </thead>\n",
       "  <tbody>\n",
       "    <tr>\n",
       "      <th>0</th>\n",
       "      <td>False</td>\n",
       "      <td>{'id': 10194, 'name': 'Toy Story Collection', ...</td>\n",
       "      <td>30000000</td>\n",
       "      <td>{'id': 16, 'name': 'Animation'}</td>\n",
       "      <td>http://toystory.disney.com/toy-story</td>\n",
       "      <td>862</td>\n",
       "      <td>tt0114709</td>\n",
       "      <td>en</td>\n",
       "      <td>Toy Story</td>\n",
       "      <td>Led by Woody, Andy's toys live happily in his ...</td>\n",
       "      <td>...</td>\n",
       "      <td>10194.0</td>\n",
       "      <td>Toy Story Collection</td>\n",
       "      <td>/7G9915LfUQ2lVfwMEEhDsn3kT4B.jpg</td>\n",
       "      <td>/9FBwqcd9IRruEDUrTdcaafOMKUq.jpg</td>\n",
       "      <td>16.0</td>\n",
       "      <td>Animation</td>\n",
       "      <td>Pixar Animation Studios</td>\n",
       "      <td>3.0</td>\n",
       "      <td>US</td>\n",
       "      <td>United States of America</td>\n",
       "    </tr>\n",
       "    <tr>\n",
       "      <th>1</th>\n",
       "      <td>False</td>\n",
       "      <td>{'id': 10194, 'name': 'Toy Story Collection', ...</td>\n",
       "      <td>30000000</td>\n",
       "      <td>{'id': 35, 'name': 'Comedy'}</td>\n",
       "      <td>http://toystory.disney.com/toy-story</td>\n",
       "      <td>862</td>\n",
       "      <td>tt0114709</td>\n",
       "      <td>en</td>\n",
       "      <td>Toy Story</td>\n",
       "      <td>Led by Woody, Andy's toys live happily in his ...</td>\n",
       "      <td>...</td>\n",
       "      <td>10194.0</td>\n",
       "      <td>Toy Story Collection</td>\n",
       "      <td>/7G9915LfUQ2lVfwMEEhDsn3kT4B.jpg</td>\n",
       "      <td>/9FBwqcd9IRruEDUrTdcaafOMKUq.jpg</td>\n",
       "      <td>35.0</td>\n",
       "      <td>Comedy</td>\n",
       "      <td>Pixar Animation Studios</td>\n",
       "      <td>3.0</td>\n",
       "      <td>US</td>\n",
       "      <td>United States of America</td>\n",
       "    </tr>\n",
       "    <tr>\n",
       "      <th>2</th>\n",
       "      <td>False</td>\n",
       "      <td>{'id': 10194, 'name': 'Toy Story Collection', ...</td>\n",
       "      <td>30000000</td>\n",
       "      <td>{'id': 10751, 'name': 'Family'}</td>\n",
       "      <td>http://toystory.disney.com/toy-story</td>\n",
       "      <td>862</td>\n",
       "      <td>tt0114709</td>\n",
       "      <td>en</td>\n",
       "      <td>Toy Story</td>\n",
       "      <td>Led by Woody, Andy's toys live happily in his ...</td>\n",
       "      <td>...</td>\n",
       "      <td>10194.0</td>\n",
       "      <td>Toy Story Collection</td>\n",
       "      <td>/7G9915LfUQ2lVfwMEEhDsn3kT4B.jpg</td>\n",
       "      <td>/9FBwqcd9IRruEDUrTdcaafOMKUq.jpg</td>\n",
       "      <td>10751.0</td>\n",
       "      <td>Family</td>\n",
       "      <td>Pixar Animation Studios</td>\n",
       "      <td>3.0</td>\n",
       "      <td>US</td>\n",
       "      <td>United States of America</td>\n",
       "    </tr>\n",
       "    <tr>\n",
       "      <th>3</th>\n",
       "      <td>False</td>\n",
       "      <td>{}</td>\n",
       "      <td>65000000</td>\n",
       "      <td>{'id': 12, 'name': 'Adventure'}</td>\n",
       "      <td>NaN</td>\n",
       "      <td>8844</td>\n",
       "      <td>tt0113497</td>\n",
       "      <td>en</td>\n",
       "      <td>Jumanji</td>\n",
       "      <td>When siblings Judy and Peter discover an encha...</td>\n",
       "      <td>...</td>\n",
       "      <td>NaN</td>\n",
       "      <td>NaN</td>\n",
       "      <td>NaN</td>\n",
       "      <td>NaN</td>\n",
       "      <td>12.0</td>\n",
       "      <td>Adventure</td>\n",
       "      <td>TriStar Pictures</td>\n",
       "      <td>559.0</td>\n",
       "      <td>US</td>\n",
       "      <td>United States of America</td>\n",
       "    </tr>\n",
       "    <tr>\n",
       "      <th>4</th>\n",
       "      <td>False</td>\n",
       "      <td>{}</td>\n",
       "      <td>65000000</td>\n",
       "      <td>{'id': 12, 'name': 'Adventure'}</td>\n",
       "      <td>NaN</td>\n",
       "      <td>8844</td>\n",
       "      <td>tt0113497</td>\n",
       "      <td>en</td>\n",
       "      <td>Jumanji</td>\n",
       "      <td>When siblings Judy and Peter discover an encha...</td>\n",
       "      <td>...</td>\n",
       "      <td>NaN</td>\n",
       "      <td>NaN</td>\n",
       "      <td>NaN</td>\n",
       "      <td>NaN</td>\n",
       "      <td>12.0</td>\n",
       "      <td>Adventure</td>\n",
       "      <td>Teitler Film</td>\n",
       "      <td>2550.0</td>\n",
       "      <td>US</td>\n",
       "      <td>United States of America</td>\n",
       "    </tr>\n",
       "  </tbody>\n",
       "</table>\n",
       "<p>5 rows × 34 columns</p>\n",
       "</div>"
      ],
      "text/plain": [
       "   adult                              belongs_to_collection    budget  \\\n",
       "0  False  {'id': 10194, 'name': 'Toy Story Collection', ...  30000000   \n",
       "1  False  {'id': 10194, 'name': 'Toy Story Collection', ...  30000000   \n",
       "2  False  {'id': 10194, 'name': 'Toy Story Collection', ...  30000000   \n",
       "3  False                                                 {}  65000000   \n",
       "4  False                                                 {}  65000000   \n",
       "\n",
       "                            genres                              homepage  \\\n",
       "0  {'id': 16, 'name': 'Animation'}  http://toystory.disney.com/toy-story   \n",
       "1     {'id': 35, 'name': 'Comedy'}  http://toystory.disney.com/toy-story   \n",
       "2  {'id': 10751, 'name': 'Family'}  http://toystory.disney.com/toy-story   \n",
       "3  {'id': 12, 'name': 'Adventure'}                                   NaN   \n",
       "4  {'id': 12, 'name': 'Adventure'}                                   NaN   \n",
       "\n",
       "     id    imdb_id original_language original_title  \\\n",
       "0   862  tt0114709                en      Toy Story   \n",
       "1   862  tt0114709                en      Toy Story   \n",
       "2   862  tt0114709                en      Toy Story   \n",
       "3  8844  tt0113497                en        Jumanji   \n",
       "4  8844  tt0113497                en        Jumanji   \n",
       "\n",
       "                                            overview  ... collection_id  \\\n",
       "0  Led by Woody, Andy's toys live happily in his ...  ...       10194.0   \n",
       "1  Led by Woody, Andy's toys live happily in his ...  ...       10194.0   \n",
       "2  Led by Woody, Andy's toys live happily in his ...  ...       10194.0   \n",
       "3  When siblings Judy and Peter discover an encha...  ...           NaN   \n",
       "4  When siblings Judy and Peter discover an encha...  ...           NaN   \n",
       "\n",
       "        collection_name            collection_poster_path  \\\n",
       "0  Toy Story Collection  /7G9915LfUQ2lVfwMEEhDsn3kT4B.jpg   \n",
       "1  Toy Story Collection  /7G9915LfUQ2lVfwMEEhDsn3kT4B.jpg   \n",
       "2  Toy Story Collection  /7G9915LfUQ2lVfwMEEhDsn3kT4B.jpg   \n",
       "3                   NaN                               NaN   \n",
       "4                   NaN                               NaN   \n",
       "\n",
       "           collection_backdrop_path genre_id  genre_name  \\\n",
       "0  /9FBwqcd9IRruEDUrTdcaafOMKUq.jpg     16.0   Animation   \n",
       "1  /9FBwqcd9IRruEDUrTdcaafOMKUq.jpg     35.0      Comedy   \n",
       "2  /9FBwqcd9IRruEDUrTdcaafOMKUq.jpg  10751.0      Family   \n",
       "3                               NaN     12.0   Adventure   \n",
       "4                               NaN     12.0   Adventure   \n",
       "\n",
       "              company_name company_id country_iso_3166_1  \\\n",
       "0  Pixar Animation Studios        3.0                 US   \n",
       "1  Pixar Animation Studios        3.0                 US   \n",
       "2  Pixar Animation Studios        3.0                 US   \n",
       "3         TriStar Pictures      559.0                 US   \n",
       "4             Teitler Film     2550.0                 US   \n",
       "\n",
       "               country_name  \n",
       "0  United States of America  \n",
       "1  United States of America  \n",
       "2  United States of America  \n",
       "3  United States of America  \n",
       "4  United States of America  \n",
       "\n",
       "[5 rows x 34 columns]"
      ]
     },
     "execution_count": 100,
     "metadata": {},
     "output_type": "execute_result"
    }
   ],
   "source": [
    "movies_df.head()"
   ]
  },
  {
   "cell_type": "markdown",
   "metadata": {},
   "source": [
    "#### Desanidado de `'spoken_lenguages'`"
   ]
  },
  {
   "cell_type": "code",
   "execution_count": 101,
   "metadata": {},
   "outputs": [
    {
     "name": "stdout",
     "output_type": "stream",
     "text": [
      "0             [{'iso_639_1': 'en', 'name': 'English'}]\n",
      "1             [{'iso_639_1': 'en', 'name': 'English'}]\n",
      "2             [{'iso_639_1': 'en', 'name': 'English'}]\n",
      "3    [{'iso_639_1': 'en', 'name': 'English'}, {'iso...\n",
      "4    [{'iso_639_1': 'en', 'name': 'English'}, {'iso...\n",
      "5    [{'iso_639_1': 'en', 'name': 'English'}, {'iso...\n",
      "6    [{'iso_639_1': 'en', 'name': 'English'}, {'iso...\n",
      "7    [{'iso_639_1': 'en', 'name': 'English'}, {'iso...\n",
      "8    [{'iso_639_1': 'en', 'name': 'English'}, {'iso...\n",
      "9    [{'iso_639_1': 'en', 'name': 'English'}, {'iso...\n",
      "Name: spoken_languages, dtype: object\n"
     ]
    }
   ],
   "source": [
    "# Muestra de los valores en la columna 'spoken_languages'\n",
    "print(movies_df['spoken_languages'].head(10))\n"
   ]
  },
  {
   "cell_type": "code",
   "execution_count": 102,
   "metadata": {},
   "outputs": [],
   "source": [
    "# Se aplica la limpieza JSON a la columna 'spoken_languages'\n",
    "movies_df['spoken_languages'] = movies_df['spoken_languages'].apply(limpiar_json_invalido)"
   ]
  },
  {
   "cell_type": "code",
   "execution_count": 103,
   "metadata": {},
   "outputs": [],
   "source": [
    "# Se aplica la función de desanidado en 'spoken_languages'\n",
    "movies_df = desanidar_listas_diccionarios(movies_df, 'spoken_languages', 'language')"
   ]
  },
  {
   "cell_type": "code",
   "execution_count": 104,
   "metadata": {},
   "outputs": [
    {
     "name": "stdout",
     "output_type": "stream",
     "text": [
      "   language_iso_639_1 language_name\n",
      "0                  en       English\n",
      "1                  en       English\n",
      "2                  en       English\n",
      "3                  en       English\n",
      "4                  fr      Français\n",
      "5                  en       English\n",
      "6                  fr      Français\n",
      "7                  en       English\n",
      "8                  fr      Français\n",
      "9                  en       English\n",
      "10                 fr      Français\n",
      "11                 en       English\n",
      "12                 fr      Français\n",
      "13                 en       English\n",
      "14                 fr      Français\n",
      "15                 en       English\n",
      "16                 fr      Français\n",
      "17                 en       English\n",
      "18                 fr      Français\n",
      "19                 en       English\n"
     ]
    }
   ],
   "source": [
    "# Corrobarmos las nuevas columnas desanidadas\n",
    "print(movies_df[['language_iso_639_1', 'language_name']].head(20))"
   ]
  },
  {
   "cell_type": "code",
   "execution_count": 105,
   "metadata": {},
   "outputs": [
    {
     "data": {
      "text/html": [
       "<div>\n",
       "<style scoped>\n",
       "    .dataframe tbody tr th:only-of-type {\n",
       "        vertical-align: middle;\n",
       "    }\n",
       "\n",
       "    .dataframe tbody tr th {\n",
       "        vertical-align: top;\n",
       "    }\n",
       "\n",
       "    .dataframe thead th {\n",
       "        text-align: right;\n",
       "    }\n",
       "</style>\n",
       "<table border=\"1\" class=\"dataframe\">\n",
       "  <thead>\n",
       "    <tr style=\"text-align: right;\">\n",
       "      <th></th>\n",
       "      <th>adult</th>\n",
       "      <th>belongs_to_collection</th>\n",
       "      <th>budget</th>\n",
       "      <th>genres</th>\n",
       "      <th>homepage</th>\n",
       "      <th>id</th>\n",
       "      <th>imdb_id</th>\n",
       "      <th>original_language</th>\n",
       "      <th>original_title</th>\n",
       "      <th>overview</th>\n",
       "      <th>...</th>\n",
       "      <th>collection_poster_path</th>\n",
       "      <th>collection_backdrop_path</th>\n",
       "      <th>genre_id</th>\n",
       "      <th>genre_name</th>\n",
       "      <th>company_name</th>\n",
       "      <th>company_id</th>\n",
       "      <th>country_iso_3166_1</th>\n",
       "      <th>country_name</th>\n",
       "      <th>language_iso_639_1</th>\n",
       "      <th>language_name</th>\n",
       "    </tr>\n",
       "  </thead>\n",
       "  <tbody>\n",
       "    <tr>\n",
       "      <th>0</th>\n",
       "      <td>False</td>\n",
       "      <td>{'id': 10194, 'name': 'Toy Story Collection', ...</td>\n",
       "      <td>30000000</td>\n",
       "      <td>{'id': 16, 'name': 'Animation'}</td>\n",
       "      <td>http://toystory.disney.com/toy-story</td>\n",
       "      <td>862</td>\n",
       "      <td>tt0114709</td>\n",
       "      <td>en</td>\n",
       "      <td>Toy Story</td>\n",
       "      <td>Led by Woody, Andy's toys live happily in his ...</td>\n",
       "      <td>...</td>\n",
       "      <td>/7G9915LfUQ2lVfwMEEhDsn3kT4B.jpg</td>\n",
       "      <td>/9FBwqcd9IRruEDUrTdcaafOMKUq.jpg</td>\n",
       "      <td>16.0</td>\n",
       "      <td>Animation</td>\n",
       "      <td>Pixar Animation Studios</td>\n",
       "      <td>3.0</td>\n",
       "      <td>US</td>\n",
       "      <td>United States of America</td>\n",
       "      <td>en</td>\n",
       "      <td>English</td>\n",
       "    </tr>\n",
       "    <tr>\n",
       "      <th>1</th>\n",
       "      <td>False</td>\n",
       "      <td>{'id': 10194, 'name': 'Toy Story Collection', ...</td>\n",
       "      <td>30000000</td>\n",
       "      <td>{'id': 35, 'name': 'Comedy'}</td>\n",
       "      <td>http://toystory.disney.com/toy-story</td>\n",
       "      <td>862</td>\n",
       "      <td>tt0114709</td>\n",
       "      <td>en</td>\n",
       "      <td>Toy Story</td>\n",
       "      <td>Led by Woody, Andy's toys live happily in his ...</td>\n",
       "      <td>...</td>\n",
       "      <td>/7G9915LfUQ2lVfwMEEhDsn3kT4B.jpg</td>\n",
       "      <td>/9FBwqcd9IRruEDUrTdcaafOMKUq.jpg</td>\n",
       "      <td>35.0</td>\n",
       "      <td>Comedy</td>\n",
       "      <td>Pixar Animation Studios</td>\n",
       "      <td>3.0</td>\n",
       "      <td>US</td>\n",
       "      <td>United States of America</td>\n",
       "      <td>en</td>\n",
       "      <td>English</td>\n",
       "    </tr>\n",
       "    <tr>\n",
       "      <th>2</th>\n",
       "      <td>False</td>\n",
       "      <td>{'id': 10194, 'name': 'Toy Story Collection', ...</td>\n",
       "      <td>30000000</td>\n",
       "      <td>{'id': 10751, 'name': 'Family'}</td>\n",
       "      <td>http://toystory.disney.com/toy-story</td>\n",
       "      <td>862</td>\n",
       "      <td>tt0114709</td>\n",
       "      <td>en</td>\n",
       "      <td>Toy Story</td>\n",
       "      <td>Led by Woody, Andy's toys live happily in his ...</td>\n",
       "      <td>...</td>\n",
       "      <td>/7G9915LfUQ2lVfwMEEhDsn3kT4B.jpg</td>\n",
       "      <td>/9FBwqcd9IRruEDUrTdcaafOMKUq.jpg</td>\n",
       "      <td>10751.0</td>\n",
       "      <td>Family</td>\n",
       "      <td>Pixar Animation Studios</td>\n",
       "      <td>3.0</td>\n",
       "      <td>US</td>\n",
       "      <td>United States of America</td>\n",
       "      <td>en</td>\n",
       "      <td>English</td>\n",
       "    </tr>\n",
       "    <tr>\n",
       "      <th>3</th>\n",
       "      <td>False</td>\n",
       "      <td>{}</td>\n",
       "      <td>65000000</td>\n",
       "      <td>{'id': 12, 'name': 'Adventure'}</td>\n",
       "      <td>NaN</td>\n",
       "      <td>8844</td>\n",
       "      <td>tt0113497</td>\n",
       "      <td>en</td>\n",
       "      <td>Jumanji</td>\n",
       "      <td>When siblings Judy and Peter discover an encha...</td>\n",
       "      <td>...</td>\n",
       "      <td>NaN</td>\n",
       "      <td>NaN</td>\n",
       "      <td>12.0</td>\n",
       "      <td>Adventure</td>\n",
       "      <td>TriStar Pictures</td>\n",
       "      <td>559.0</td>\n",
       "      <td>US</td>\n",
       "      <td>United States of America</td>\n",
       "      <td>en</td>\n",
       "      <td>English</td>\n",
       "    </tr>\n",
       "    <tr>\n",
       "      <th>4</th>\n",
       "      <td>False</td>\n",
       "      <td>{}</td>\n",
       "      <td>65000000</td>\n",
       "      <td>{'id': 12, 'name': 'Adventure'}</td>\n",
       "      <td>NaN</td>\n",
       "      <td>8844</td>\n",
       "      <td>tt0113497</td>\n",
       "      <td>en</td>\n",
       "      <td>Jumanji</td>\n",
       "      <td>When siblings Judy and Peter discover an encha...</td>\n",
       "      <td>...</td>\n",
       "      <td>NaN</td>\n",
       "      <td>NaN</td>\n",
       "      <td>12.0</td>\n",
       "      <td>Adventure</td>\n",
       "      <td>TriStar Pictures</td>\n",
       "      <td>559.0</td>\n",
       "      <td>US</td>\n",
       "      <td>United States of America</td>\n",
       "      <td>fr</td>\n",
       "      <td>Français</td>\n",
       "    </tr>\n",
       "  </tbody>\n",
       "</table>\n",
       "<p>5 rows × 36 columns</p>\n",
       "</div>"
      ],
      "text/plain": [
       "   adult                              belongs_to_collection    budget  \\\n",
       "0  False  {'id': 10194, 'name': 'Toy Story Collection', ...  30000000   \n",
       "1  False  {'id': 10194, 'name': 'Toy Story Collection', ...  30000000   \n",
       "2  False  {'id': 10194, 'name': 'Toy Story Collection', ...  30000000   \n",
       "3  False                                                 {}  65000000   \n",
       "4  False                                                 {}  65000000   \n",
       "\n",
       "                            genres                              homepage  \\\n",
       "0  {'id': 16, 'name': 'Animation'}  http://toystory.disney.com/toy-story   \n",
       "1     {'id': 35, 'name': 'Comedy'}  http://toystory.disney.com/toy-story   \n",
       "2  {'id': 10751, 'name': 'Family'}  http://toystory.disney.com/toy-story   \n",
       "3  {'id': 12, 'name': 'Adventure'}                                   NaN   \n",
       "4  {'id': 12, 'name': 'Adventure'}                                   NaN   \n",
       "\n",
       "     id    imdb_id original_language original_title  \\\n",
       "0   862  tt0114709                en      Toy Story   \n",
       "1   862  tt0114709                en      Toy Story   \n",
       "2   862  tt0114709                en      Toy Story   \n",
       "3  8844  tt0113497                en        Jumanji   \n",
       "4  8844  tt0113497                en        Jumanji   \n",
       "\n",
       "                                            overview  ...  \\\n",
       "0  Led by Woody, Andy's toys live happily in his ...  ...   \n",
       "1  Led by Woody, Andy's toys live happily in his ...  ...   \n",
       "2  Led by Woody, Andy's toys live happily in his ...  ...   \n",
       "3  When siblings Judy and Peter discover an encha...  ...   \n",
       "4  When siblings Judy and Peter discover an encha...  ...   \n",
       "\n",
       "             collection_poster_path          collection_backdrop_path  \\\n",
       "0  /7G9915LfUQ2lVfwMEEhDsn3kT4B.jpg  /9FBwqcd9IRruEDUrTdcaafOMKUq.jpg   \n",
       "1  /7G9915LfUQ2lVfwMEEhDsn3kT4B.jpg  /9FBwqcd9IRruEDUrTdcaafOMKUq.jpg   \n",
       "2  /7G9915LfUQ2lVfwMEEhDsn3kT4B.jpg  /9FBwqcd9IRruEDUrTdcaafOMKUq.jpg   \n",
       "3                               NaN                               NaN   \n",
       "4                               NaN                               NaN   \n",
       "\n",
       "  genre_id genre_name             company_name  company_id  \\\n",
       "0     16.0  Animation  Pixar Animation Studios         3.0   \n",
       "1     35.0     Comedy  Pixar Animation Studios         3.0   \n",
       "2  10751.0     Family  Pixar Animation Studios         3.0   \n",
       "3     12.0  Adventure         TriStar Pictures       559.0   \n",
       "4     12.0  Adventure         TriStar Pictures       559.0   \n",
       "\n",
       "   country_iso_3166_1              country_name language_iso_639_1  \\\n",
       "0                  US  United States of America                 en   \n",
       "1                  US  United States of America                 en   \n",
       "2                  US  United States of America                 en   \n",
       "3                  US  United States of America                 en   \n",
       "4                  US  United States of America                 fr   \n",
       "\n",
       "  language_name  \n",
       "0       English  \n",
       "1       English  \n",
       "2       English  \n",
       "3       English  \n",
       "4      Français  \n",
       "\n",
       "[5 rows x 36 columns]"
      ]
     },
     "execution_count": 105,
     "metadata": {},
     "output_type": "execute_result"
    }
   ],
   "source": [
    "movies_df.head()"
   ]
  },
  {
   "cell_type": "markdown",
   "metadata": {},
   "source": [
    "##### **IMPUTACIÓN DE VALORES Y COLUMNAS Y TRATAMIENTO DE FECHAS**"
   ]
  },
  {
   "cell_type": "markdown",
   "metadata": {},
   "source": [
    "Se reemplazarán los valores nulos de las columnas requeridas, como así también, se eliminarán las columnas que no serán de utilidad para nuestro modelo:\n",
    "- columnas anidadas (trabajaremos con las desanidadas)\n",
    "- columnas relacionadas con URL e imágenes que no nos aportarán al análisis.\n",
    "- columnas con texto que describen la película (no utilizaremos procesamiento de lenguaje natural, pero podría considerarse para perfeccionar el modelo).\n",
    "\n",
    "Por último, se implementa el siguiente formato de fechas: `AAAA-mm-dd`\n",
    "\n"
   ]
  },
  {
   "cell_type": "code",
   "execution_count": 106,
   "metadata": {},
   "outputs": [],
   "source": [
    "import pandas as pd"
   ]
  },
  {
   "cell_type": "code",
   "execution_count": 107,
   "metadata": {},
   "outputs": [
    {
     "data": {
      "text/plain": [
       "Index(['adult', 'belongs_to_collection', 'budget', 'genres', 'homepage', 'id',\n",
       "       'imdb_id', 'original_language', 'original_title', 'overview',\n",
       "       'popularity', 'poster_path', 'production_companies',\n",
       "       'production_countries', 'release_date', 'revenue', 'runtime',\n",
       "       'spoken_languages', 'status', 'tagline', 'title', 'video',\n",
       "       'vote_average', 'vote_count', 'collection_id', 'collection_name',\n",
       "       'collection_poster_path', 'collection_backdrop_path', 'genre_id',\n",
       "       'genre_name', 'company_name', 'company_id', 'country_iso_3166_1',\n",
       "       'country_name', 'language_iso_639_1', 'language_name'],\n",
       "      dtype='object')"
      ]
     },
     "execution_count": 107,
     "metadata": {},
     "output_type": "execute_result"
    }
   ],
   "source": [
    "movies_df.columns"
   ]
  },
  {
   "cell_type": "code",
   "execution_count": 108,
   "metadata": {},
   "outputs": [],
   "source": [
    "# Eliminamos las columnas anidadas\n",
    "columns_to_drop = ['belongs_to_collection', 'genres', 'production_companies', 'production_countries', 'spoken_languages']\n",
    "movies_df = movies_df.drop(columns=columns_to_drop)"
   ]
  },
  {
   "cell_type": "code",
   "execution_count": 109,
   "metadata": {},
   "outputs": [
    {
     "name": "stdout",
     "output_type": "stream",
     "text": [
      "Index(['adult', 'budget', 'homepage', 'id', 'imdb_id', 'original_language',\n",
      "       'original_title', 'overview', 'popularity', 'poster_path',\n",
      "       'release_date', 'revenue', 'runtime', 'status', 'tagline', 'title',\n",
      "       'video', 'vote_average', 'vote_count', 'collection_id',\n",
      "       'collection_name', 'collection_poster_path', 'collection_backdrop_path',\n",
      "       'genre_id', 'genre_name', 'company_name', 'company_id',\n",
      "       'country_iso_3166_1', 'country_name', 'language_iso_639_1',\n",
      "       'language_name'],\n",
      "      dtype='object')\n"
     ]
    }
   ],
   "source": [
    "print(movies_df.columns)"
   ]
  },
  {
   "cell_type": "code",
   "execution_count": 110,
   "metadata": {},
   "outputs": [],
   "source": [
    "# Eliminamos las columnas relacionadas con imágenes\n",
    "columns_to_drop = ['poster_path', 'collection_poster_path', 'collection_backdrop_path']\n",
    "movies_df = movies_df.drop(columns=columns_to_drop)"
   ]
  },
  {
   "cell_type": "code",
   "execution_count": 111,
   "metadata": {},
   "outputs": [
    {
     "name": "stdout",
     "output_type": "stream",
     "text": [
      "Index(['adult', 'budget', 'homepage', 'id', 'imdb_id', 'original_language',\n",
      "       'original_title', 'overview', 'popularity', 'release_date', 'revenue',\n",
      "       'runtime', 'status', 'tagline', 'title', 'video', 'vote_average',\n",
      "       'vote_count', 'collection_id', 'collection_name', 'genre_id',\n",
      "       'genre_name', 'company_name', 'company_id', 'country_iso_3166_1',\n",
      "       'country_name', 'language_iso_639_1', 'language_name'],\n",
      "      dtype='object')\n"
     ]
    }
   ],
   "source": [
    "print(movies_df.columns)"
   ]
  },
  {
   "cell_type": "code",
   "execution_count": 113,
   "metadata": {},
   "outputs": [],
   "source": [
    "# Eliminamos columnas que no serán útiles\n",
    "columns_to_drop = ['adult', 'original_title', 'original_title', 'homepage', 'imdb_id', 'tagline', 'overview', 'status', 'video']\n",
    "movies_df = movies_df.drop(columns=columns_to_drop)"
   ]
  },
  {
   "cell_type": "code",
   "execution_count": 114,
   "metadata": {},
   "outputs": [
    {
     "data": {
      "text/plain": [
       "Index(['budget', 'id', 'original_language', 'popularity', 'release_date',\n",
       "       'revenue', 'runtime', 'title', 'vote_average', 'vote_count',\n",
       "       'collection_id', 'collection_name', 'genre_id', 'genre_name',\n",
       "       'company_name', 'company_id', 'country_iso_3166_1', 'country_name',\n",
       "       'language_iso_639_1', 'language_name'],\n",
       "      dtype='object')"
      ]
     },
     "execution_count": 114,
     "metadata": {},
     "output_type": "execute_result"
    }
   ],
   "source": [
    "movies_df.columns"
   ]
  },
  {
   "cell_type": "markdown",
   "metadata": {},
   "source": [
    "MANEJO DE VALORES NULOS DE LAS COLUMNAS SOLICITADAS:\n",
    "`revenue` - `budget` - `release_date`"
   ]
  },
  {
   "cell_type": "code",
   "execution_count": 115,
   "metadata": {},
   "outputs": [
    {
     "name": "stderr",
     "output_type": "stream",
     "text": [
      "C:\\Users\\marce\\AppData\\Local\\Temp\\ipykernel_36832\\2088379519.py:2: FutureWarning: A value is trying to be set on a copy of a DataFrame or Series through chained assignment using an inplace method.\n",
      "The behavior will change in pandas 3.0. This inplace method will never work because the intermediate object on which we are setting values always behaves as a copy.\n",
      "\n",
      "For example, when doing 'df[col].method(value, inplace=True)', try using 'df.method({col: value}, inplace=True)' or df[col] = df[col].method(value) instead, to perform the operation inplace on the original object.\n",
      "\n",
      "\n",
      "  movies_df['revenue'].fillna(0, inplace=True)\n",
      "C:\\Users\\marce\\AppData\\Local\\Temp\\ipykernel_36832\\2088379519.py:3: FutureWarning: A value is trying to be set on a copy of a DataFrame or Series through chained assignment using an inplace method.\n",
      "The behavior will change in pandas 3.0. This inplace method will never work because the intermediate object on which we are setting values always behaves as a copy.\n",
      "\n",
      "For example, when doing 'df[col].method(value, inplace=True)', try using 'df.method({col: value}, inplace=True)' or df[col] = df[col].method(value) instead, to perform the operation inplace on the original object.\n",
      "\n",
      "\n",
      "  movies_df['budget'].fillna(0, inplace=True)\n"
     ]
    }
   ],
   "source": [
    "# Se reemplazan los nulos en 'revenue' y 'budget' con 0\n",
    "movies_df['revenue'].fillna(0, inplace=True)\n",
    "movies_df['budget'].fillna(0, inplace=True)\n"
   ]
  },
  {
   "cell_type": "code",
   "execution_count": 116,
   "metadata": {},
   "outputs": [
    {
     "data": {
      "text/plain": [
       "budget                     0\n",
       "id                         0\n",
       "original_language         96\n",
       "popularity                17\n",
       "release_date             179\n",
       "revenue                    0\n",
       "runtime                  577\n",
       "title                     21\n",
       "vote_average              21\n",
       "vote_count                21\n",
       "collection_id         327816\n",
       "collection_name       327816\n",
       "genre_id                3184\n",
       "genre_name              3184\n",
       "company_name           29699\n",
       "company_id             29699\n",
       "country_iso_3166_1     11456\n",
       "country_name           11456\n",
       "language_iso_639_1      8085\n",
       "language_name           8085\n",
       "dtype: int64"
      ]
     },
     "execution_count": 116,
     "metadata": {},
     "output_type": "execute_result"
    }
   ],
   "source": [
    "movies_df.isnull().sum()"
   ]
  },
  {
   "cell_type": "code",
   "execution_count": 117,
   "metadata": {},
   "outputs": [
    {
     "name": "stdout",
     "output_type": "stream",
     "text": [
      "0\n"
     ]
    }
   ],
   "source": [
    "# Se eliminan las filas con valores nulos en 'release_date'\n",
    "movies_df = movies_df.dropna(subset=['release_date'])\n",
    "print(movies_df['release_date'].isnull().sum())"
   ]
  },
  {
   "cell_type": "markdown",
   "metadata": {},
   "source": [
    "MANEJO DE FORMATO DE FECHAS"
   ]
  },
  {
   "cell_type": "code",
   "execution_count": 118,
   "metadata": {},
   "outputs": [],
   "source": [
    "# Asegurar que la columna release_date esté en formato de fecha\n",
    "movies_df['release_date'] = pd.to_datetime(movies_df['release_date'], format='%Y-%m-%d', errors='coerce')"
   ]
  },
  {
   "cell_type": "code",
   "execution_count": 119,
   "metadata": {},
   "outputs": [
    {
     "data": {
      "text/plain": [
       "0   1995-10-30\n",
       "1   1995-10-30\n",
       "2   1995-10-30\n",
       "3   1995-12-15\n",
       "4   1995-12-15\n",
       "5   1995-12-15\n",
       "6   1995-12-15\n",
       "7   1995-12-15\n",
       "8   1995-12-15\n",
       "9   1995-12-15\n",
       "Name: release_date, dtype: datetime64[ns]"
      ]
     },
     "execution_count": 119,
     "metadata": {},
     "output_type": "execute_result"
    }
   ],
   "source": [
    "movies_df['release_date'].head(10)"
   ]
  },
  {
   "cell_type": "code",
   "execution_count": 120,
   "metadata": {},
   "outputs": [],
   "source": [
    "# Se crea la nueva columna release_year extrayendo el año de release_date\n",
    "movies_df['release_year'] = movies_df['release_date'].dt.year"
   ]
  },
  {
   "cell_type": "code",
   "execution_count": 121,
   "metadata": {},
   "outputs": [
    {
     "name": "stdout",
     "output_type": "stream",
     "text": [
      "  release_date  release_year\n",
      "0   1995-10-30        1995.0\n",
      "1   1995-10-30        1995.0\n",
      "2   1995-10-30        1995.0\n",
      "3   1995-12-15        1995.0\n",
      "4   1995-12-15        1995.0\n",
      "5   1995-12-15        1995.0\n",
      "6   1995-12-15        1995.0\n",
      "7   1995-12-15        1995.0\n",
      "8   1995-12-15        1995.0\n",
      "9   1995-12-15        1995.0\n"
     ]
    }
   ],
   "source": [
    "# Corroboramos los cambios implementados\n",
    "print(movies_df[['release_date', 'release_year']].head(10))"
   ]
  },
  {
   "cell_type": "code",
   "execution_count": 122,
   "metadata": {},
   "outputs": [
    {
     "name": "stdout",
     "output_type": "stream",
     "text": [
      "release_year    Int64\n",
      "dtype: object\n"
     ]
    }
   ],
   "source": [
    "# Se convierte 'release_year' a entero y se verifica el cambio\n",
    "movies_df['release_year'] = movies_df['release_year'].astype('Int64')\n",
    "print(movies_df[['release_year']].dtypes)\n"
   ]
  },
  {
   "cell_type": "code",
   "execution_count": 123,
   "metadata": {},
   "outputs": [
    {
     "data": {
      "text/plain": [
       "0    1995\n",
       "1    1995\n",
       "2    1995\n",
       "3    1995\n",
       "4    1995\n",
       "Name: release_year, dtype: Int64"
      ]
     },
     "execution_count": 123,
     "metadata": {},
     "output_type": "execute_result"
    }
   ],
   "source": [
    "movies_df['release_year'].head()"
   ]
  },
  {
   "cell_type": "markdown",
   "metadata": {},
   "source": [
    "CREAMOS LA COLUMNA `return` \n",
    "\n",
    "La misma contiene el retorno de inversión.\n",
    "\n",
    "Se divide `revenue` entre `budget` solo si ambos valores son mayores que 0 y se asigna el valor 0 en caso de que no haya datos disponibles o uno de los valores sea 0. Tal como se lo solicita."
   ]
  },
  {
   "cell_type": "code",
   "execution_count": 124,
   "metadata": {},
   "outputs": [],
   "source": [
    "# Nos fijamos que las columnas 'revenue' y 'budget' esten en el formato correcto\n",
    "movies_df['revenue'] = pd.to_numeric(movies_df['revenue'], errors='coerce')\n",
    "movies_df['budget'] = pd.to_numeric(movies_df['budget'], errors='coerce')"
   ]
  },
  {
   "cell_type": "code",
   "execution_count": 125,
   "metadata": {},
   "outputs": [
    {
     "name": "stdout",
     "output_type": "stream",
     "text": [
      "float64\n",
      "float64\n"
     ]
    }
   ],
   "source": [
    "# se verifican los tipos de datos y valores únicos en las columnas 'budget' y 'revenue'\n",
    "print(movies_df['budget'].dtype)\n",
    "print(movies_df['revenue'].dtype)"
   ]
  },
  {
   "cell_type": "code",
   "execution_count": 126,
   "metadata": {},
   "outputs": [
    {
     "name": "stdout",
     "output_type": "stream",
     "text": [
      "[30000000. 65000000.        0. 16000000. 60000000. 58000000. 35000000.\n",
      " 62000000. 44000000. 98000000. 52000000. 16500000.  4000000. 30250000.\n",
      " 50000000.  3600000. 12000000. 18000000. 29500000. 11000000.]\n",
      "\n",
      "\n",
      "[3.73554033e+08 2.62797249e+08 0.00000000e+00 8.14521560e+07\n",
      " 7.65789110e+07 1.87436818e+08 6.43501710e+07 3.52194034e+08\n",
      " 1.07879496e+08 1.13483240e+07 1.36817650e+07 1.00173220e+07\n",
      " 1.16112375e+08 1.35000000e+08 4.30000000e+06 2.12385533e+08\n",
      " 3.54311130e+07 1.15101622e+08 3.03030720e+07 4.98000000e+07]\n"
     ]
    }
   ],
   "source": [
    "# Revisamos si hay valores no numéricos\n",
    "print(movies_df['budget'].unique()[:20])  \n",
    "print(\"\\n\")\n",
    "print(movies_df['revenue'].unique()[:20])  \n"
   ]
  },
  {
   "cell_type": "code",
   "execution_count": 127,
   "metadata": {},
   "outputs": [],
   "source": [
    "# Se crea la columna 'return' dividiendo 'revenue' entre 'budget', asignando 0 si no es posible calcularlo\n",
    "movies_df['return'] = movies_df.apply(lambda row: row['revenue'] / row['budget'] if row['budget'] > 0 and row['revenue'] > 0 else 0, axis=1)"
   ]
  },
  {
   "cell_type": "code",
   "execution_count": 128,
   "metadata": {},
   "outputs": [
    {
     "name": "stdout",
     "output_type": "stream",
     "text": [
      "       budget      revenue     return\n",
      "0  30000000.0  373554033.0  12.451801\n",
      "1  30000000.0  373554033.0  12.451801\n",
      "2  30000000.0  373554033.0  12.451801\n",
      "3  65000000.0  262797249.0   4.043035\n",
      "4  65000000.0  262797249.0   4.043035\n",
      "5  65000000.0  262797249.0   4.043035\n",
      "6  65000000.0  262797249.0   4.043035\n",
      "7  65000000.0  262797249.0   4.043035\n",
      "8  65000000.0  262797249.0   4.043035\n",
      "9  65000000.0  262797249.0   4.043035\n"
     ]
    }
   ],
   "source": [
    "# Miramos los primeros valores\n",
    "print(movies_df[['budget', 'revenue', 'return']].head(10))"
   ]
  },
  {
   "cell_type": "code",
   "execution_count": 130,
   "metadata": {},
   "outputs": [
    {
     "name": "stdout",
     "output_type": "stream",
     "text": [
      "<class 'pandas.core.frame.DataFrame'>\n",
      "Index: 380870 entries, 0 to 381048\n",
      "Data columns (total 22 columns):\n",
      " #   Column              Non-Null Count   Dtype         \n",
      "---  ------              --------------   -----         \n",
      " 0   budget              380858 non-null  float64       \n",
      " 1   id                  380870 non-null  object        \n",
      " 2   original_language   380774 non-null  object        \n",
      " 3   popularity          380862 non-null  object        \n",
      " 4   release_date        380858 non-null  datetime64[ns]\n",
      " 5   revenue             380870 non-null  float64       \n",
      " 6   runtime             380314 non-null  float64       \n",
      " 7   title               380858 non-null  object        \n",
      " 8   vote_average        380858 non-null  float64       \n",
      " 9   vote_count          380858 non-null  float64       \n",
      " 10  collection_id       53224 non-null   float64       \n",
      " 11  collection_name     53224 non-null   object        \n",
      " 12  genre_id            377745 non-null  float64       \n",
      " 13  genre_name          377745 non-null  object        \n",
      " 14  company_name        351277 non-null  object        \n",
      " 15  company_id          351277 non-null  float64       \n",
      " 16  country_iso_3166_1  369508 non-null  object        \n",
      " 17  country_name        369508 non-null  object        \n",
      " 18  language_iso_639_1  372863 non-null  object        \n",
      " 19  language_name       372863 non-null  object        \n",
      " 20  release_year        380858 non-null  Int64         \n",
      " 21  return              380870 non-null  float64       \n",
      "dtypes: Int64(1), datetime64[ns](1), float64(9), object(11)\n",
      "memory usage: 67.2+ MB\n"
     ]
    }
   ],
   "source": [
    "movies_df.info()"
   ]
  },
  {
   "cell_type": "markdown",
   "metadata": {},
   "source": [
    "##### **EXPORTACIÓN EN FORMATO PARQUET**\n",
    "\n",
    "El dataframe finalmente procesado será convertido en Parquet, debido a que este formato es más eficiente para cargas más rápidas."
   ]
  }
 ],
 "metadata": {
  "kernelspec": {
   "display_name": "venvmlops",
   "language": "python",
   "name": "python3"
  },
  "language_info": {
   "codemirror_mode": {
    "name": "ipython",
    "version": 3
   },
   "file_extension": ".py",
   "mimetype": "text/x-python",
   "name": "python",
   "nbconvert_exporter": "python",
   "pygments_lexer": "ipython3",
   "version": "3.10.11"
  }
 },
 "nbformat": 4,
 "nbformat_minor": 2
}
